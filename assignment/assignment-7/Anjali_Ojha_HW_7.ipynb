{
 "cells": [
  {
   "cell_type": "markdown",
   "id": "05c49b86",
   "metadata": {
    "id": "05c49b86"
   },
   "source": [
    "# You will be working with basic Word2Vec Problems.\n",
    "\n",
    "# Step 1: Load the Wikipedia GLoVE Word2Vec.\n"
   ]
  },
  {
   "cell_type": "code",
   "execution_count": 1,
   "id": "713bd096",
   "metadata": {
    "id": "713bd096"
   },
   "outputs": [],
   "source": [
    "import os, sys\n",
    "import pandas as pd\n",
    "import numpy as np\n",
    "import re\n",
    "import string\n",
    "import nltk\n",
    "from nltk.corpus import stopwords\n",
    "from gensim.models import KeyedVectors, Word2Vec\n",
    "from sklearn.model_selection import train_test_split\n",
    "from sklearn.metrics import confusion_matrix, classification_report\n",
    "from sklearn.preprocessing import scale\n",
    "import matplotlib.pyplot as plt\n",
    "import seaborn as sns\n",
    "from sklearn.ensemble import GradientBoostingClassifier\n",
    "from tqdm import tqdm"
   ]
  },
  {
   "cell_type": "code",
   "execution_count": 25,
   "id": "55c57ee2",
   "metadata": {
    "colab": {
     "base_uri": "https://localhost:8080/"
    },
    "id": "55c57ee2",
    "outputId": "30b286ab-7e56-42cb-aec1-838c830cb82a"
   },
   "outputs": [],
   "source": [
    "nltk.download('stopwords')"
   ]
  },
  {
   "cell_type": "markdown",
   "id": "5f9648a5",
   "metadata": {},
   "source": [
    "# Step 1: Load the Wikipedia GLoVE Word2Vec\n",
    "\n",
    "### What we're doing:\n",
    "In this step, we're loading the pre-trained GloVe (Global Vectors for Word Representation) model that has been trained on a large corpus (Wikipedia data and Gigaword) into our Python environment.\n",
    "\n",
    "### Using:\n",
    "We're using the gensim library, specifically the KeyedVectors class, to load the GloVe model. The GloVe \n",
    "model file we're using is glove.6B.100d.txt, which represents 100-dimensional word vectors trained on the combined dataset.\n",
    "\n",
    "### Why:\n",
    "Loading a pre-trained model like GloVe allows us to leverage a rich set of word embeddings that capture the semantic relationships between words based on their co-occurrence in a large corpus. This is foundational for performing natural language processing tasks like computing word similarities, as it provides us with a meaningful representation of words in a high-dimensional space."
   ]
  },
  {
   "cell_type": "markdown",
   "id": "721633ab",
   "metadata": {},
   "source": [
    "# Loading the GloVe Model:\n"
   ]
  },
  {
   "cell_type": "code",
   "execution_count": 3,
   "id": "f8ced03c",
   "metadata": {},
   "outputs": [],
   "source": [
    "# ! rm -f glove.6B*\n",
    "# ! wget  https://nlp.stanford.edu/data/glove.6B.zip\n",
    "# ! unzip glove.6B.zip"
   ]
  },
  {
   "cell_type": "code",
   "execution_count": 4,
   "id": "b0859bd1",
   "metadata": {},
   "outputs": [],
   "source": [
    "base_path = '/Users/hims/Downloads/glove.6B'\n",
    "# base_path = './'"
   ]
  },
  {
   "cell_type": "code",
   "execution_count": 5,
   "id": "30200644",
   "metadata": {},
   "outputs": [],
   "source": [
    "def load_model(model_path):\n",
    "    return KeyedVectors.load_word2vec_format(model_path, \n",
    "                                             binary=False, \n",
    "                                             no_header=True)"
   ]
  },
  {
   "cell_type": "markdown",
   "id": "64ecb86d",
   "metadata": {},
   "source": [
    "# Step 2: Show how similar are these words:\n",
    "\n",
    "    * Man and Woman, \n",
    "    * Chair and Throne\n",
    "    * water and baby"
   ]
  },
  {
   "cell_type": "code",
   "execution_count": 6,
   "id": "5a20109d",
   "metadata": {},
   "outputs": [],
   "source": [
    "word_pairs = [\n",
    "    ('Man', 'Woman'),\n",
    "    ('Chair', 'Throne'),\n",
    "    ('water', 'baby')\n",
    "]\n",
    "\n",
    "def evaluate(model, model_name):\n",
    "    print(f\"\\nUsing Model = {model_name}\")\n",
    "    for word1, word2 in word_pairs:\n",
    "        similarity = model.similarity(word1.lower(), word2.lower())\n",
    "        print(f\"\\tSimilarity between '{word1}' and '{word2}': {similarity:.4f}\")\n"
   ]
  },
  {
   "cell_type": "markdown",
   "id": "5787ff4d",
   "metadata": {},
   "source": [
    "The scores are same with all 4 models.\n",
    "\n",
    "* Similarity between 'man' and 'woman': 0.8323 - A similarity score of 0.8323 is very high, indicating that  \"man\" and \"woman\" are closely related in the vector space and they often used in same context and sometime together.\n",
    "\n",
    "\n",
    "* Similarity between 'chair' and 'throne': 0.3001 - The similarity score of 0.3001 for \"chair\" and \"throne\" is much lower than that of \"man\" and \"woman,\" suggesting a more distant relationship because often throne refer with kings and queens but chair is very common in real world.\n",
    "\n",
    "\n",
    "* Similarity between 'water' and 'baby': 0.4032 - The similarity score of 0.4032 for \"water\" and \"baby\" , they aretwo differnt entity and even metaphorically they are distant. The medium  score  suggests that there will be enough cocurrence in the training data."
   ]
  },
  {
   "cell_type": "markdown",
   "id": "298c76fb",
   "metadata": {},
   "source": [
    "# Loading the 100-Dimensional GloVe Model:"
   ]
  },
  {
   "cell_type": "code",
   "execution_count": 7,
   "id": "0dec33e9",
   "metadata": {},
   "outputs": [
    {
     "name": "stdout",
     "output_type": "stream",
     "text": [
      "\n",
      "Using Model = model_100d\n",
      "\tSimilarity between 'Man' and 'Woman': 0.8323\n",
      "\tSimilarity between 'Chair' and 'Throne': 0.3001\n",
      "\tSimilarity between 'water' and 'baby': 0.4032\n"
     ]
    }
   ],
   "source": [
    "glove_input_file_100d = f'{base_path}/glove.6B.100d.txt'  \n",
    "model_100d = load_model(glove_input_file_100d)\n",
    "evaluate(model_100d, \"model_100d\")"
   ]
  },
  {
   "cell_type": "markdown",
   "id": "4b4329aa",
   "metadata": {},
   "source": [
    "# Loading the 200-Dimensional GloVe Model:\n"
   ]
  },
  {
   "cell_type": "code",
   "execution_count": 8,
   "id": "8be0c06e",
   "metadata": {},
   "outputs": [
    {
     "name": "stdout",
     "output_type": "stream",
     "text": [
      "\n",
      "Using Model = model_200d\n",
      "\tSimilarity between 'Man' and 'Woman': 0.7520\n",
      "\tSimilarity between 'Chair' and 'Throne': 0.2469\n",
      "\tSimilarity between 'water' and 'baby': 0.3530\n"
     ]
    }
   ],
   "source": [
    "glove_input_file_200d = f'{base_path}/glove.6B.200d.txt'  \n",
    "# model_200d = KeyedVectors.load_word2vec_format(glove_input_file_200d, binary=False, no_header=True)\n",
    "model_200d = load_model(glove_input_file_200d)\n",
    "evaluate(model_200d, \"model_200d\")"
   ]
  },
  {
   "cell_type": "markdown",
   "id": "c575c05f",
   "metadata": {},
   "source": [
    "# Loading the 300-Dimensional GloVe Model:\n"
   ]
  },
  {
   "cell_type": "code",
   "execution_count": 9,
   "id": "4ca456da",
   "metadata": {},
   "outputs": [
    {
     "name": "stdout",
     "output_type": "stream",
     "text": [
      "\n",
      "Using Model = model_300d\n",
      "\tSimilarity between 'Man' and 'Woman': 0.6999\n",
      "\tSimilarity between 'Chair' and 'Throne': 0.2755\n",
      "\tSimilarity between 'water' and 'baby': 0.2417\n"
     ]
    }
   ],
   "source": [
    "glove_input_file_300d = f'{base_path}/glove.6B.300d.txt'  \n",
    "# model_300d = KeyedVectors.load_word2vec_format(glove_input_file_300d, binary=False, no_header=True)\n",
    "model_300d = load_model(glove_input_file_300d)\n",
    "evaluate(model_300d, \"model_300d\")"
   ]
  },
  {
   "cell_type": "markdown",
   "id": "353fde1f",
   "metadata": {},
   "source": [
    "We opt to use the 300-dimensional model despite the lower similarity scores compared to the 100-dimensional model because the 300d model is capable of capturing a more detailed and nuanced understanding of word meanings and relationships. This richness and depth in representation can be crucial for tasks requiring a finer grasp of linguistic subtleties."
   ]
  },
  {
   "cell_type": "markdown",
   "id": "86330b72",
   "metadata": {},
   "source": [
    "# Step 3: Using these provide analogies for the following:\n",
    "\n",
    "    _____ is to King as Woman is to Man.\n",
    "    _____ is to Princess as Man is to Woman.\n",
    "    _____ is to a woman as a child is to an adult."
   ]
  },
  {
   "cell_type": "code",
   "execution_count": 10,
   "id": "e5a5f604",
   "metadata": {},
   "outputs": [
    {
     "name": "stdout",
     "output_type": "stream",
     "text": [
      "\n",
      "Processing  sentence = '_____ is to King as Woman is to Man.' \n",
      "\n",
      "\tpositive = ['woman', 'king'], negative = ['man'], result = [('queen', 0.6713277101516724)]\n",
      "\n",
      "\tFinal Sentence : 'Queen is to King as Woman is to Man.' \n",
      "\n",
      "\n",
      "\n",
      "Processing  sentence = '_____ is to Princess as Man is to Woman.' \n",
      "\n",
      "\tpositive = ['man', 'princess'], negative = ['woman'], result = [('prince', 0.653658926486969)]\n",
      "\n",
      "\tFinal Sentence : 'Prince is to Princess as Man is to Woman.' \n",
      "\n",
      "\n",
      "\n",
      "Processing  sentence = '_____ is to a woman as a child is to an adult.' \n",
      "\n",
      "\tpositive = ['child', 'woman'], negative = ['adult'], result = [('mother', 0.6800265908241272)]\n",
      "\n",
      "\tFinal Sentence : 'Mother is to a woman as a child is to an adult.' \n",
      "\n",
      "\n"
     ]
    }
   ],
   "source": [
    "sentences = [ \"_____ is to King as Woman is to Man.\",\n",
    "              \"_____ is to Princess as Man is to Woman.\",\n",
    "              \"_____ is to a woman as a child is to an adult.\",\n",
    "            ]\n",
    "\n",
    "def to_camel_case(word):\n",
    "    return word[0].upper() + word[1:]\n",
    "    \n",
    "for sentence in sentences:\n",
    "    print(f\"\\nProcessing { sentence = } \\n\")\n",
    "    sentence = sentence.strip()\n",
    "\n",
    "    first = sentence.split(\"is to\")[1].strip().split(\" \")[-1].strip().lower()\n",
    "    second = sentence.split(\"as\")[0].strip().split(\" \")[-1].strip().lower()\n",
    "\n",
    "    positive = [first, second]\n",
    "    negative = [sentence.strip().split(\" \")[-1].replace(\".\", \"\").lower().strip()]\n",
    "    \n",
    "    result = model_300d.most_similar(positive=positive, negative=negative, topn=1)\n",
    "    \n",
    "    print(f\"\\t{positive = }, {negative = }, {result = }\")\n",
    "    \n",
    "    sentence = sentence.replace(\"_____\", to_camel_case(result[0][0]))\n",
    "    print(f\"\\n\\tFinal Sentence : '{sentence}' \\n\\n\")\n",
    "     "
   ]
  },
  {
   "cell_type": "markdown",
   "id": "3218c757",
   "metadata": {},
   "source": [
    "## Step 4: Apply Naive-Bayes Classifier on the Spam-Ham dataset shown in the demo."
   ]
  },
  {
   "cell_type": "code",
   "execution_count": 11,
   "id": "08552271",
   "metadata": {},
   "outputs": [],
   "source": [
    "! rm -rf spam.csv\n",
    "! wget --quiet https://raw.githubusercontent.com/anjali-ojha/deep-learning/ass-7/spam.csv"
   ]
  },
  {
   "cell_type": "code",
   "execution_count": 12,
   "id": "fdecf649",
   "metadata": {},
   "outputs": [
    {
     "data": {
      "text/html": [
       "<div>\n",
       "<style scoped>\n",
       "    .dataframe tbody tr th:only-of-type {\n",
       "        vertical-align: middle;\n",
       "    }\n",
       "\n",
       "    .dataframe tbody tr th {\n",
       "        vertical-align: top;\n",
       "    }\n",
       "\n",
       "    .dataframe thead th {\n",
       "        text-align: right;\n",
       "    }\n",
       "</style>\n",
       "<table border=\"1\" class=\"dataframe\">\n",
       "  <thead>\n",
       "    <tr style=\"text-align: right;\">\n",
       "      <th></th>\n",
       "      <th>v1</th>\n",
       "      <th>v2</th>\n",
       "      <th>Unnamed: 2</th>\n",
       "      <th>Unnamed: 3</th>\n",
       "      <th>Unnamed: 4</th>\n",
       "    </tr>\n",
       "  </thead>\n",
       "  <tbody>\n",
       "    <tr>\n",
       "      <th>count</th>\n",
       "      <td>5572</td>\n",
       "      <td>5572</td>\n",
       "      <td>50</td>\n",
       "      <td>12</td>\n",
       "      <td>6</td>\n",
       "    </tr>\n",
       "    <tr>\n",
       "      <th>unique</th>\n",
       "      <td>2</td>\n",
       "      <td>5169</td>\n",
       "      <td>43</td>\n",
       "      <td>10</td>\n",
       "      <td>5</td>\n",
       "    </tr>\n",
       "    <tr>\n",
       "      <th>top</th>\n",
       "      <td>ham</td>\n",
       "      <td>Sorry, I'll call later</td>\n",
       "      <td>bt not his girlfrnd... G o o d n i g h t . . .@\"</td>\n",
       "      <td>MK17 92H. 450Ppw 16\"</td>\n",
       "      <td>GNT:-)\"</td>\n",
       "    </tr>\n",
       "    <tr>\n",
       "      <th>freq</th>\n",
       "      <td>4825</td>\n",
       "      <td>30</td>\n",
       "      <td>3</td>\n",
       "      <td>2</td>\n",
       "      <td>2</td>\n",
       "    </tr>\n",
       "  </tbody>\n",
       "</table>\n",
       "</div>"
      ],
      "text/plain": [
       "          v1                      v2  \\\n",
       "count   5572                    5572   \n",
       "unique     2                    5169   \n",
       "top      ham  Sorry, I'll call later   \n",
       "freq    4825                      30   \n",
       "\n",
       "                                               Unnamed: 2  \\\n",
       "count                                                  50   \n",
       "unique                                                 43   \n",
       "top      bt not his girlfrnd... G o o d n i g h t . . .@\"   \n",
       "freq                                                    3   \n",
       "\n",
       "                   Unnamed: 3 Unnamed: 4  \n",
       "count                      12          6  \n",
       "unique                     10          5  \n",
       "top      MK17 92H. 450Ppw 16\"    GNT:-)\"  \n",
       "freq                        2          2  "
      ]
     },
     "execution_count": 12,
     "metadata": {},
     "output_type": "execute_result"
    }
   ],
   "source": [
    "data = pd.read_csv('spam.csv', encoding='latin-1')\n",
    "data.describe()"
   ]
  },
  {
   "cell_type": "code",
   "execution_count": 13,
   "id": "493ef8a9",
   "metadata": {},
   "outputs": [
    {
     "data": {
      "text/html": [
       "<div>\n",
       "<style scoped>\n",
       "    .dataframe tbody tr th:only-of-type {\n",
       "        vertical-align: middle;\n",
       "    }\n",
       "\n",
       "    .dataframe tbody tr th {\n",
       "        vertical-align: top;\n",
       "    }\n",
       "\n",
       "    .dataframe thead th {\n",
       "        text-align: right;\n",
       "    }\n",
       "</style>\n",
       "<table border=\"1\" class=\"dataframe\">\n",
       "  <thead>\n",
       "    <tr style=\"text-align: right;\">\n",
       "      <th></th>\n",
       "      <th>v1</th>\n",
       "      <th>v2</th>\n",
       "      <th>pre_processed_sms</th>\n",
       "    </tr>\n",
       "  </thead>\n",
       "  <tbody>\n",
       "    <tr>\n",
       "      <th>0</th>\n",
       "      <td>ham</td>\n",
       "      <td>Go until jurong point, crazy.. Available only ...</td>\n",
       "      <td>go jurong point crazy available bugis n great ...</td>\n",
       "    </tr>\n",
       "    <tr>\n",
       "      <th>1</th>\n",
       "      <td>ham</td>\n",
       "      <td>Ok lar... Joking wif u oni...</td>\n",
       "      <td>ok lar joking wif u oni</td>\n",
       "    </tr>\n",
       "    <tr>\n",
       "      <th>2</th>\n",
       "      <td>spam</td>\n",
       "      <td>Free entry in 2 a wkly comp to win FA Cup fina...</td>\n",
       "      <td>free entry  wkly comp win fa cup final tkts st...</td>\n",
       "    </tr>\n",
       "    <tr>\n",
       "      <th>3</th>\n",
       "      <td>ham</td>\n",
       "      <td>U dun say so early hor... U c already then say...</td>\n",
       "      <td>u dun say early hor u c already say</td>\n",
       "    </tr>\n",
       "    <tr>\n",
       "      <th>4</th>\n",
       "      <td>ham</td>\n",
       "      <td>Nah I don't think he goes to usf, he lives aro...</td>\n",
       "      <td>nah dont think goes usf lives around though</td>\n",
       "    </tr>\n",
       "  </tbody>\n",
       "</table>\n",
       "</div>"
      ],
      "text/plain": [
       "     v1                                                 v2  \\\n",
       "0   ham  Go until jurong point, crazy.. Available only ...   \n",
       "1   ham                      Ok lar... Joking wif u oni...   \n",
       "2  spam  Free entry in 2 a wkly comp to win FA Cup fina...   \n",
       "3   ham  U dun say so early hor... U c already then say...   \n",
       "4   ham  Nah I don't think he goes to usf, he lives aro...   \n",
       "\n",
       "                                   pre_processed_sms  \n",
       "0  go jurong point crazy available bugis n great ...  \n",
       "1                            ok lar joking wif u oni  \n",
       "2  free entry  wkly comp win fa cup final tkts st...  \n",
       "3                u dun say early hor u c already say  \n",
       "4        nah dont think goes usf lives around though  "
      ]
     },
     "execution_count": 13,
     "metadata": {},
     "output_type": "execute_result"
    }
   ],
   "source": [
    "def text_pre_processing(sms):\n",
    "    \n",
    "    # removing punctuations\n",
    "    sms_wo_punct = [x for x in sms if x not in string.punctuation]\n",
    "    sms_wo_punct = ''.join(sms_wo_punct)\n",
    "    \n",
    "    # keeping only english letters\n",
    "    sms_wo_punct_only_words = [x for x in sms_wo_punct if x.isalpha() or x == \" \"]\n",
    "    sms_wo_punct_only_words = ''.join(sms_wo_punct_only_words)\n",
    "    \n",
    "    # converting the data to lower case\n",
    "    sms_wo_punct_only_words_lc = sms_wo_punct_only_words.lower()\n",
    "    \n",
    "    # removing stopwords\n",
    "    sms_wo_punct_only_words_lc = sms_wo_punct_only_words_lc.split(\" \")\n",
    "    sms_wo_punct_only_words_lc_wo_sw = [x for x in sms_wo_punct_only_words_lc if x not in stopwords.words('english')]\n",
    "    sms_wo_punct_only_words_lc_wo_sw = ' '.join(sms_wo_punct_only_words_lc_wo_sw)\n",
    "    \n",
    "    return sms_wo_punct_only_words_lc_wo_sw\n",
    "\n",
    "\n",
    "# Applying preprocessing to each SMS\n",
    "data['pre_processed_sms'] = data['v2'].apply(text_pre_processing)\n",
    "data[['v1', 'v2', 'pre_processed_sms']].head()"
   ]
  },
  {
   "cell_type": "code",
   "execution_count": 14,
   "id": "edc32087",
   "metadata": {},
   "outputs": [
    {
     "name": "stdout",
     "output_type": "stream",
     "text": [
      "Training Size = 4179, 4179\n",
      "Test Size     = 1393, 1393\n"
     ]
    }
   ],
   "source": [
    "def split_data_train_test(X, y):\n",
    "    X_train, X_test, y_train, y_test = train_test_split(X, y, test_size=0.2, random_state=42)\n",
    "\n",
    "\n",
    "X = data['pre_processed_sms']\n",
    "y = data['v1']\n",
    "X_train, X_test, y_train, y_test = train_test_split(X, y)\n",
    "\n",
    "print(f\"Training Size = {X_train.shape[0]}, {y_train.shape[0]}\")\n",
    "print(f\"Test Size     = {X_test.shape[0]}, {y_test.shape[0]}\")"
   ]
  },
  {
   "cell_type": "code",
   "execution_count": 15,
   "id": "be6275fa",
   "metadata": {},
   "outputs": [],
   "source": [
    "\"\"\"\n",
    "Step 4: Convert Text to Features using TF-IDF to convert the preprocessed text into a \n",
    "        matrix of TF-IDF features.\n",
    "\n",
    "\"\"\"\n",
    "from sklearn.feature_extraction.text import TfidfVectorizer\n",
    "\n",
    "tfidf_vectorizer = TfidfVectorizer()\n",
    "X_train_tfidf = tfidf_vectorizer.fit_transform(X_train)\n",
    "X_test_tfidf = tfidf_vectorizer.transform(X_test)"
   ]
  },
  {
   "cell_type": "code",
   "execution_count": 16,
   "id": "c2dbf86c",
   "metadata": {},
   "outputs": [
    {
     "data": {
      "text/html": [
       "<style>#sk-container-id-1 {color: black;background-color: white;}#sk-container-id-1 pre{padding: 0;}#sk-container-id-1 div.sk-toggleable {background-color: white;}#sk-container-id-1 label.sk-toggleable__label {cursor: pointer;display: block;width: 100%;margin-bottom: 0;padding: 0.3em;box-sizing: border-box;text-align: center;}#sk-container-id-1 label.sk-toggleable__label-arrow:before {content: \"▸\";float: left;margin-right: 0.25em;color: #696969;}#sk-container-id-1 label.sk-toggleable__label-arrow:hover:before {color: black;}#sk-container-id-1 div.sk-estimator:hover label.sk-toggleable__label-arrow:before {color: black;}#sk-container-id-1 div.sk-toggleable__content {max-height: 0;max-width: 0;overflow: hidden;text-align: left;background-color: #f0f8ff;}#sk-container-id-1 div.sk-toggleable__content pre {margin: 0.2em;color: black;border-radius: 0.25em;background-color: #f0f8ff;}#sk-container-id-1 input.sk-toggleable__control:checked~div.sk-toggleable__content {max-height: 200px;max-width: 100%;overflow: auto;}#sk-container-id-1 input.sk-toggleable__control:checked~label.sk-toggleable__label-arrow:before {content: \"▾\";}#sk-container-id-1 div.sk-estimator input.sk-toggleable__control:checked~label.sk-toggleable__label {background-color: #d4ebff;}#sk-container-id-1 div.sk-label input.sk-toggleable__control:checked~label.sk-toggleable__label {background-color: #d4ebff;}#sk-container-id-1 input.sk-hidden--visually {border: 0;clip: rect(1px 1px 1px 1px);clip: rect(1px, 1px, 1px, 1px);height: 1px;margin: -1px;overflow: hidden;padding: 0;position: absolute;width: 1px;}#sk-container-id-1 div.sk-estimator {font-family: monospace;background-color: #f0f8ff;border: 1px dotted black;border-radius: 0.25em;box-sizing: border-box;margin-bottom: 0.5em;}#sk-container-id-1 div.sk-estimator:hover {background-color: #d4ebff;}#sk-container-id-1 div.sk-parallel-item::after {content: \"\";width: 100%;border-bottom: 1px solid gray;flex-grow: 1;}#sk-container-id-1 div.sk-label:hover label.sk-toggleable__label {background-color: #d4ebff;}#sk-container-id-1 div.sk-serial::before {content: \"\";position: absolute;border-left: 1px solid gray;box-sizing: border-box;top: 0;bottom: 0;left: 50%;z-index: 0;}#sk-container-id-1 div.sk-serial {display: flex;flex-direction: column;align-items: center;background-color: white;padding-right: 0.2em;padding-left: 0.2em;position: relative;}#sk-container-id-1 div.sk-item {position: relative;z-index: 1;}#sk-container-id-1 div.sk-parallel {display: flex;align-items: stretch;justify-content: center;background-color: white;position: relative;}#sk-container-id-1 div.sk-item::before, #sk-container-id-1 div.sk-parallel-item::before {content: \"\";position: absolute;border-left: 1px solid gray;box-sizing: border-box;top: 0;bottom: 0;left: 50%;z-index: -1;}#sk-container-id-1 div.sk-parallel-item {display: flex;flex-direction: column;z-index: 1;position: relative;background-color: white;}#sk-container-id-1 div.sk-parallel-item:first-child::after {align-self: flex-end;width: 50%;}#sk-container-id-1 div.sk-parallel-item:last-child::after {align-self: flex-start;width: 50%;}#sk-container-id-1 div.sk-parallel-item:only-child::after {width: 0;}#sk-container-id-1 div.sk-dashed-wrapped {border: 1px dashed gray;margin: 0 0.4em 0.5em 0.4em;box-sizing: border-box;padding-bottom: 0.4em;background-color: white;}#sk-container-id-1 div.sk-label label {font-family: monospace;font-weight: bold;display: inline-block;line-height: 1.2em;}#sk-container-id-1 div.sk-label-container {text-align: center;}#sk-container-id-1 div.sk-container {/* jupyter's `normalize.less` sets `[hidden] { display: none; }` but bootstrap.min.css set `[hidden] { display: none !important; }` so we also need the `!important` here to be able to override the default hidden behavior on the sphinx rendered scikit-learn.org. See: https://github.com/scikit-learn/scikit-learn/issues/21755 */display: inline-block !important;position: relative;}#sk-container-id-1 div.sk-text-repr-fallback {display: none;}</style><div id=\"sk-container-id-1\" class=\"sk-top-container\"><div class=\"sk-text-repr-fallback\"><pre>MultinomialNB()</pre><b>In a Jupyter environment, please rerun this cell to show the HTML representation or trust the notebook. <br />On GitHub, the HTML representation is unable to render, please try loading this page with nbviewer.org.</b></div><div class=\"sk-container\" hidden><div class=\"sk-item\"><div class=\"sk-estimator sk-toggleable\"><input class=\"sk-toggleable__control sk-hidden--visually\" id=\"sk-estimator-id-1\" type=\"checkbox\" checked><label for=\"sk-estimator-id-1\" class=\"sk-toggleable__label sk-toggleable__label-arrow\">MultinomialNB</label><div class=\"sk-toggleable__content\"><pre>MultinomialNB()</pre></div></div></div></div></div>"
      ],
      "text/plain": [
       "MultinomialNB()"
      ]
     },
     "execution_count": 16,
     "metadata": {},
     "output_type": "execute_result"
    }
   ],
   "source": [
    "\"\"\"\n",
    "Step 5: Train the Naive Bayes Classifier using the TF-IDF features.\n",
    "\"\"\"\n",
    "\n",
    "from sklearn.naive_bayes import MultinomialNB\n",
    "\n",
    "nb_classifier = MultinomialNB()\n",
    "nb_classifier.fit(X_train_tfidf, y_train)"
   ]
  },
  {
   "cell_type": "code",
   "execution_count": 17,
   "id": "b802acc2",
   "metadata": {},
   "outputs": [],
   "source": [
    "\"\"\"\n",
    "Predict on the test data. Getting both Probabilities and Prediction Labels.\n",
    "\"\"\"\n",
    "y_pred = nb_classifier.predict(X_test_tfidf)"
   ]
  },
  {
   "cell_type": "code",
   "execution_count": 18,
   "id": "17196ef7",
   "metadata": {},
   "outputs": [],
   "source": [
    "def calculate_metrics_and_plot(y_test, y_pred):\n",
    "    \"\"\"\n",
    "    Plotting the Confusion Matrix.\n",
    "    \"\"\"\n",
    "    report = classification_report(y_test, y_pred, target_names=['Ham', 'Spam'], output_dict=True)\n",
    "    print(classification_report(y_test, y_pred, target_names=['Ham', 'Spam']))\n",
    "\n",
    "    plt.figure(figsize=(5,4))\n",
    "    sns.heatmap(confusion_matrix(y_test, y_pred), annot=True, \n",
    "                fmt='d', cmap='Blues', xticklabels=['Ham', 'Spam'], \n",
    "                yticklabels=['Ham', 'Spam'])\n",
    "    plt.title('Confusion Matrix for Naive Bayes Classifier')\n",
    "    plt.xlabel('Predicted Labels')\n",
    "    plt.ylabel('True Labels')\n",
    "    plt.show()"
   ]
  },
  {
   "cell_type": "code",
   "execution_count": 19,
   "id": "65dc05f8",
   "metadata": {},
   "outputs": [
    {
     "name": "stdout",
     "output_type": "stream",
     "text": [
      "              precision    recall  f1-score   support\n",
      "\n",
      "         Ham       0.96      1.00      0.98      1213\n",
      "        Spam       1.00      0.71      0.83       180\n",
      "\n",
      "    accuracy                           0.96      1393\n",
      "   macro avg       0.98      0.85      0.90      1393\n",
      "weighted avg       0.96      0.96      0.96      1393\n",
      "\n"
     ]
    },
    {
     "data": {
      "image/png": "[encoded data removed]",
      "text/plain": [
       "<Figure size 500x400 with 2 Axes>"
      ]
     },
     "metadata": {},
     "output_type": "display_data"
    }
   ],
   "source": [
    "calculate_metrics_and_plot(y_test, y_pred)"
   ]
  },
  {
   "cell_type": "markdown",
   "id": "94196d5c",
   "metadata": {},
   "source": [
    "### Other Appraoch -  to build features using Word2Vec"
   ]
  },
  {
   "cell_type": "code",
   "execution_count": 20,
   "id": "e9fd35cd",
   "metadata": {},
   "outputs": [
    {
     "name": "stdout",
     "output_type": "stream",
     "text": [
      "Training Size = 4457, 4457\n",
      "Test Size     = 1115, 1115\n"
     ]
    }
   ],
   "source": [
    "X = data['pre_processed_sms']\n",
    "y = data['v1']\n",
    "X_train, X_test, y_train, y_test = train_test_split(X, y, test_size=0.2, random_state=42)\n",
    "\n",
    "X_train = X_train.reset_index(drop = True)\n",
    "X_test = X_test.reset_index(drop = True)\n",
    "y_train = y_train.reset_index(drop = True)\n",
    "y_test = y_test.reset_index(drop = True)\n",
    "\n",
    "print(f\"Training Size = {X_train.shape[0]}, {y_train.shape[0]}\")\n",
    "print(f\"Test Size     = {X_test.shape[0]}, {y_test.shape[0]}\")"
   ]
  },
  {
   "cell_type": "code",
   "execution_count": 21,
   "id": "9a44964e",
   "metadata": {},
   "outputs": [],
   "source": [
    "wv_model = Word2Vec(sentences=X_train, vector_size=500, window=5, min_count=1, workers=4)"
   ]
  },
  {
   "cell_type": "code",
   "execution_count": 22,
   "id": "7a36e9fc",
   "metadata": {},
   "outputs": [
    {
     "name": "stdout",
     "output_type": "stream",
     "text": [
      "(4457,) (1115,)\n",
      "(4457, 500) (1115, 500)\n",
      "(4457, 500) (1115, 500)\n",
      "Training Size = 4457, (4457,)\n",
      "Test Size     = 1115,  (1115,)\n"
     ]
    }
   ],
   "source": [
    "\"\"\"\n",
    "Feature Generation using Words2Vec\n",
    "\"\"\"\n",
    "\n",
    "from sklearn.preprocessing import MinMaxScaler\n",
    "\n",
    "def convert_word_to_vector(sms, size):\n",
    "    vec = np.zeros(size).reshape((1, size))\n",
    "    count = 0\n",
    "    for word in sms:\n",
    "        try:\n",
    "            vec += wv_model.wv[word].reshape((1, size))\n",
    "            count += 1.\n",
    "        except KeyError:\n",
    "            continue\n",
    "    if count != 0:\n",
    "        vec /= count\n",
    "    return vec\n",
    "\n",
    "\n",
    "X_train_vecs = scale(np.concatenate([convert_word_to_vector(z, 500) for z in X_train]))\n",
    "X_test_vecs = scale(np.concatenate([convert_word_to_vector(z, 500) for z in X_test]))\n",
    "\n",
    "# Perform MinMax scaling\n",
    "scaler = MinMaxScaler()\n",
    "X_train_vecs_scaled = scaler.fit_transform(X_train_vecs)\n",
    "X_test_vecs_scaled = scaler.transform(X_test_vecs)\n",
    "\n",
    "print(X_train.shape, X_test.shape)\n",
    "print(X_train_vecs.shape, X_test_vecs.shape)\n",
    "print(X_train_vecs_scaled.shape, X_test_vecs_scaled.shape)\n",
    "\n",
    "\n",
    "print(f\"Training Size = {X_train_vecs_scaled.shape[0]}, {y_train.shape}\")\n",
    "print(f\"Test Size     = {X_test_vecs_scaled.shape[0]},  {y_test.shape}\")"
   ]
  },
  {
   "cell_type": "code",
   "execution_count": 23,
   "id": "55b5daae",
   "metadata": {},
   "outputs": [],
   "source": [
    "nb_classifier = MultinomialNB(alpha=.5)\n",
    "nb_classifier.fit(X_train_vecs_scaled, y_train)\n",
    "y_pred = nb_classifier.predict(X_test_vecs_scaled)"
   ]
  },
  {
   "cell_type": "code",
   "execution_count": 24,
   "id": "7b989691",
   "metadata": {},
   "outputs": [
    {
     "name": "stdout",
     "output_type": "stream",
     "text": [
      "              precision    recall  f1-score   support\n",
      "\n",
      "         Ham       0.90      0.95      0.92       965\n",
      "        Spam       0.48      0.31      0.38       150\n",
      "\n",
      "    accuracy                           0.86      1115\n",
      "   macro avg       0.69      0.63      0.65      1115\n",
      "weighted avg       0.84      0.86      0.85      1115\n",
      "\n"
     ]
    },
    {
     "data": {
      "image/png": "[encoded data removed]",
      "text/plain": [
       "<Figure size 500x400 with 2 Axes>"
      ]
     },
     "metadata": {},
     "output_type": "display_data"
    }
   ],
   "source": [
    "calculate_metrics_and_plot(y_test, y_pred)"
   ]
  },
  {
   "cell_type": "markdown",
   "id": "7a792687",
   "metadata": {},
   "source": [
    "## Observations -  As its clear from results that tfidf way of feature generation works best for SPAM detection."
   ]
  },
  {
   "cell_type": "code",
   "execution_count": null,
   "id": "7fe8609d",
   "metadata": {},
   "outputs": [],
   "source": []
  }
 ],
 "metadata": {
  "colab": {
   "provenance": []
  },
  "kernelspec": {
   "display_name": "Python 3 (ipykernel)",
   "language": "python",
   "name": "python3"
  },
  "language_info": {
   "codemirror_mode": {
    "name": "ipython",
    "version": 3
   },
   "file_extension": ".py",
   "mimetype": "text/x-python",
   "name": "python",
   "nbconvert_exporter": "python",
   "pygments_lexer": "ipython3",
   "version": "3.10.13"
  },
  "varInspector": {
   "cols": {
    "lenName": 16,
    "lenType": 16,
    "lenVar": 40
   },
   "kernels_config": {
    "python": {
     "delete_cmd_postfix": "",
     "delete_cmd_prefix": "del ",
     "library": "var_list.py",
     "varRefreshCmd": "print(var_dic_list())"
    },
    "r": {
     "delete_cmd_postfix": ") ",
     "delete_cmd_prefix": "rm(",
     "library": "var_list.r",
     "varRefreshCmd": "cat(var_dic_list()) "
    }
   },
   "types_to_exclude": [
    "module",
    "function",
    "builtin_function_or_method",
    "instance",
    "_Feature"
   ],
   "window_display": false
  }
 },
 "nbformat": 4,
 "nbformat_minor": 5
}
