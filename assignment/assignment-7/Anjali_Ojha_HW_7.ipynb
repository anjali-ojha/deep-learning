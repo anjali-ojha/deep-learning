{
  "cells": [
    {
      "cell_type": "markdown",
      "metadata": {
        "id": "view-in-github",
        "colab_type": "text"
      },
      "source": [
        "<a href=\"https://colab.research.google.com/github/anjali-ojha/deep-learning/blob/main/assignment/assignment-7/Anjali_Ojha_HW_7.ipynb\" target=\"_parent\"><img src=\"https://colab.research.google.com/assets/colab-badge.svg\" alt=\"Open In Colab\"/></a>"
      ]
    },
    {
      "cell_type": "markdown",
      "source": [
        "GitHub Link -  https://github.com/anjali-ojha/deep-learning/blob/main/assignment/assignment-7/Anjali_Ojha_HW_7.ipynb"
      ],
      "metadata": {
        "id": "bv6wx9-PonQ7"
      },
      "id": "bv6wx9-PonQ7"
    },
    {
      "cell_type": "markdown",
      "id": "05c49b86",
      "metadata": {
        "id": "05c49b86"
      },
      "source": [
        "# You will be working with basic Word2Vec Problems.\n",
        "\n",
        "# Step 1: Load the Wikipedia GLoVE Word2Vec.\n"
      ]
    },
    {
      "cell_type": "code",
      "execution_count": 1,
      "id": "713bd096",
      "metadata": {
        "id": "713bd096"
      },
      "outputs": [],
      "source": [
        "import os, sys\n",
        "import pandas as pd\n",
        "import numpy as np\n",
        "import re\n",
        "import string\n",
        "import nltk\n",
        "from nltk.corpus import stopwords\n",
        "from gensim.models import KeyedVectors, Word2Vec\n",
        "from sklearn.model_selection import train_test_split\n",
        "from sklearn.metrics import confusion_matrix, classification_report\n",
        "from sklearn.preprocessing import scale\n",
        "import matplotlib.pyplot as plt\n",
        "import seaborn as sns\n",
        "from sklearn.ensemble import GradientBoostingClassifier\n",
        "from tqdm import tqdm"
      ]
    },
    {
      "cell_type": "code",
      "execution_count": 2,
      "id": "55c57ee2",
      "metadata": {
        "colab": {
          "base_uri": "https://localhost:8080/"
        },
        "id": "55c57ee2",
        "outputId": "cf6df538-80a5-4e03-8c7c-89901b8c4dbc"
      },
      "outputs": [
        {
          "output_type": "stream",
          "name": "stderr",
          "text": [
            "[nltk_data] Downloading package stopwords to /root/nltk_data...\n",
            "[nltk_data]   Unzipping corpora/stopwords.zip.\n"
          ]
        },
        {
          "output_type": "execute_result",
          "data": {
            "text/plain": [
              "True"
            ]
          },
          "metadata": {},
          "execution_count": 2
        }
      ],
      "source": [
        "nltk.download('stopwords')"
      ]
    },
    {
      "cell_type": "markdown",
      "id": "5f9648a5",
      "metadata": {
        "id": "5f9648a5"
      },
      "source": [
        "# Step 1: Load the Wikipedia GLoVE Word2Vec\n"
      ]
    },
    {
      "cell_type": "markdown",
      "id": "721633ab",
      "metadata": {
        "id": "721633ab"
      },
      "source": [
        "# Loading the GloVe Model:\n"
      ]
    },
    {
      "cell_type": "code",
      "execution_count": 3,
      "id": "f8ced03c",
      "metadata": {
        "colab": {
          "base_uri": "https://localhost:8080/"
        },
        "id": "f8ced03c",
        "outputId": "e0c4a9fa-d76b-4225-ce96-76e32ae70c1d"
      },
      "outputs": [
        {
          "output_type": "stream",
          "name": "stdout",
          "text": [
            "--2024-03-28 05:44:07--  https://nlp.stanford.edu/data/glove.6B.zip\n",
            "Resolving nlp.stanford.edu (nlp.stanford.edu)... 171.64.67.140\n",
            "Connecting to nlp.stanford.edu (nlp.stanford.edu)|171.64.67.140|:443... connected.\n",
            "HTTP request sent, awaiting response... 301 Moved Permanently\n",
            "Location: https://downloads.cs.stanford.edu/nlp/data/glove.6B.zip [following]\n",
            "--2024-03-28 05:44:08--  https://downloads.cs.stanford.edu/nlp/data/glove.6B.zip\n",
            "Resolving downloads.cs.stanford.edu (downloads.cs.stanford.edu)... 171.64.64.22\n",
            "Connecting to downloads.cs.stanford.edu (downloads.cs.stanford.edu)|171.64.64.22|:443... connected.\n",
            "HTTP request sent, awaiting response... 200 OK\n",
            "Length: 862182613 (822M) [application/zip]\n",
            "Saving to: ‘glove.6B.zip’\n",
            "\n",
            "glove.6B.zip        100%[===================>] 822.24M  5.02MB/s    in 2m 39s  \n",
            "\n",
            "2024-03-28 05:46:47 (5.17 MB/s) - ‘glove.6B.zip’ saved [862182613/862182613]\n",
            "\n",
            "Archive:  glove.6B.zip\n",
            "  inflating: glove.6B.50d.txt        \n",
            "  inflating: glove.6B.100d.txt       \n",
            "  inflating: glove.6B.200d.txt       \n",
            "  inflating: glove.6B.300d.txt       \n"
          ]
        }
      ],
      "source": [
        "! rm -f glove.6B*\n",
        "! wget  https://nlp.stanford.edu/data/glove.6B.zip\n",
        "! unzip glove.6B.zip"
      ]
    },
    {
      "cell_type": "code",
      "execution_count": 4,
      "id": "b0859bd1",
      "metadata": {
        "id": "b0859bd1"
      },
      "outputs": [],
      "source": [
        "base_path = './'"
      ]
    },
    {
      "cell_type": "code",
      "execution_count": 5,
      "id": "30200644",
      "metadata": {
        "id": "30200644"
      },
      "outputs": [],
      "source": [
        "def load_model(model_path):\n",
        "    return KeyedVectors.load_word2vec_format(model_path,\n",
        "                                             binary=False,\n",
        "                                             no_header=True)"
      ]
    },
    {
      "cell_type": "markdown",
      "id": "64ecb86d",
      "metadata": {
        "id": "64ecb86d"
      },
      "source": [
        "# Step 2: Show how similar are these words:\n",
        "\n",
        "    * Man and Woman,\n",
        "    * Chair and Throne\n",
        "    * water and baby"
      ]
    },
    {
      "cell_type": "code",
      "execution_count": 6,
      "id": "5a20109d",
      "metadata": {
        "id": "5a20109d"
      },
      "outputs": [],
      "source": [
        "word_pairs = [\n",
        "    ('Man', 'Woman'),\n",
        "    ('Chair', 'Throne'),\n",
        "    ('water', 'baby')\n",
        "]\n",
        "\n",
        "def evaluate(model, model_name):\n",
        "    print(f\"\\nUsing Model = {model_name}\")\n",
        "    for word1, word2 in word_pairs:\n",
        "        similarity = model.similarity(word1.lower(), word2.lower())\n",
        "        print(f\"\\tSimilarity between '{word1}' and '{word2}': {similarity:.4f}\")\n"
      ]
    },
    {
      "cell_type": "markdown",
      "id": "5787ff4d",
      "metadata": {
        "id": "5787ff4d"
      },
      "source": [
        "The scores are same with all 4 models.\n",
        "\n",
        "* Similarity between 'man' and 'woman': 0.8323 - A similarity score of 0.8323 is very high, indicating that  \"man\" and \"woman\" are closely related in the vector space and they often used in same context and sometime together.\n",
        "\n",
        "\n",
        "* Similarity between 'chair' and 'throne': 0.3001 - The similarity score of 0.3001 for \"chair\" and \"throne\" is much lower than that of \"man\" and \"woman,\" suggesting a more distant relationship because often throne refer with kings and queens but chair is very common in real world.\n",
        "\n",
        "\n",
        "* Similarity between 'water' and 'baby': 0.4032 - The similarity score of 0.4032 for \"water\" and \"baby\" , they aretwo differnt entity and even metaphorically they are distant. The medium  score  suggests that there will be enough cocurrence in the training data."
      ]
    },
    {
      "cell_type": "markdown",
      "id": "298c76fb",
      "metadata": {
        "id": "298c76fb"
      },
      "source": [
        "# Loading the 100-Dimensional GloVe Model:"
      ]
    },
    {
      "cell_type": "code",
      "execution_count": 7,
      "id": "0dec33e9",
      "metadata": {
        "colab": {
          "base_uri": "https://localhost:8080/"
        },
        "id": "0dec33e9",
        "outputId": "29806140-3553-40a8-fa47-4e2c2de416f8"
      },
      "outputs": [
        {
          "output_type": "stream",
          "name": "stdout",
          "text": [
            "\n",
            "Using Model = model_100d\n",
            "\tSimilarity between 'Man' and 'Woman': 0.8323\n",
            "\tSimilarity between 'Chair' and 'Throne': 0.3001\n",
            "\tSimilarity between 'water' and 'baby': 0.4032\n"
          ]
        }
      ],
      "source": [
        "glove_input_file_100d = f'{base_path}/glove.6B.100d.txt'\n",
        "model_100d = load_model(glove_input_file_100d)\n",
        "evaluate(model_100d, \"model_100d\")"
      ]
    },
    {
      "cell_type": "markdown",
      "id": "4b4329aa",
      "metadata": {
        "id": "4b4329aa"
      },
      "source": [
        "# Loading the 200-Dimensional GloVe Model:\n"
      ]
    },
    {
      "cell_type": "code",
      "execution_count": 8,
      "id": "8be0c06e",
      "metadata": {
        "colab": {
          "base_uri": "https://localhost:8080/"
        },
        "id": "8be0c06e",
        "outputId": "76932d8c-dd3a-47e7-a18c-f7de840f1e18"
      },
      "outputs": [
        {
          "output_type": "stream",
          "name": "stdout",
          "text": [
            "\n",
            "Using Model = model_200d\n",
            "\tSimilarity between 'Man' and 'Woman': 0.7520\n",
            "\tSimilarity between 'Chair' and 'Throne': 0.2469\n",
            "\tSimilarity between 'water' and 'baby': 0.3530\n"
          ]
        }
      ],
      "source": [
        "glove_input_file_200d = f'{base_path}/glove.6B.200d.txt'\n",
        "model_200d = load_model(glove_input_file_200d)\n",
        "evaluate(model_200d, \"model_200d\")"
      ]
    },
    {
      "cell_type": "markdown",
      "id": "c575c05f",
      "metadata": {
        "id": "c575c05f"
      },
      "source": [
        "# Loading the 300-Dimensional GloVe Model:\n"
      ]
    },
    {
      "cell_type": "code",
      "execution_count": 9,
      "id": "4ca456da",
      "metadata": {
        "colab": {
          "base_uri": "https://localhost:8080/"
        },
        "id": "4ca456da",
        "outputId": "baa2a6d1-99a7-45b6-c7e9-6a6f6227123b"
      },
      "outputs": [
        {
          "output_type": "stream",
          "name": "stdout",
          "text": [
            "\n",
            "Using Model = model_300d\n",
            "\tSimilarity between 'Man' and 'Woman': 0.6999\n",
            "\tSimilarity between 'Chair' and 'Throne': 0.2755\n",
            "\tSimilarity between 'water' and 'baby': 0.2417\n"
          ]
        }
      ],
      "source": [
        "glove_input_file_300d = f'{base_path}/glove.6B.300d.txt'\n",
        "model_300d = load_model(glove_input_file_300d)\n",
        "evaluate(model_300d, \"model_300d\")"
      ]
    },
    {
      "cell_type": "markdown",
      "id": "353fde1f",
      "metadata": {
        "id": "353fde1f"
      },
      "source": [
        "We can see that as we are using bigger model, the scores are going down because its getting more context and richness. This richness and depth in representation can be crucial for tasks requiring more context like Dependecy Tree, POS Tagging, Sentiment Analysis."
      ]
    },
    {
      "cell_type": "markdown",
      "id": "86330b72",
      "metadata": {
        "id": "86330b72"
      },
      "source": [
        "# Step 3: Using these provide analogies for the following:\n",
        "\n",
        "    _____ is to King as Woman is to Man.\n",
        "    _____ is to Princess as Man is to Woman.\n",
        "    _____ is to a woman as a child is to an adult."
      ]
    },
    {
      "cell_type": "code",
      "execution_count": 10,
      "id": "e5a5f604",
      "metadata": {
        "colab": {
          "base_uri": "https://localhost:8080/"
        },
        "id": "e5a5f604",
        "outputId": "26a92bcb-2376-4482-80c0-cda3825aa5ff"
      },
      "outputs": [
        {
          "output_type": "stream",
          "name": "stdout",
          "text": [
            "\n",
            "Processing  sentence = '_____ is to King as Woman is to Man.' \n",
            "\n",
            "\tpositive = ['woman', 'king'], negative = ['man'], result = [('queen', 0.6713277101516724)]\n",
            "\n",
            "\tFinal Sentence : 'Queen is to King as Woman is to Man.' \n",
            "\n",
            "\n",
            "\n",
            "Processing  sentence = '_____ is to Princess as Man is to Woman.' \n",
            "\n",
            "\tpositive = ['man', 'princess'], negative = ['woman'], result = [('prince', 0.653658926486969)]\n",
            "\n",
            "\tFinal Sentence : 'Prince is to Princess as Man is to Woman.' \n",
            "\n",
            "\n",
            "\n",
            "Processing  sentence = '_____ is to a woman as a child is to an adult.' \n",
            "\n",
            "\tpositive = ['child', 'woman'], negative = ['adult'], result = [('mother', 0.6800264716148376)]\n",
            "\n",
            "\tFinal Sentence : 'Mother is to a woman as a child is to an adult.' \n",
            "\n",
            "\n"
          ]
        }
      ],
      "source": [
        "sentences = [ \"_____ is to King as Woman is to Man.\",\n",
        "              \"_____ is to Princess as Man is to Woman.\",\n",
        "              \"_____ is to a woman as a child is to an adult.\",\n",
        "            ]\n",
        "\n",
        "def to_camel_case(word):\n",
        "    return word[0].upper() + word[1:]\n",
        "\n",
        "for sentence in sentences:\n",
        "    print(f\"\\nProcessing { sentence = } \\n\")\n",
        "    sentence = sentence.strip()\n",
        "\n",
        "    first = sentence.split(\"is to\")[1].strip().split(\" \")[-1].strip().lower()\n",
        "    second = sentence.split(\"as\")[0].strip().split(\" \")[-1].strip().lower()\n",
        "\n",
        "    positive = [first, second]\n",
        "    negative = [sentence.strip().split(\" \")[-1].replace(\".\", \"\").lower().strip()]\n",
        "\n",
        "    result = model_300d.most_similar(positive=positive, negative=negative, topn=1)\n",
        "\n",
        "    print(f\"\\t{positive = }, {negative = }, {result = }\")\n",
        "\n",
        "    sentence = sentence.replace(\"_____\", to_camel_case(result[0][0]))\n",
        "    print(f\"\\n\\tFinal Sentence : '{sentence}' \\n\\n\")\n",
        ""
      ]
    },
    {
      "cell_type": "markdown",
      "id": "3218c757",
      "metadata": {
        "id": "3218c757"
      },
      "source": [
        "## Step 4: Apply Naive-Bayes Classifier on the Spam-Ham dataset shown in the demo."
      ]
    },
    {
      "cell_type": "code",
      "execution_count": 11,
      "id": "08552271",
      "metadata": {
        "id": "08552271"
      },
      "outputs": [],
      "source": [
        "! rm -rf spam.csv\n",
        "! wget --quiet https://raw.githubusercontent.com/anjali-ojha/deep-learning/ass-7/spam.csv"
      ]
    },
    {
      "cell_type": "code",
      "execution_count": 12,
      "id": "fdecf649",
      "metadata": {
        "colab": {
          "base_uri": "https://localhost:8080/",
          "height": 174
        },
        "id": "fdecf649",
        "outputId": "4deab47d-e1a2-41b0-9bbd-751dc72866c4"
      },
      "outputs": [
        {
          "output_type": "execute_result",
          "data": {
            "text/plain": [
              "          v1                      v2  \\\n",
              "count   5572                    5572   \n",
              "unique     2                    5169   \n",
              "top      ham  Sorry, I'll call later   \n",
              "freq    4825                      30   \n",
              "\n",
              "                                               Unnamed: 2  \\\n",
              "count                                                  50   \n",
              "unique                                                 43   \n",
              "top      bt not his girlfrnd... G o o d n i g h t . . .@\"   \n",
              "freq                                                    3   \n",
              "\n",
              "                   Unnamed: 3 Unnamed: 4  \n",
              "count                      12          6  \n",
              "unique                     10          5  \n",
              "top      MK17 92H. 450Ppw 16\"    GNT:-)\"  \n",
              "freq                        2          2  "
            ],
            "text/html": [
              "\n",
              "  <div id=\"df-0e2bb4f9-95ff-4042-a1c8-76aa3a15c351\" class=\"colab-df-container\">\n",
              "    <div>\n",
              "<style scoped>\n",
              "    .dataframe tbody tr th:only-of-type {\n",
              "        vertical-align: middle;\n",
              "    }\n",
              "\n",
              "    .dataframe tbody tr th {\n",
              "        vertical-align: top;\n",
              "    }\n",
              "\n",
              "    .dataframe thead th {\n",
              "        text-align: right;\n",
              "    }\n",
              "</style>\n",
              "<table border=\"1\" class=\"dataframe\">\n",
              "  <thead>\n",
              "    <tr style=\"text-align: right;\">\n",
              "      <th></th>\n",
              "      <th>v1</th>\n",
              "      <th>v2</th>\n",
              "      <th>Unnamed: 2</th>\n",
              "      <th>Unnamed: 3</th>\n",
              "      <th>Unnamed: 4</th>\n",
              "    </tr>\n",
              "  </thead>\n",
              "  <tbody>\n",
              "    <tr>\n",
              "      <th>count</th>\n",
              "      <td>5572</td>\n",
              "      <td>5572</td>\n",
              "      <td>50</td>\n",
              "      <td>12</td>\n",
              "      <td>6</td>\n",
              "    </tr>\n",
              "    <tr>\n",
              "      <th>unique</th>\n",
              "      <td>2</td>\n",
              "      <td>5169</td>\n",
              "      <td>43</td>\n",
              "      <td>10</td>\n",
              "      <td>5</td>\n",
              "    </tr>\n",
              "    <tr>\n",
              "      <th>top</th>\n",
              "      <td>ham</td>\n",
              "      <td>Sorry, I'll call later</td>\n",
              "      <td>bt not his girlfrnd... G o o d n i g h t . . .@\"</td>\n",
              "      <td>MK17 92H. 450Ppw 16\"</td>\n",
              "      <td>GNT:-)\"</td>\n",
              "    </tr>\n",
              "    <tr>\n",
              "      <th>freq</th>\n",
              "      <td>4825</td>\n",
              "      <td>30</td>\n",
              "      <td>3</td>\n",
              "      <td>2</td>\n",
              "      <td>2</td>\n",
              "    </tr>\n",
              "  </tbody>\n",
              "</table>\n",
              "</div>\n",
              "    <div class=\"colab-df-buttons\">\n",
              "\n",
              "  <div class=\"colab-df-container\">\n",
              "    <button class=\"colab-df-convert\" onclick=\"convertToInteractive('df-0e2bb4f9-95ff-4042-a1c8-76aa3a15c351')\"\n",
              "            title=\"Convert this dataframe to an interactive table.\"\n",
              "            style=\"display:none;\">\n",
              "\n",
              "  <svg xmlns=\"http://www.w3.org/2000/svg\" height=\"24px\" viewBox=\"0 -960 960 960\">\n",
              "    <path d=\"M120-120v-720h720v720H120Zm60-500h600v-160H180v160Zm220 220h160v-160H400v160Zm0 220h160v-160H400v160ZM180-400h160v-160H180v160Zm440 0h160v-160H620v160ZM180-180h160v-160H180v160Zm440 0h160v-160H620v160Z\"/>\n",
              "  </svg>\n",
              "    </button>\n",
              "\n",
              "  <style>\n",
              "    .colab-df-container {\n",
              "      display:flex;\n",
              "      gap: 12px;\n",
              "    }\n",
              "\n",
              "    .colab-df-convert {\n",
              "      background-color: #E8F0FE;\n",
              "      border: none;\n",
              "      border-radius: 50%;\n",
              "      cursor: pointer;\n",
              "      display: none;\n",
              "      fill: #1967D2;\n",
              "      height: 32px;\n",
              "      padding: 0 0 0 0;\n",
              "      width: 32px;\n",
              "    }\n",
              "\n",
              "    .colab-df-convert:hover {\n",
              "      background-color: #E2EBFA;\n",
              "      box-shadow: 0px 1px 2px rgba(60, 64, 67, 0.3), 0px 1px 3px 1px rgba(60, 64, 67, 0.15);\n",
              "      fill: #174EA6;\n",
              "    }\n",
              "\n",
              "    .colab-df-buttons div {\n",
              "      margin-bottom: 4px;\n",
              "    }\n",
              "\n",
              "    [theme=dark] .colab-df-convert {\n",
              "      background-color: #3B4455;\n",
              "      fill: #D2E3FC;\n",
              "    }\n",
              "\n",
              "    [theme=dark] .colab-df-convert:hover {\n",
              "      background-color: #434B5C;\n",
              "      box-shadow: 0px 1px 3px 1px rgba(0, 0, 0, 0.15);\n",
              "      filter: drop-shadow(0px 1px 2px rgba(0, 0, 0, 0.3));\n",
              "      fill: #FFFFFF;\n",
              "    }\n",
              "  </style>\n",
              "\n",
              "    <script>\n",
              "      const buttonEl =\n",
              "        document.querySelector('#df-0e2bb4f9-95ff-4042-a1c8-76aa3a15c351 button.colab-df-convert');\n",
              "      buttonEl.style.display =\n",
              "        google.colab.kernel.accessAllowed ? 'block' : 'none';\n",
              "\n",
              "      async function convertToInteractive(key) {\n",
              "        const element = document.querySelector('#df-0e2bb4f9-95ff-4042-a1c8-76aa3a15c351');\n",
              "        const dataTable =\n",
              "          await google.colab.kernel.invokeFunction('convertToInteractive',\n",
              "                                                    [key], {});\n",
              "        if (!dataTable) return;\n",
              "\n",
              "        const docLinkHtml = 'Like what you see? Visit the ' +\n",
              "          '<a target=\"_blank\" href=https://colab.research.google.com/notebooks/data_table.ipynb>data table notebook</a>'\n",
              "          + ' to learn more about interactive tables.';\n",
              "        element.innerHTML = '';\n",
              "        dataTable['output_type'] = 'display_data';\n",
              "        await google.colab.output.renderOutput(dataTable, element);\n",
              "        const docLink = document.createElement('div');\n",
              "        docLink.innerHTML = docLinkHtml;\n",
              "        element.appendChild(docLink);\n",
              "      }\n",
              "    </script>\n",
              "  </div>\n",
              "\n",
              "\n",
              "<div id=\"df-b5dc04dd-ee72-4dd0-b133-950344e35267\">\n",
              "  <button class=\"colab-df-quickchart\" onclick=\"quickchart('df-b5dc04dd-ee72-4dd0-b133-950344e35267')\"\n",
              "            title=\"Suggest charts\"\n",
              "            style=\"display:none;\">\n",
              "\n",
              "<svg xmlns=\"http://www.w3.org/2000/svg\" height=\"24px\"viewBox=\"0 0 24 24\"\n",
              "     width=\"24px\">\n",
              "    <g>\n",
              "        <path d=\"M19 3H5c-1.1 0-2 .9-2 2v14c0 1.1.9 2 2 2h14c1.1 0 2-.9 2-2V5c0-1.1-.9-2-2-2zM9 17H7v-7h2v7zm4 0h-2V7h2v10zm4 0h-2v-4h2v4z\"/>\n",
              "    </g>\n",
              "</svg>\n",
              "  </button>\n",
              "\n",
              "<style>\n",
              "  .colab-df-quickchart {\n",
              "      --bg-color: #E8F0FE;\n",
              "      --fill-color: #1967D2;\n",
              "      --hover-bg-color: #E2EBFA;\n",
              "      --hover-fill-color: #174EA6;\n",
              "      --disabled-fill-color: #AAA;\n",
              "      --disabled-bg-color: #DDD;\n",
              "  }\n",
              "\n",
              "  [theme=dark] .colab-df-quickchart {\n",
              "      --bg-color: #3B4455;\n",
              "      --fill-color: #D2E3FC;\n",
              "      --hover-bg-color: #434B5C;\n",
              "      --hover-fill-color: #FFFFFF;\n",
              "      --disabled-bg-color: #3B4455;\n",
              "      --disabled-fill-color: #666;\n",
              "  }\n",
              "\n",
              "  .colab-df-quickchart {\n",
              "    background-color: var(--bg-color);\n",
              "    border: none;\n",
              "    border-radius: 50%;\n",
              "    cursor: pointer;\n",
              "    display: none;\n",
              "    fill: var(--fill-color);\n",
              "    height: 32px;\n",
              "    padding: 0;\n",
              "    width: 32px;\n",
              "  }\n",
              "\n",
              "  .colab-df-quickchart:hover {\n",
              "    background-color: var(--hover-bg-color);\n",
              "    box-shadow: 0 1px 2px rgba(60, 64, 67, 0.3), 0 1px 3px 1px rgba(60, 64, 67, 0.15);\n",
              "    fill: var(--button-hover-fill-color);\n",
              "  }\n",
              "\n",
              "  .colab-df-quickchart-complete:disabled,\n",
              "  .colab-df-quickchart-complete:disabled:hover {\n",
              "    background-color: var(--disabled-bg-color);\n",
              "    fill: var(--disabled-fill-color);\n",
              "    box-shadow: none;\n",
              "  }\n",
              "\n",
              "  .colab-df-spinner {\n",
              "    border: 2px solid var(--fill-color);\n",
              "    border-color: transparent;\n",
              "    border-bottom-color: var(--fill-color);\n",
              "    animation:\n",
              "      spin 1s steps(1) infinite;\n",
              "  }\n",
              "\n",
              "  @keyframes spin {\n",
              "    0% {\n",
              "      border-color: transparent;\n",
              "      border-bottom-color: var(--fill-color);\n",
              "      border-left-color: var(--fill-color);\n",
              "    }\n",
              "    20% {\n",
              "      border-color: transparent;\n",
              "      border-left-color: var(--fill-color);\n",
              "      border-top-color: var(--fill-color);\n",
              "    }\n",
              "    30% {\n",
              "      border-color: transparent;\n",
              "      border-left-color: var(--fill-color);\n",
              "      border-top-color: var(--fill-color);\n",
              "      border-right-color: var(--fill-color);\n",
              "    }\n",
              "    40% {\n",
              "      border-color: transparent;\n",
              "      border-right-color: var(--fill-color);\n",
              "      border-top-color: var(--fill-color);\n",
              "    }\n",
              "    60% {\n",
              "      border-color: transparent;\n",
              "      border-right-color: var(--fill-color);\n",
              "    }\n",
              "    80% {\n",
              "      border-color: transparent;\n",
              "      border-right-color: var(--fill-color);\n",
              "      border-bottom-color: var(--fill-color);\n",
              "    }\n",
              "    90% {\n",
              "      border-color: transparent;\n",
              "      border-bottom-color: var(--fill-color);\n",
              "    }\n",
              "  }\n",
              "</style>\n",
              "\n",
              "  <script>\n",
              "    async function quickchart(key) {\n",
              "      const quickchartButtonEl =\n",
              "        document.querySelector('#' + key + ' button');\n",
              "      quickchartButtonEl.disabled = true;  // To prevent multiple clicks.\n",
              "      quickchartButtonEl.classList.add('colab-df-spinner');\n",
              "      try {\n",
              "        const charts = await google.colab.kernel.invokeFunction(\n",
              "            'suggestCharts', [key], {});\n",
              "      } catch (error) {\n",
              "        console.error('Error during call to suggestCharts:', error);\n",
              "      }\n",
              "      quickchartButtonEl.classList.remove('colab-df-spinner');\n",
              "      quickchartButtonEl.classList.add('colab-df-quickchart-complete');\n",
              "    }\n",
              "    (() => {\n",
              "      let quickchartButtonEl =\n",
              "        document.querySelector('#df-b5dc04dd-ee72-4dd0-b133-950344e35267 button');\n",
              "      quickchartButtonEl.style.display =\n",
              "        google.colab.kernel.accessAllowed ? 'block' : 'none';\n",
              "    })();\n",
              "  </script>\n",
              "</div>\n",
              "    </div>\n",
              "  </div>\n"
            ],
            "application/vnd.google.colaboratory.intrinsic+json": {
              "type": "dataframe",
              "summary": "{\n  \"name\": \"data\",\n  \"rows\": 4,\n  \"fields\": [\n    {\n      \"column\": \"v1\",\n      \"properties\": {\n        \"dtype\": \"string\",\n        \"num_unique_values\": 4,\n        \"samples\": [\n          2,\n          \"4825\",\n          \"5572\"\n        ],\n        \"semantic_type\": \"\",\n        \"description\": \"\"\n      }\n    },\n    {\n      \"column\": \"v2\",\n      \"properties\": {\n        \"dtype\": \"string\",\n        \"num_unique_values\": 4,\n        \"samples\": [\n          5169,\n          \"30\",\n          \"5572\"\n        ],\n        \"semantic_type\": \"\",\n        \"description\": \"\"\n      }\n    },\n    {\n      \"column\": \"Unnamed: 2\",\n      \"properties\": {\n        \"dtype\": \"string\",\n        \"num_unique_values\": 4,\n        \"samples\": [\n          43,\n          \"3\",\n          \"50\"\n        ],\n        \"semantic_type\": \"\",\n        \"description\": \"\"\n      }\n    },\n    {\n      \"column\": \"Unnamed: 3\",\n      \"properties\": {\n        \"dtype\": \"string\",\n        \"num_unique_values\": 4,\n        \"samples\": [\n          10,\n          \"2\",\n          \"12\"\n        ],\n        \"semantic_type\": \"\",\n        \"description\": \"\"\n      }\n    },\n    {\n      \"column\": \"Unnamed: 4\",\n      \"properties\": {\n        \"dtype\": \"string\",\n        \"num_unique_values\": 4,\n        \"samples\": [\n          5,\n          \"2\",\n          \"6\"\n        ],\n        \"semantic_type\": \"\",\n        \"description\": \"\"\n      }\n    }\n  ]\n}"
            }
          },
          "metadata": {},
          "execution_count": 12
        }
      ],
      "source": [
        "data = pd.read_csv('spam.csv', encoding='latin-1')\n",
        "data.describe()"
      ]
    },
    {
      "cell_type": "code",
      "execution_count": 13,
      "id": "493ef8a9",
      "metadata": {
        "colab": {
          "base_uri": "https://localhost:8080/",
          "height": 206
        },
        "id": "493ef8a9",
        "outputId": "3e6b205e-773c-499e-bcb7-199a3000cc0f"
      },
      "outputs": [
        {
          "output_type": "execute_result",
          "data": {
            "text/plain": [
              "     v1                                                 v2  \\\n",
              "0   ham  Go until jurong point, crazy.. Available only ...   \n",
              "1   ham                      Ok lar... Joking wif u oni...   \n",
              "2  spam  Free entry in 2 a wkly comp to win FA Cup fina...   \n",
              "3   ham  U dun say so early hor... U c already then say...   \n",
              "4   ham  Nah I don't think he goes to usf, he lives aro...   \n",
              "\n",
              "                                   pre_processed_sms  \n",
              "0  go jurong point crazy available bugis n great ...  \n",
              "1                            ok lar joking wif u oni  \n",
              "2  free entry  wkly comp win fa cup final tkts st...  \n",
              "3                u dun say early hor u c already say  \n",
              "4        nah dont think goes usf lives around though  "
            ],
            "text/html": [
              "\n",
              "  <div id=\"df-60e281a2-ad63-4cf2-89e9-03e70b65b76e\" class=\"colab-df-container\">\n",
              "    <div>\n",
              "<style scoped>\n",
              "    .dataframe tbody tr th:only-of-type {\n",
              "        vertical-align: middle;\n",
              "    }\n",
              "\n",
              "    .dataframe tbody tr th {\n",
              "        vertical-align: top;\n",
              "    }\n",
              "\n",
              "    .dataframe thead th {\n",
              "        text-align: right;\n",
              "    }\n",
              "</style>\n",
              "<table border=\"1\" class=\"dataframe\">\n",
              "  <thead>\n",
              "    <tr style=\"text-align: right;\">\n",
              "      <th></th>\n",
              "      <th>v1</th>\n",
              "      <th>v2</th>\n",
              "      <th>pre_processed_sms</th>\n",
              "    </tr>\n",
              "  </thead>\n",
              "  <tbody>\n",
              "    <tr>\n",
              "      <th>0</th>\n",
              "      <td>ham</td>\n",
              "      <td>Go until jurong point, crazy.. Available only ...</td>\n",
              "      <td>go jurong point crazy available bugis n great ...</td>\n",
              "    </tr>\n",
              "    <tr>\n",
              "      <th>1</th>\n",
              "      <td>ham</td>\n",
              "      <td>Ok lar... Joking wif u oni...</td>\n",
              "      <td>ok lar joking wif u oni</td>\n",
              "    </tr>\n",
              "    <tr>\n",
              "      <th>2</th>\n",
              "      <td>spam</td>\n",
              "      <td>Free entry in 2 a wkly comp to win FA Cup fina...</td>\n",
              "      <td>free entry  wkly comp win fa cup final tkts st...</td>\n",
              "    </tr>\n",
              "    <tr>\n",
              "      <th>3</th>\n",
              "      <td>ham</td>\n",
              "      <td>U dun say so early hor... U c already then say...</td>\n",
              "      <td>u dun say early hor u c already say</td>\n",
              "    </tr>\n",
              "    <tr>\n",
              "      <th>4</th>\n",
              "      <td>ham</td>\n",
              "      <td>Nah I don't think he goes to usf, he lives aro...</td>\n",
              "      <td>nah dont think goes usf lives around though</td>\n",
              "    </tr>\n",
              "  </tbody>\n",
              "</table>\n",
              "</div>\n",
              "    <div class=\"colab-df-buttons\">\n",
              "\n",
              "  <div class=\"colab-df-container\">\n",
              "    <button class=\"colab-df-convert\" onclick=\"convertToInteractive('df-60e281a2-ad63-4cf2-89e9-03e70b65b76e')\"\n",
              "            title=\"Convert this dataframe to an interactive table.\"\n",
              "            style=\"display:none;\">\n",
              "\n",
              "  <svg xmlns=\"http://www.w3.org/2000/svg\" height=\"24px\" viewBox=\"0 -960 960 960\">\n",
              "    <path d=\"M120-120v-720h720v720H120Zm60-500h600v-160H180v160Zm220 220h160v-160H400v160Zm0 220h160v-160H400v160ZM180-400h160v-160H180v160Zm440 0h160v-160H620v160ZM180-180h160v-160H180v160Zm440 0h160v-160H620v160Z\"/>\n",
              "  </svg>\n",
              "    </button>\n",
              "\n",
              "  <style>\n",
              "    .colab-df-container {\n",
              "      display:flex;\n",
              "      gap: 12px;\n",
              "    }\n",
              "\n",
              "    .colab-df-convert {\n",
              "      background-color: #E8F0FE;\n",
              "      border: none;\n",
              "      border-radius: 50%;\n",
              "      cursor: pointer;\n",
              "      display: none;\n",
              "      fill: #1967D2;\n",
              "      height: 32px;\n",
              "      padding: 0 0 0 0;\n",
              "      width: 32px;\n",
              "    }\n",
              "\n",
              "    .colab-df-convert:hover {\n",
              "      background-color: #E2EBFA;\n",
              "      box-shadow: 0px 1px 2px rgba(60, 64, 67, 0.3), 0px 1px 3px 1px rgba(60, 64, 67, 0.15);\n",
              "      fill: #174EA6;\n",
              "    }\n",
              "\n",
              "    .colab-df-buttons div {\n",
              "      margin-bottom: 4px;\n",
              "    }\n",
              "\n",
              "    [theme=dark] .colab-df-convert {\n",
              "      background-color: #3B4455;\n",
              "      fill: #D2E3FC;\n",
              "    }\n",
              "\n",
              "    [theme=dark] .colab-df-convert:hover {\n",
              "      background-color: #434B5C;\n",
              "      box-shadow: 0px 1px 3px 1px rgba(0, 0, 0, 0.15);\n",
              "      filter: drop-shadow(0px 1px 2px rgba(0, 0, 0, 0.3));\n",
              "      fill: #FFFFFF;\n",
              "    }\n",
              "  </style>\n",
              "\n",
              "    <script>\n",
              "      const buttonEl =\n",
              "        document.querySelector('#df-60e281a2-ad63-4cf2-89e9-03e70b65b76e button.colab-df-convert');\n",
              "      buttonEl.style.display =\n",
              "        google.colab.kernel.accessAllowed ? 'block' : 'none';\n",
              "\n",
              "      async function convertToInteractive(key) {\n",
              "        const element = document.querySelector('#df-60e281a2-ad63-4cf2-89e9-03e70b65b76e');\n",
              "        const dataTable =\n",
              "          await google.colab.kernel.invokeFunction('convertToInteractive',\n",
              "                                                    [key], {});\n",
              "        if (!dataTable) return;\n",
              "\n",
              "        const docLinkHtml = 'Like what you see? Visit the ' +\n",
              "          '<a target=\"_blank\" href=https://colab.research.google.com/notebooks/data_table.ipynb>data table notebook</a>'\n",
              "          + ' to learn more about interactive tables.';\n",
              "        element.innerHTML = '';\n",
              "        dataTable['output_type'] = 'display_data';\n",
              "        await google.colab.output.renderOutput(dataTable, element);\n",
              "        const docLink = document.createElement('div');\n",
              "        docLink.innerHTML = docLinkHtml;\n",
              "        element.appendChild(docLink);\n",
              "      }\n",
              "    </script>\n",
              "  </div>\n",
              "\n",
              "\n",
              "<div id=\"df-f99e64bb-b857-4770-a952-c058494b6fb5\">\n",
              "  <button class=\"colab-df-quickchart\" onclick=\"quickchart('df-f99e64bb-b857-4770-a952-c058494b6fb5')\"\n",
              "            title=\"Suggest charts\"\n",
              "            style=\"display:none;\">\n",
              "\n",
              "<svg xmlns=\"http://www.w3.org/2000/svg\" height=\"24px\"viewBox=\"0 0 24 24\"\n",
              "     width=\"24px\">\n",
              "    <g>\n",
              "        <path d=\"M19 3H5c-1.1 0-2 .9-2 2v14c0 1.1.9 2 2 2h14c1.1 0 2-.9 2-2V5c0-1.1-.9-2-2-2zM9 17H7v-7h2v7zm4 0h-2V7h2v10zm4 0h-2v-4h2v4z\"/>\n",
              "    </g>\n",
              "</svg>\n",
              "  </button>\n",
              "\n",
              "<style>\n",
              "  .colab-df-quickchart {\n",
              "      --bg-color: #E8F0FE;\n",
              "      --fill-color: #1967D2;\n",
              "      --hover-bg-color: #E2EBFA;\n",
              "      --hover-fill-color: #174EA6;\n",
              "      --disabled-fill-color: #AAA;\n",
              "      --disabled-bg-color: #DDD;\n",
              "  }\n",
              "\n",
              "  [theme=dark] .colab-df-quickchart {\n",
              "      --bg-color: #3B4455;\n",
              "      --fill-color: #D2E3FC;\n",
              "      --hover-bg-color: #434B5C;\n",
              "      --hover-fill-color: #FFFFFF;\n",
              "      --disabled-bg-color: #3B4455;\n",
              "      --disabled-fill-color: #666;\n",
              "  }\n",
              "\n",
              "  .colab-df-quickchart {\n",
              "    background-color: var(--bg-color);\n",
              "    border: none;\n",
              "    border-radius: 50%;\n",
              "    cursor: pointer;\n",
              "    display: none;\n",
              "    fill: var(--fill-color);\n",
              "    height: 32px;\n",
              "    padding: 0;\n",
              "    width: 32px;\n",
              "  }\n",
              "\n",
              "  .colab-df-quickchart:hover {\n",
              "    background-color: var(--hover-bg-color);\n",
              "    box-shadow: 0 1px 2px rgba(60, 64, 67, 0.3), 0 1px 3px 1px rgba(60, 64, 67, 0.15);\n",
              "    fill: var(--button-hover-fill-color);\n",
              "  }\n",
              "\n",
              "  .colab-df-quickchart-complete:disabled,\n",
              "  .colab-df-quickchart-complete:disabled:hover {\n",
              "    background-color: var(--disabled-bg-color);\n",
              "    fill: var(--disabled-fill-color);\n",
              "    box-shadow: none;\n",
              "  }\n",
              "\n",
              "  .colab-df-spinner {\n",
              "    border: 2px solid var(--fill-color);\n",
              "    border-color: transparent;\n",
              "    border-bottom-color: var(--fill-color);\n",
              "    animation:\n",
              "      spin 1s steps(1) infinite;\n",
              "  }\n",
              "\n",
              "  @keyframes spin {\n",
              "    0% {\n",
              "      border-color: transparent;\n",
              "      border-bottom-color: var(--fill-color);\n",
              "      border-left-color: var(--fill-color);\n",
              "    }\n",
              "    20% {\n",
              "      border-color: transparent;\n",
              "      border-left-color: var(--fill-color);\n",
              "      border-top-color: var(--fill-color);\n",
              "    }\n",
              "    30% {\n",
              "      border-color: transparent;\n",
              "      border-left-color: var(--fill-color);\n",
              "      border-top-color: var(--fill-color);\n",
              "      border-right-color: var(--fill-color);\n",
              "    }\n",
              "    40% {\n",
              "      border-color: transparent;\n",
              "      border-right-color: var(--fill-color);\n",
              "      border-top-color: var(--fill-color);\n",
              "    }\n",
              "    60% {\n",
              "      border-color: transparent;\n",
              "      border-right-color: var(--fill-color);\n",
              "    }\n",
              "    80% {\n",
              "      border-color: transparent;\n",
              "      border-right-color: var(--fill-color);\n",
              "      border-bottom-color: var(--fill-color);\n",
              "    }\n",
              "    90% {\n",
              "      border-color: transparent;\n",
              "      border-bottom-color: var(--fill-color);\n",
              "    }\n",
              "  }\n",
              "</style>\n",
              "\n",
              "  <script>\n",
              "    async function quickchart(key) {\n",
              "      const quickchartButtonEl =\n",
              "        document.querySelector('#' + key + ' button');\n",
              "      quickchartButtonEl.disabled = true;  // To prevent multiple clicks.\n",
              "      quickchartButtonEl.classList.add('colab-df-spinner');\n",
              "      try {\n",
              "        const charts = await google.colab.kernel.invokeFunction(\n",
              "            'suggestCharts', [key], {});\n",
              "      } catch (error) {\n",
              "        console.error('Error during call to suggestCharts:', error);\n",
              "      }\n",
              "      quickchartButtonEl.classList.remove('colab-df-spinner');\n",
              "      quickchartButtonEl.classList.add('colab-df-quickchart-complete');\n",
              "    }\n",
              "    (() => {\n",
              "      let quickchartButtonEl =\n",
              "        document.querySelector('#df-f99e64bb-b857-4770-a952-c058494b6fb5 button');\n",
              "      quickchartButtonEl.style.display =\n",
              "        google.colab.kernel.accessAllowed ? 'block' : 'none';\n",
              "    })();\n",
              "  </script>\n",
              "</div>\n",
              "    </div>\n",
              "  </div>\n"
            ],
            "application/vnd.google.colaboratory.intrinsic+json": {
              "type": "dataframe",
              "summary": "{\n  \"name\": \"data[['v1', 'v2', 'pre_processed_sms']]\",\n  \"rows\": 5,\n  \"fields\": [\n    {\n      \"column\": \"v1\",\n      \"properties\": {\n        \"dtype\": \"category\",\n        \"num_unique_values\": 2,\n        \"samples\": [\n          \"spam\",\n          \"ham\"\n        ],\n        \"semantic_type\": \"\",\n        \"description\": \"\"\n      }\n    },\n    {\n      \"column\": \"v2\",\n      \"properties\": {\n        \"dtype\": \"string\",\n        \"num_unique_values\": 5,\n        \"samples\": [\n          \"Ok lar... Joking wif u oni...\",\n          \"Nah I don't think he goes to usf, he lives around here though\"\n        ],\n        \"semantic_type\": \"\",\n        \"description\": \"\"\n      }\n    },\n    {\n      \"column\": \"pre_processed_sms\",\n      \"properties\": {\n        \"dtype\": \"string\",\n        \"num_unique_values\": 5,\n        \"samples\": [\n          \"ok lar joking wif u oni\",\n          \"nah dont think goes usf lives around though\"\n        ],\n        \"semantic_type\": \"\",\n        \"description\": \"\"\n      }\n    }\n  ]\n}"
            }
          },
          "metadata": {},
          "execution_count": 13
        }
      ],
      "source": [
        "def text_pre_processing(sms):\n",
        "\n",
        "    # removing punctuations\n",
        "    sms_wo_punct = [x for x in sms if x not in string.punctuation]\n",
        "    sms_wo_punct = ''.join(sms_wo_punct)\n",
        "\n",
        "    # keeping only english letters\n",
        "    sms_wo_punct_only_words = [x for x in sms_wo_punct if x.isalpha() or x == \" \"]\n",
        "    sms_wo_punct_only_words = ''.join(sms_wo_punct_only_words)\n",
        "\n",
        "    # converting the data to lower case\n",
        "    sms_wo_punct_only_words_lc = sms_wo_punct_only_words.lower()\n",
        "\n",
        "    # removing stopwords\n",
        "    sms_wo_punct_only_words_lc = sms_wo_punct_only_words_lc.split(\" \")\n",
        "    sms_wo_punct_only_words_lc_wo_sw = [x for x in sms_wo_punct_only_words_lc if x not in stopwords.words('english')]\n",
        "    sms_wo_punct_only_words_lc_wo_sw = ' '.join(sms_wo_punct_only_words_lc_wo_sw)\n",
        "\n",
        "    return sms_wo_punct_only_words_lc_wo_sw\n",
        "\n",
        "\n",
        "# Applying preprocessing to each SMS\n",
        "data['pre_processed_sms'] = data['v2'].apply(text_pre_processing)\n",
        "data[['v1', 'v2', 'pre_processed_sms']].head()"
      ]
    },
    {
      "cell_type": "code",
      "execution_count": 14,
      "id": "edc32087",
      "metadata": {
        "colab": {
          "base_uri": "https://localhost:8080/"
        },
        "id": "edc32087",
        "outputId": "3b7fd569-bded-4ab6-843b-426109a85192"
      },
      "outputs": [
        {
          "output_type": "stream",
          "name": "stdout",
          "text": [
            "Training Size = 4179, 4179\n",
            "Test Size     = 1393, 1393\n"
          ]
        }
      ],
      "source": [
        "def split_data_train_test(X, y):\n",
        "    X_train, X_test, y_train, y_test = train_test_split(X, y, test_size=0.2, random_state=42)\n",
        "\n",
        "\n",
        "X = data['pre_processed_sms']\n",
        "y = data['v1']\n",
        "X_train, X_test, y_train, y_test = train_test_split(X, y)\n",
        "\n",
        "print(f\"Training Size = {X_train.shape[0]}, {y_train.shape[0]}\")\n",
        "print(f\"Test Size     = {X_test.shape[0]}, {y_test.shape[0]}\")"
      ]
    },
    {
      "cell_type": "code",
      "execution_count": 15,
      "id": "be6275fa",
      "metadata": {
        "id": "be6275fa"
      },
      "outputs": [],
      "source": [
        "\"\"\"\n",
        "Convert Text to Features using TF-IDF to convert the preprocessed text into a\n",
        "        matrix of TF-IDF features.\n",
        "\n",
        "\"\"\"\n",
        "from sklearn.feature_extraction.text import TfidfVectorizer\n",
        "\n",
        "tfidf_vectorizer = TfidfVectorizer()\n",
        "X_train_tfidf = tfidf_vectorizer.fit_transform(X_train)\n",
        "X_test_tfidf = tfidf_vectorizer.transform(X_test)"
      ]
    },
    {
      "cell_type": "code",
      "execution_count": 18,
      "id": "c2dbf86c",
      "metadata": {
        "colab": {
          "base_uri": "https://localhost:8080/",
          "height": 74
        },
        "id": "c2dbf86c",
        "outputId": "37bf6ca2-5bc7-4667-e6bd-f2bd043ad43e"
      },
      "outputs": [
        {
          "output_type": "execute_result",
          "data": {
            "text/plain": [
              "MultinomialNB()"
            ],
            "text/html": [
              "<style>#sk-container-id-2 {color: black;background-color: white;}#sk-container-id-2 pre{padding: 0;}#sk-container-id-2 div.sk-toggleable {background-color: white;}#sk-container-id-2 label.sk-toggleable__label {cursor: pointer;display: block;width: 100%;margin-bottom: 0;padding: 0.3em;box-sizing: border-box;text-align: center;}#sk-container-id-2 label.sk-toggleable__label-arrow:before {content: \"▸\";float: left;margin-right: 0.25em;color: #696969;}#sk-container-id-2 label.sk-toggleable__label-arrow:hover:before {color: black;}#sk-container-id-2 div.sk-estimator:hover label.sk-toggleable__label-arrow:before {color: black;}#sk-container-id-2 div.sk-toggleable__content {max-height: 0;max-width: 0;overflow: hidden;text-align: left;background-color: #f0f8ff;}#sk-container-id-2 div.sk-toggleable__content pre {margin: 0.2em;color: black;border-radius: 0.25em;background-color: #f0f8ff;}#sk-container-id-2 input.sk-toggleable__control:checked~div.sk-toggleable__content {max-height: 200px;max-width: 100%;overflow: auto;}#sk-container-id-2 input.sk-toggleable__control:checked~label.sk-toggleable__label-arrow:before {content: \"▾\";}#sk-container-id-2 div.sk-estimator input.sk-toggleable__control:checked~label.sk-toggleable__label {background-color: #d4ebff;}#sk-container-id-2 div.sk-label input.sk-toggleable__control:checked~label.sk-toggleable__label {background-color: #d4ebff;}#sk-container-id-2 input.sk-hidden--visually {border: 0;clip: rect(1px 1px 1px 1px);clip: rect(1px, 1px, 1px, 1px);height: 1px;margin: -1px;overflow: hidden;padding: 0;position: absolute;width: 1px;}#sk-container-id-2 div.sk-estimator {font-family: monospace;background-color: #f0f8ff;border: 1px dotted black;border-radius: 0.25em;box-sizing: border-box;margin-bottom: 0.5em;}#sk-container-id-2 div.sk-estimator:hover {background-color: #d4ebff;}#sk-container-id-2 div.sk-parallel-item::after {content: \"\";width: 100%;border-bottom: 1px solid gray;flex-grow: 1;}#sk-container-id-2 div.sk-label:hover label.sk-toggleable__label {background-color: #d4ebff;}#sk-container-id-2 div.sk-serial::before {content: \"\";position: absolute;border-left: 1px solid gray;box-sizing: border-box;top: 0;bottom: 0;left: 50%;z-index: 0;}#sk-container-id-2 div.sk-serial {display: flex;flex-direction: column;align-items: center;background-color: white;padding-right: 0.2em;padding-left: 0.2em;position: relative;}#sk-container-id-2 div.sk-item {position: relative;z-index: 1;}#sk-container-id-2 div.sk-parallel {display: flex;align-items: stretch;justify-content: center;background-color: white;position: relative;}#sk-container-id-2 div.sk-item::before, #sk-container-id-2 div.sk-parallel-item::before {content: \"\";position: absolute;border-left: 1px solid gray;box-sizing: border-box;top: 0;bottom: 0;left: 50%;z-index: -1;}#sk-container-id-2 div.sk-parallel-item {display: flex;flex-direction: column;z-index: 1;position: relative;background-color: white;}#sk-container-id-2 div.sk-parallel-item:first-child::after {align-self: flex-end;width: 50%;}#sk-container-id-2 div.sk-parallel-item:last-child::after {align-self: flex-start;width: 50%;}#sk-container-id-2 div.sk-parallel-item:only-child::after {width: 0;}#sk-container-id-2 div.sk-dashed-wrapped {border: 1px dashed gray;margin: 0 0.4em 0.5em 0.4em;box-sizing: border-box;padding-bottom: 0.4em;background-color: white;}#sk-container-id-2 div.sk-label label {font-family: monospace;font-weight: bold;display: inline-block;line-height: 1.2em;}#sk-container-id-2 div.sk-label-container {text-align: center;}#sk-container-id-2 div.sk-container {/* jupyter's `normalize.less` sets `[hidden] { display: none; }` but bootstrap.min.css set `[hidden] { display: none !important; }` so we also need the `!important` here to be able to override the default hidden behavior on the sphinx rendered scikit-learn.org. See: https://github.com/scikit-learn/scikit-learn/issues/21755 */display: inline-block !important;position: relative;}#sk-container-id-2 div.sk-text-repr-fallback {display: none;}</style><div id=\"sk-container-id-2\" class=\"sk-top-container\"><div class=\"sk-text-repr-fallback\"><pre>MultinomialNB()</pre><b>In a Jupyter environment, please rerun this cell to show the HTML representation or trust the notebook. <br />On GitHub, the HTML representation is unable to render, please try loading this page with nbviewer.org.</b></div><div class=\"sk-container\" hidden><div class=\"sk-item\"><div class=\"sk-estimator sk-toggleable\"><input class=\"sk-toggleable__control sk-hidden--visually\" id=\"sk-estimator-id-2\" type=\"checkbox\" checked><label for=\"sk-estimator-id-2\" class=\"sk-toggleable__label sk-toggleable__label-arrow\">MultinomialNB</label><div class=\"sk-toggleable__content\"><pre>MultinomialNB()</pre></div></div></div></div></div>"
            ]
          },
          "metadata": {},
          "execution_count": 18
        }
      ],
      "source": [
        "\"\"\"\n",
        "Train the Naive Bayes Classifier using the TF-IDF features.\n",
        "\"\"\"\n",
        "\n",
        "from sklearn.naive_bayes import MultinomialNB\n",
        "\n",
        "nb_classifier = MultinomialNB()\n",
        "nb_classifier.fit(X_train_tfidf, y_train)"
      ]
    },
    {
      "cell_type": "code",
      "execution_count": 19,
      "id": "b802acc2",
      "metadata": {
        "id": "b802acc2"
      },
      "outputs": [],
      "source": [
        "\"\"\"\n",
        "Predict on the test data. Getting both Probabilities and Prediction Labels.\n",
        "\"\"\"\n",
        "y_pred = nb_classifier.predict(X_test_tfidf)"
      ]
    },
    {
      "cell_type": "code",
      "execution_count": 20,
      "id": "17196ef7",
      "metadata": {
        "id": "17196ef7"
      },
      "outputs": [],
      "source": [
        "def calculate_metrics_and_plot(y_test, y_pred):\n",
        "    \"\"\"\n",
        "    Plotting the Confusion Matrix.\n",
        "    \"\"\"\n",
        "    report = classification_report(y_test, y_pred, target_names=['Ham', 'Spam'], output_dict=True)\n",
        "    print(classification_report(y_test, y_pred, target_names=['Ham', 'Spam']))\n",
        "\n",
        "    plt.figure(figsize=(5,4))\n",
        "    sns.heatmap(confusion_matrix(y_test, y_pred), annot=True,\n",
        "                fmt='d', cmap='Blues', xticklabels=['Ham', 'Spam'],\n",
        "                yticklabels=['Ham', 'Spam'])\n",
        "    plt.title('Confusion Matrix for Naive Bayes Classifier')\n",
        "    plt.xlabel('Predicted Labels')\n",
        "    plt.ylabel('True Labels')\n",
        "    plt.show()"
      ]
    },
    {
      "cell_type": "code",
      "execution_count": 21,
      "id": "65dc05f8",
      "metadata": {
        "colab": {
          "base_uri": "https://localhost:8080/",
          "height": 566
        },
        "id": "65dc05f8",
        "outputId": "c404e70d-9736-42b9-dde6-b0f0a29b46ad"
      },
      "outputs": [
        {
          "output_type": "stream",
          "name": "stdout",
          "text": [
            "              precision    recall  f1-score   support\n",
            "\n",
            "         Ham       0.95      1.00      0.97      1180\n",
            "        Spam       1.00      0.70      0.82       213\n",
            "\n",
            "    accuracy                           0.95      1393\n",
            "   macro avg       0.97      0.85      0.90      1393\n",
            "weighted avg       0.96      0.95      0.95      1393\n",
            "\n"
          ]
        },
        {
          "output_type": "display_data",
          "data": {
            "text/plain": [
              "<Figure size 500x400 with 2 Axes>"
            ],
            "image/png": "[encoded data removed]"
          },
          "metadata": {}
        }
      ],
      "source": [
        "calculate_metrics_and_plot(y_test, y_pred)"
      ]
    },
    {
      "cell_type": "markdown",
      "id": "94196d5c",
      "metadata": {
        "id": "94196d5c"
      },
      "source": [
        "### Other Appraoch -  to build features using Word2Vec"
      ]
    },
    {
      "cell_type": "code",
      "execution_count": 22,
      "id": "e9fd35cd",
      "metadata": {
        "colab": {
          "base_uri": "https://localhost:8080/"
        },
        "id": "e9fd35cd",
        "outputId": "16125a9b-9dcf-4817-f90b-a9197d87a2ca"
      },
      "outputs": [
        {
          "output_type": "stream",
          "name": "stdout",
          "text": [
            "Training Size = 4457, 4457\n",
            "Test Size     = 1115, 1115\n"
          ]
        }
      ],
      "source": [
        "X = data['pre_processed_sms']\n",
        "y = data['v1']\n",
        "X_train, X_test, y_train, y_test = train_test_split(X, y, test_size=0.2, random_state=42)\n",
        "\n",
        "X_train = X_train.reset_index(drop = True)\n",
        "X_test = X_test.reset_index(drop = True)\n",
        "y_train = y_train.reset_index(drop = True)\n",
        "y_test = y_test.reset_index(drop = True)\n",
        "\n",
        "print(f\"Training Size = {X_train.shape[0]}, {y_train.shape[0]}\")\n",
        "print(f\"Test Size     = {X_test.shape[0]}, {y_test.shape[0]}\")"
      ]
    },
    {
      "cell_type": "code",
      "execution_count": 23,
      "id": "9a44964e",
      "metadata": {
        "colab": {
          "base_uri": "https://localhost:8080/"
        },
        "id": "9a44964e",
        "outputId": "b4e1c465-d878-4a3d-e440-3f255910f249"
      },
      "outputs": [
        {
          "output_type": "stream",
          "name": "stderr",
          "text": [
            "WARNING:gensim.models.word2vec:Each 'sentences' item should be a list of words (usually unicode strings). First item here is instead plain <class 'str'>.\n"
          ]
        }
      ],
      "source": [
        "wv_model = Word2Vec(sentences=X_train, vector_size=500, window=5, min_count=1, workers=4)"
      ]
    },
    {
      "cell_type": "code",
      "execution_count": 25,
      "id": "7a36e9fc",
      "metadata": {
        "colab": {
          "base_uri": "https://localhost:8080/"
        },
        "id": "7a36e9fc",
        "outputId": "d2cb0594-86d3-4fd3-b1f0-927d95167431"
      },
      "outputs": [
        {
          "output_type": "stream",
          "name": "stdout",
          "text": [
            "Training Size = 4457, (4457,)\n",
            "Test Size     = 1115,  (1115,)\n"
          ]
        }
      ],
      "source": [
        "\"\"\"\n",
        "Feature Generation using Words2Vec\n",
        "\"\"\"\n",
        "\n",
        "from sklearn.preprocessing import MinMaxScaler\n",
        "\n",
        "def convert_word_to_vector(sms, size):\n",
        "    vec = np.zeros(size).reshape((1, size))\n",
        "    count = 0\n",
        "    for word in sms:\n",
        "        try:\n",
        "            vec += wv_model.wv[word].reshape((1, size))\n",
        "            count += 1.\n",
        "        except KeyError:\n",
        "            continue\n",
        "    if count != 0:\n",
        "        vec /= count\n",
        "    return vec\n",
        "\n",
        "\n",
        "X_train_vecs = scale(np.concatenate([convert_word_to_vector(z, 500) for z in X_train]))\n",
        "X_test_vecs = scale(np.concatenate([convert_word_to_vector(z, 500) for z in X_test]))\n",
        "\n",
        "# Perform MinMax scaling\n",
        "scaler = MinMaxScaler()\n",
        "X_train_vecs_scaled = scaler.fit_transform(X_train_vecs)\n",
        "X_test_vecs_scaled = scaler.transform(X_test_vecs)\n",
        "\n",
        "print(f\"Training Size = {X_train_vecs_scaled.shape[0]}, {y_train.shape}\")\n",
        "print(f\"Test Size     = {X_test_vecs_scaled.shape[0]},  {y_test.shape}\")"
      ]
    },
    {
      "cell_type": "code",
      "execution_count": 26,
      "id": "55b5daae",
      "metadata": {
        "id": "55b5daae"
      },
      "outputs": [],
      "source": [
        "nb_classifier = MultinomialNB(alpha=.5)\n",
        "nb_classifier.fit(X_train_vecs_scaled, y_train)\n",
        "y_pred = nb_classifier.predict(X_test_vecs_scaled)"
      ]
    },
    {
      "cell_type": "code",
      "execution_count": 27,
      "id": "7b989691",
      "metadata": {
        "colab": {
          "base_uri": "https://localhost:8080/",
          "height": 566
        },
        "id": "7b989691",
        "outputId": "69568ba4-0b15-43ce-decc-e2bdaf76b4d7"
      },
      "outputs": [
        {
          "output_type": "stream",
          "name": "stdout",
          "text": [
            "              precision    recall  f1-score   support\n",
            "\n",
            "         Ham       0.88      0.96      0.92       965\n",
            "        Spam       0.34      0.15      0.21       150\n",
            "\n",
            "    accuracy                           0.85      1115\n",
            "   macro avg       0.61      0.55      0.56      1115\n",
            "weighted avg       0.81      0.85      0.82      1115\n",
            "\n"
          ]
        },
        {
          "output_type": "display_data",
          "data": {
            "text/plain": [
              "<Figure size 500x400 with 2 Axes>"
            ],
            "image/png": "[encoded data removed]"
          },
          "metadata": {}
        }
      ],
      "source": [
        "calculate_metrics_and_plot(y_test, y_pred)"
      ]
    },
    {
      "cell_type": "markdown",
      "id": "7a792687",
      "metadata": {
        "id": "7a792687"
      },
      "source": [
        "## Observations -  As its clear from results that tfidf way of feature generation works best for SPAM detection."
      ]
    },
    {
      "cell_type": "code",
      "execution_count": null,
      "id": "7fe8609d",
      "metadata": {
        "id": "7fe8609d"
      },
      "outputs": [],
      "source": []
    }
  ],
  "metadata": {
    "colab": {
      "provenance": [],
      "include_colab_link": true
    },
    "kernelspec": {
      "display_name": "Python 3 (ipykernel)",
      "language": "python",
      "name": "python3"
    },
    "language_info": {
      "codemirror_mode": {
        "name": "ipython",
        "version": 3
      },
      "file_extension": ".py",
      "mimetype": "text/x-python",
      "name": "python",
      "nbconvert_exporter": "python",
      "pygments_lexer": "ipython3",
      "version": "3.10.13"
    },
    "varInspector": {
      "cols": {
        "lenName": 16,
        "lenType": 16,
        "lenVar": 40
      },
      "kernels_config": {
        "python": {
          "delete_cmd_postfix": "",
          "delete_cmd_prefix": "del ",
          "library": "var_list.py",
          "varRefreshCmd": "print(var_dic_list())"
        },
        "r": {
          "delete_cmd_postfix": ") ",
          "delete_cmd_prefix": "rm(",
          "library": "var_list.r",
          "varRefreshCmd": "cat(var_dic_list()) "
        }
      },
      "types_to_exclude": [
        "module",
        "function",
        "builtin_function_or_method",
        "instance",
        "_Feature"
      ],
      "window_display": false
    }
  },
  "nbformat": 4,
  "nbformat_minor": 5
}