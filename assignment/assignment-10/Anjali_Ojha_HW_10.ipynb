{
  "cells": [
    {
      "cell_type": "markdown",
      "metadata": {
        "id": "view-in-github",
        "colab_type": "text"
      },
      "source": [
        "<a href=\"https://colab.research.google.com/github/anjali-ojha/deep-learning/blob/a10/assignment/assignment-10/Anjali_Ojha_HW_10.ipynb\" target=\"_parent\"><img src=\"https://colab.research.google.com/assets/colab-badge.svg\" alt=\"Open In Colab\"/></a>"
      ]
    },
    {
      "cell_type": "markdown",
      "source": [
        "GitHub Link -"
      ],
      "metadata": {
        "id": "MCXux72R71Cc"
      },
      "id": "MCXux72R71Cc"
    },
    {
      "cell_type": "markdown",
      "id": "0504fc67-30d6-4e17-9baf-caa74b03ffb3",
      "metadata": {
        "id": "0504fc67-30d6-4e17-9baf-caa74b03ffb3"
      },
      "source": [
        "# BERT for QnA:\n",
        "\n",
        "# 1. Load the SQUAD 2.0 (https://pytorch.org/text/stable/datasets.html#torchtext.datasets.SQuAD2) dataset from pytorch dataset library. take minimum 20 QnA pairs.\n",
        "\n",
        "\n"
      ]
    },
    {
      "cell_type": "code",
      "execution_count": null,
      "id": "e1pLMNjvG-KB",
      "metadata": {
        "colab": {
          "base_uri": "https://localhost:8080/"
        },
        "id": "e1pLMNjvG-KB",
        "outputId": "7fc925c0-345d-4a8c-df6a-0cb4597a5e1f",
        "tags": []
      },
      "outputs": [
        {
          "output_type": "stream",
          "name": "stdout",
          "text": [
            "Collecting datasets\n",
            "  Downloading datasets-2.19.0-py3-none-any.whl (542 kB)\n",
            "\u001b[2K     \u001b[90m━━━━━━━━━━━━━━━━━━━━━━━━━━━━━━━━━━━━━━━━\u001b[0m \u001b[32m542.0/542.0 kB\u001b[0m \u001b[31m6.4 MB/s\u001b[0m eta \u001b[36m0:00:00\u001b[0m\n",
            "\u001b[?25hRequirement already satisfied: filelock in /usr/local/lib/python3.10/dist-packages (from datasets) (3.13.4)\n",
            "Requirement already satisfied: numpy>=1.17 in /usr/local/lib/python3.10/dist-packages (from datasets) (1.25.2)\n",
            "Requirement already satisfied: pyarrow>=12.0.0 in /usr/local/lib/python3.10/dist-packages (from datasets) (14.0.2)\n",
            "Requirement already satisfied: pyarrow-hotfix in /usr/local/lib/python3.10/dist-packages (from datasets) (0.6)\n",
            "Collecting dill<0.3.9,>=0.3.0 (from datasets)\n",
            "  Downloading dill-0.3.8-py3-none-any.whl (116 kB)\n",
            "\u001b[2K     \u001b[90m━━━━━━━━━━━━━━━━━━━━━━━━━━━━━━━━━━━━━━━━\u001b[0m \u001b[32m116.3/116.3 kB\u001b[0m \u001b[31m9.7 MB/s\u001b[0m eta \u001b[36m0:00:00\u001b[0m\n",
            "\u001b[?25hRequirement already satisfied: pandas in /usr/local/lib/python3.10/dist-packages (from datasets) (2.0.3)\n",
            "Requirement already satisfied: requests>=2.19.0 in /usr/local/lib/python3.10/dist-packages (from datasets) (2.31.0)\n",
            "Requirement already satisfied: tqdm>=4.62.1 in /usr/local/lib/python3.10/dist-packages (from datasets) (4.66.2)\n",
            "Collecting xxhash (from datasets)\n",
            "  Downloading xxhash-3.4.1-cp310-cp310-manylinux_2_17_x86_64.manylinux2014_x86_64.whl (194 kB)\n",
            "\u001b[2K     \u001b[90m━━━━━━━━━━━━━━━━━━━━━━━━━━━━━━━━━━━━━━━━\u001b[0m \u001b[32m194.1/194.1 kB\u001b[0m \u001b[31m12.4 MB/s\u001b[0m eta \u001b[36m0:00:00\u001b[0m\n",
            "\u001b[?25hCollecting multiprocess (from datasets)\n",
            "  Downloading multiprocess-0.70.16-py310-none-any.whl (134 kB)\n",
            "\u001b[2K     \u001b[90m━━━━━━━━━━━━━━━━━━━━━━━━━━━━━━━━━━━━━━━━\u001b[0m \u001b[32m134.8/134.8 kB\u001b[0m \u001b[31m15.0 MB/s\u001b[0m eta \u001b[36m0:00:00\u001b[0m\n",
            "\u001b[?25hRequirement already satisfied: fsspec[http]<=2024.3.1,>=2023.1.0 in /usr/local/lib/python3.10/dist-packages (from datasets) (2023.6.0)\n",
            "Requirement already satisfied: aiohttp in /usr/local/lib/python3.10/dist-packages (from datasets) (3.9.5)\n",
            "Collecting huggingface-hub>=0.21.2 (from datasets)\n",
            "  Downloading huggingface_hub-0.22.2-py3-none-any.whl (388 kB)\n",
            "\u001b[2K     \u001b[90m━━━━━━━━━━━━━━━━━━━━━━━━━━━━━━━━━━━━━━━━\u001b[0m \u001b[32m388.9/388.9 kB\u001b[0m \u001b[31m31.2 MB/s\u001b[0m eta \u001b[36m0:00:00\u001b[0m\n",
            "\u001b[?25hRequirement already satisfied: packaging in /usr/local/lib/python3.10/dist-packages (from datasets) (24.0)\n",
            "Requirement already satisfied: pyyaml>=5.1 in /usr/local/lib/python3.10/dist-packages (from datasets) (6.0.1)\n",
            "Requirement already satisfied: aiosignal>=1.1.2 in /usr/local/lib/python3.10/dist-packages (from aiohttp->datasets) (1.3.1)\n",
            "Requirement already satisfied: attrs>=17.3.0 in /usr/local/lib/python3.10/dist-packages (from aiohttp->datasets) (23.2.0)\n",
            "Requirement already satisfied: frozenlist>=1.1.1 in /usr/local/lib/python3.10/dist-packages (from aiohttp->datasets) (1.4.1)\n",
            "Requirement already satisfied: multidict<7.0,>=4.5 in /usr/local/lib/python3.10/dist-packages (from aiohttp->datasets) (6.0.5)\n",
            "Requirement already satisfied: yarl<2.0,>=1.0 in /usr/local/lib/python3.10/dist-packages (from aiohttp->datasets) (1.9.4)\n",
            "Requirement already satisfied: async-timeout<5.0,>=4.0 in /usr/local/lib/python3.10/dist-packages (from aiohttp->datasets) (4.0.3)\n",
            "Requirement already satisfied: typing-extensions>=3.7.4.3 in /usr/local/lib/python3.10/dist-packages (from huggingface-hub>=0.21.2->datasets) (4.11.0)\n",
            "Requirement already satisfied: charset-normalizer<4,>=2 in /usr/local/lib/python3.10/dist-packages (from requests>=2.19.0->datasets) (3.3.2)\n",
            "Requirement already satisfied: idna<4,>=2.5 in /usr/local/lib/python3.10/dist-packages (from requests>=2.19.0->datasets) (3.7)\n",
            "Requirement already satisfied: urllib3<3,>=1.21.1 in /usr/local/lib/python3.10/dist-packages (from requests>=2.19.0->datasets) (2.0.7)\n",
            "Requirement already satisfied: certifi>=2017.4.17 in /usr/local/lib/python3.10/dist-packages (from requests>=2.19.0->datasets) (2024.2.2)\n",
            "Requirement already satisfied: python-dateutil>=2.8.2 in /usr/local/lib/python3.10/dist-packages (from pandas->datasets) (2.8.2)\n",
            "Requirement already satisfied: pytz>=2020.1 in /usr/local/lib/python3.10/dist-packages (from pandas->datasets) (2023.4)\n",
            "Requirement already satisfied: tzdata>=2022.1 in /usr/local/lib/python3.10/dist-packages (from pandas->datasets) (2024.1)\n",
            "Requirement already satisfied: six>=1.5 in /usr/local/lib/python3.10/dist-packages (from python-dateutil>=2.8.2->pandas->datasets) (1.16.0)\n",
            "Installing collected packages: xxhash, dill, multiprocess, huggingface-hub, datasets\n",
            "  Attempting uninstall: huggingface-hub\n",
            "    Found existing installation: huggingface-hub 0.20.3\n",
            "    Uninstalling huggingface-hub-0.20.3:\n",
            "      Successfully uninstalled huggingface-hub-0.20.3\n",
            "Successfully installed datasets-2.19.0 dill-0.3.8 huggingface-hub-0.22.2 multiprocess-0.70.16 xxhash-3.4.1\n",
            "Collecting portalocker\n",
            "  Downloading portalocker-2.8.2-py3-none-any.whl (17 kB)\n",
            "Installing collected packages: portalocker\n",
            "Successfully installed portalocker-2.8.2\n",
            "Requirement already satisfied: transformers in /usr/local/lib/python3.10/dist-packages (4.40.0)\n",
            "Requirement already satisfied: datasets in /usr/local/lib/python3.10/dist-packages (2.19.0)\n",
            "Requirement already satisfied: torch in /usr/local/lib/python3.10/dist-packages (2.2.1+cu121)\n",
            "Requirement already satisfied: filelock in /usr/local/lib/python3.10/dist-packages (from transformers) (3.13.4)\n",
            "Requirement already satisfied: huggingface-hub<1.0,>=0.19.3 in /usr/local/lib/python3.10/dist-packages (from transformers) (0.22.2)\n",
            "Requirement already satisfied: numpy>=1.17 in /usr/local/lib/python3.10/dist-packages (from transformers) (1.25.2)\n",
            "Requirement already satisfied: packaging>=20.0 in /usr/local/lib/python3.10/dist-packages (from transformers) (24.0)\n",
            "Requirement already satisfied: pyyaml>=5.1 in /usr/local/lib/python3.10/dist-packages (from transformers) (6.0.1)\n",
            "Requirement already satisfied: regex!=2019.12.17 in /usr/local/lib/python3.10/dist-packages (from transformers) (2023.12.25)\n",
            "Requirement already satisfied: requests in /usr/local/lib/python3.10/dist-packages (from transformers) (2.31.0)\n",
            "Requirement already satisfied: tokenizers<0.20,>=0.19 in /usr/local/lib/python3.10/dist-packages (from transformers) (0.19.1)\n",
            "Requirement already satisfied: safetensors>=0.4.1 in /usr/local/lib/python3.10/dist-packages (from transformers) (0.4.3)\n",
            "Requirement already satisfied: tqdm>=4.27 in /usr/local/lib/python3.10/dist-packages (from transformers) (4.66.2)\n",
            "Requirement already satisfied: pyarrow>=12.0.0 in /usr/local/lib/python3.10/dist-packages (from datasets) (14.0.2)\n",
            "Requirement already satisfied: pyarrow-hotfix in /usr/local/lib/python3.10/dist-packages (from datasets) (0.6)\n",
            "Requirement already satisfied: dill<0.3.9,>=0.3.0 in /usr/local/lib/python3.10/dist-packages (from datasets) (0.3.8)\n",
            "Requirement already satisfied: pandas in /usr/local/lib/python3.10/dist-packages (from datasets) (2.0.3)\n",
            "Requirement already satisfied: xxhash in /usr/local/lib/python3.10/dist-packages (from datasets) (3.4.1)\n",
            "Requirement already satisfied: multiprocess in /usr/local/lib/python3.10/dist-packages (from datasets) (0.70.16)\n",
            "Requirement already satisfied: fsspec[http]<=2024.3.1,>=2023.1.0 in /usr/local/lib/python3.10/dist-packages (from datasets) (2023.6.0)\n",
            "Requirement already satisfied: aiohttp in /usr/local/lib/python3.10/dist-packages (from datasets) (3.9.5)\n",
            "Requirement already satisfied: typing-extensions>=4.8.0 in /usr/local/lib/python3.10/dist-packages (from torch) (4.11.0)\n",
            "Requirement already satisfied: sympy in /usr/local/lib/python3.10/dist-packages (from torch) (1.12)\n",
            "Requirement already satisfied: networkx in /usr/local/lib/python3.10/dist-packages (from torch) (3.3)\n",
            "Requirement already satisfied: jinja2 in /usr/local/lib/python3.10/dist-packages (from torch) (3.1.3)\n",
            "Collecting nvidia-cuda-nvrtc-cu12==12.1.105 (from torch)\n",
            "  Using cached nvidia_cuda_nvrtc_cu12-12.1.105-py3-none-manylinux1_x86_64.whl (23.7 MB)\n",
            "Collecting nvidia-cuda-runtime-cu12==12.1.105 (from torch)\n",
            "  Using cached nvidia_cuda_runtime_cu12-12.1.105-py3-none-manylinux1_x86_64.whl (823 kB)\n",
            "Collecting nvidia-cuda-cupti-cu12==12.1.105 (from torch)\n",
            "  Using cached nvidia_cuda_cupti_cu12-12.1.105-py3-none-manylinux1_x86_64.whl (14.1 MB)\n",
            "Collecting nvidia-cudnn-cu12==8.9.2.26 (from torch)\n",
            "  Using cached nvidia_cudnn_cu12-8.9.2.26-py3-none-manylinux1_x86_64.whl (731.7 MB)\n",
            "Collecting nvidia-cublas-cu12==12.1.3.1 (from torch)\n",
            "  Using cached nvidia_cublas_cu12-12.1.3.1-py3-none-manylinux1_x86_64.whl (410.6 MB)\n",
            "Collecting nvidia-cufft-cu12==11.0.2.54 (from torch)\n",
            "  Using cached nvidia_cufft_cu12-11.0.2.54-py3-none-manylinux1_x86_64.whl (121.6 MB)\n",
            "Collecting nvidia-curand-cu12==10.3.2.106 (from torch)\n",
            "  Using cached nvidia_curand_cu12-10.3.2.106-py3-none-manylinux1_x86_64.whl (56.5 MB)\n",
            "Collecting nvidia-cusolver-cu12==11.4.5.107 (from torch)\n",
            "  Using cached nvidia_cusolver_cu12-11.4.5.107-py3-none-manylinux1_x86_64.whl (124.2 MB)\n",
            "Collecting nvidia-cusparse-cu12==12.1.0.106 (from torch)\n",
            "  Using cached nvidia_cusparse_cu12-12.1.0.106-py3-none-manylinux1_x86_64.whl (196.0 MB)\n",
            "Collecting nvidia-nccl-cu12==2.19.3 (from torch)\n",
            "  Using cached nvidia_nccl_cu12-2.19.3-py3-none-manylinux1_x86_64.whl (166.0 MB)\n",
            "Collecting nvidia-nvtx-cu12==12.1.105 (from torch)\n",
            "  Using cached nvidia_nvtx_cu12-12.1.105-py3-none-manylinux1_x86_64.whl (99 kB)\n",
            "Requirement already satisfied: triton==2.2.0 in /usr/local/lib/python3.10/dist-packages (from torch) (2.2.0)\n",
            "Collecting nvidia-nvjitlink-cu12 (from nvidia-cusolver-cu12==11.4.5.107->torch)\n",
            "  Using cached nvidia_nvjitlink_cu12-12.4.127-py3-none-manylinux2014_x86_64.whl (21.1 MB)\n",
            "Requirement already satisfied: aiosignal>=1.1.2 in /usr/local/lib/python3.10/dist-packages (from aiohttp->datasets) (1.3.1)\n",
            "Requirement already satisfied: attrs>=17.3.0 in /usr/local/lib/python3.10/dist-packages (from aiohttp->datasets) (23.2.0)\n",
            "Requirement already satisfied: frozenlist>=1.1.1 in /usr/local/lib/python3.10/dist-packages (from aiohttp->datasets) (1.4.1)\n",
            "Requirement already satisfied: multidict<7.0,>=4.5 in /usr/local/lib/python3.10/dist-packages (from aiohttp->datasets) (6.0.5)\n",
            "Requirement already satisfied: yarl<2.0,>=1.0 in /usr/local/lib/python3.10/dist-packages (from aiohttp->datasets) (1.9.4)\n",
            "Requirement already satisfied: async-timeout<5.0,>=4.0 in /usr/local/lib/python3.10/dist-packages (from aiohttp->datasets) (4.0.3)\n",
            "Requirement already satisfied: charset-normalizer<4,>=2 in /usr/local/lib/python3.10/dist-packages (from requests->transformers) (3.3.2)\n",
            "Requirement already satisfied: idna<4,>=2.5 in /usr/local/lib/python3.10/dist-packages (from requests->transformers) (3.7)\n",
            "Requirement already satisfied: urllib3<3,>=1.21.1 in /usr/local/lib/python3.10/dist-packages (from requests->transformers) (2.0.7)\n",
            "Requirement already satisfied: certifi>=2017.4.17 in /usr/local/lib/python3.10/dist-packages (from requests->transformers) (2024.2.2)\n",
            "Requirement already satisfied: MarkupSafe>=2.0 in /usr/local/lib/python3.10/dist-packages (from jinja2->torch) (2.1.5)\n",
            "Requirement already satisfied: python-dateutil>=2.8.2 in /usr/local/lib/python3.10/dist-packages (from pandas->datasets) (2.8.2)\n",
            "Requirement already satisfied: pytz>=2020.1 in /usr/local/lib/python3.10/dist-packages (from pandas->datasets) (2023.4)\n",
            "Requirement already satisfied: tzdata>=2022.1 in /usr/local/lib/python3.10/dist-packages (from pandas->datasets) (2024.1)\n",
            "Requirement already satisfied: mpmath>=0.19 in /usr/local/lib/python3.10/dist-packages (from sympy->torch) (1.3.0)\n",
            "Requirement already satisfied: six>=1.5 in /usr/local/lib/python3.10/dist-packages (from python-dateutil>=2.8.2->pandas->datasets) (1.16.0)\n",
            "Installing collected packages: nvidia-nvtx-cu12, nvidia-nvjitlink-cu12, nvidia-nccl-cu12, nvidia-curand-cu12, nvidia-cufft-cu12, nvidia-cuda-runtime-cu12, nvidia-cuda-nvrtc-cu12, nvidia-cuda-cupti-cu12, nvidia-cublas-cu12, nvidia-cusparse-cu12, nvidia-cudnn-cu12, nvidia-cusolver-cu12\n",
            "Successfully installed nvidia-cublas-cu12-12.1.3.1 nvidia-cuda-cupti-cu12-12.1.105 nvidia-cuda-nvrtc-cu12-12.1.105 nvidia-cuda-runtime-cu12-12.1.105 nvidia-cudnn-cu12-8.9.2.26 nvidia-cufft-cu12-11.0.2.54 nvidia-curand-cu12-10.3.2.106 nvidia-cusolver-cu12-11.4.5.107 nvidia-cusparse-cu12-12.1.0.106 nvidia-nccl-cu12-2.19.3 nvidia-nvjitlink-cu12-12.4.127 nvidia-nvtx-cu12-12.1.105\n"
          ]
        }
      ],
      "source": [
        "! pip install datasets\n",
        "! pip install portalocker\n",
        "! pip install transformers datasets torch"
      ]
    },
    {
      "cell_type": "code",
      "execution_count": null,
      "id": "4950160d-0392-4414-9ebf-b733d0520c93",
      "metadata": {
        "colab": {
          "base_uri": "https://localhost:8080/"
        },
        "id": "4950160d-0392-4414-9ebf-b733d0520c93",
        "outputId": "b3b798d6-5d93-43c1-aea7-5c1747ca7663",
        "tags": []
      },
      "outputs": [
        {
          "output_type": "stream",
          "name": "stdout",
          "text": [
            "--2024-04-24 20:36:23--  https://rajpurkar.github.io/SQuAD-explorer/dataset/train-v2.0.json\n",
            "Resolving rajpurkar.github.io (rajpurkar.github.io)... 185.199.108.153, 185.199.109.153, 185.199.110.153, ...\n",
            "Connecting to rajpurkar.github.io (rajpurkar.github.io)|185.199.108.153|:443... connected.\n",
            "HTTP request sent, awaiting response... 200 OK\n",
            "Length: 42123633 (40M) [application/json]\n",
            "Saving to: ‘data/train-v2.0.json’\n",
            "\n",
            "data/train-v2.0.jso 100%[===================>]  40.17M   242MB/s    in 0.2s    \n",
            "\n",
            "2024-04-24 20:36:23 (242 MB/s) - ‘data/train-v2.0.json’ saved [42123633/42123633]\n",
            "\n",
            "--2024-04-24 20:36:23--  https://rajpurkar.github.io/SQuAD-explorer/dataset/dev-v2.0.json\n",
            "Resolving rajpurkar.github.io (rajpurkar.github.io)... 185.199.108.153, 185.199.109.153, 185.199.110.153, ...\n",
            "Connecting to rajpurkar.github.io (rajpurkar.github.io)|185.199.108.153|:443... connected.\n",
            "HTTP request sent, awaiting response... 200 OK\n",
            "Length: 4370528 (4.2M) [application/json]\n",
            "Saving to: ‘data/dev-v2.0.json’\n",
            "\n",
            "data/dev-v2.0.json  100%[===================>]   4.17M  --.-KB/s    in 0.04s   \n",
            "\n",
            "2024-04-24 20:36:24 (102 MB/s) - ‘data/dev-v2.0.json’ saved [4370528/4370528]\n",
            "\n"
          ]
        }
      ],
      "source": [
        "!mkdir data\n",
        "!wget https://rajpurkar.github.io/SQuAD-explorer/dataset/train-v2.0.json -O data/train-v2.0.json\n",
        "!wget https://rajpurkar.github.io/SQuAD-explorer/dataset/dev-v2.0.json -O data/dev-v2.0.json"
      ]
    },
    {
      "cell_type": "code",
      "execution_count": null,
      "id": "fed34438-75f1-4c50-9381-b33f7a3bf6ed",
      "metadata": {
        "tags": [],
        "id": "fed34438-75f1-4c50-9381-b33f7a3bf6ed"
      },
      "outputs": [],
      "source": [
        "import json\n",
        "from pathlib import Path\n",
        "import torch\n",
        "from torch.utils.data import DataLoader\n",
        "import time"
      ]
    },
    {
      "cell_type": "code",
      "execution_count": null,
      "id": "1SGE9iXwLJaW",
      "metadata": {
        "colab": {
          "base_uri": "https://localhost:8080/"
        },
        "id": "1SGE9iXwLJaW",
        "outputId": "6527cc94-202a-4936-f3af-3e9326096899",
        "tags": []
      },
      "outputs": [
        {
          "output_type": "stream",
          "name": "stdout",
          "text": [
            "Train Questions =  ['When did Beyonce start becoming popular?']\n",
            "86821 86821\n",
            "Test Questions =  ['In what country is Normandy located?']\n",
            "20302 20302\n"
          ]
        }
      ],
      "source": [
        "import json\n",
        "\n",
        "def load_data(json_path):\n",
        "    \"\"\" Load data from Json file and extract differnet informations. \"\"\"\n",
        "    with open(json_path, 'r') as reader:\n",
        "        data = json.load(reader)\n",
        "\n",
        "    contexts = []\n",
        "    questions = []\n",
        "    answers = []\n",
        "\n",
        "    for group in data['data']:\n",
        "        for passage in group['paragraphs']:\n",
        "            context = passage['context']\n",
        "            for qa in passage['qas']:\n",
        "                question = qa['question']\n",
        "                for answer in qa['answers']:\n",
        "                    contexts.append(context)\n",
        "                    questions.append(question)\n",
        "                    answers.append(answer)\n",
        "\n",
        "    return contexts, questions, answers\n",
        "\n",
        "\n",
        "train_texts, train_queries, train_answers = load_data('data/train-v2.0.json')\n",
        "print(\"Train Questions = \", train_queries[:1])\n",
        "print(len(train_texts), len(train_answers))\n",
        "\n",
        "test_texts, test_queries, test_answers = load_data('data/dev-v2.0.json')\n",
        "print(\"Test Questions = \", test_queries[:1])\n",
        "print(len(test_texts), len(test_answers))\n"
      ]
    },
    {
      "cell_type": "code",
      "execution_count": null,
      "id": "312ad02e-67ed-49fc-b52a-e2fe43f93852",
      "metadata": {
        "tags": [],
        "id": "312ad02e-67ed-49fc-b52a-e2fe43f93852"
      },
      "outputs": [],
      "source": [
        "# Taking sub-sample of the data\n",
        "num_samples = 500\n",
        "\n",
        "train_texts = train_texts[:num_samples]\n",
        "train_queries = train_queries[:num_samples]\n",
        "train_answers = train_answers[:num_samples]\n",
        "\n",
        "test_texts = test_texts[:num_samples]\n",
        "test_queries = test_queries[:num_samples]\n",
        "test_answers = test_answers[:num_samples]"
      ]
    },
    {
      "cell_type": "markdown",
      "id": "ChMhM-gtWL42",
      "metadata": {
        "id": "ChMhM-gtWL42"
      },
      "source": [
        "# 2. Display a few raw QnA data samples.\n"
      ]
    },
    {
      "cell_type": "code",
      "execution_count": null,
      "id": "zz4EUooGWNJr",
      "metadata": {
        "colab": {
          "base_uri": "https://localhost:8080/"
        },
        "id": "zz4EUooGWNJr",
        "outputId": "62de0bf7-270b-421c-d548-630a6ba5add5",
        "tags": []
      },
      "outputs": [
        {
          "output_type": "stream",
          "name": "stdout",
          "text": [
            "Context =  Beyoncé Giselle Knowles-Carter (/biːˈjɒnseɪ/ bee-YON-say) (born September 4, 1981) is an American singer, songwriter, record producer and actress. Born and raised in Houston, Texas, she performed in various singing and dancing competitions as a child, and rose to fame in the late 1990s as lead singer of R&B girl-group Destiny's Child. Managed by her father, Mathew Knowles, the group became one of the world's best-selling girl groups of all time. Their hiatus saw the release of Beyoncé's debut album, Dangerously in Love (2003), which established her as a solo artist worldwide, earned five Grammy Awards and featured the Billboard Hot 100 number-one singles \"Crazy in Love\" and \"Baby Boy\".\n",
            "\n",
            "sample = 1, \n",
            "\t Ques = When did Beyonce start becoming popular?, \n",
            "\t Ans  = in the late 1990s\n",
            "\n",
            "sample = 2, \n",
            "\t Ques = What areas did Beyonce compete in when she was growing up?, \n",
            "\t Ans  = singing and dancing\n",
            "\n",
            "sample = 3, \n",
            "\t Ques = When did Beyonce leave Destiny's Child and become a solo singer?, \n",
            "\t Ans  = 2003\n",
            "\n",
            "sample = 4, \n",
            "\t Ques = In what city and state did Beyonce  grow up? , \n",
            "\t Ans  = Houston, Texas\n",
            "\n",
            "sample = 5, \n",
            "\t Ques = In which decade did Beyonce become famous?, \n",
            "\t Ans  = late 1990s\n"
          ]
        }
      ],
      "source": [
        "# Printing 5 differnet samples of question and answers\n",
        "print(\"Context = \", train_texts[0])\n",
        "for i in range(5):\n",
        "    print(f\"\\nsample = {i+1}, \\n\\t Ques = {train_queries[i]}, \\n\\t Ans  = {train_answers[i]['text']}\")"
      ]
    },
    {
      "cell_type": "markdown",
      "id": "rKq9saW4WN2Y",
      "metadata": {
        "id": "rKq9saW4WN2Y"
      },
      "source": [
        "# 3. Preprocess/Clean dataset as per BERT format."
      ]
    },
    {
      "cell_type": "code",
      "execution_count": null,
      "id": "AyZ3rhPYWOwl",
      "metadata": {
        "colab": {
          "base_uri": "https://localhost:8080/"
        },
        "id": "AyZ3rhPYWOwl",
        "outputId": "1dc0c5b9-8941-410a-dae9-c8d30b8c7067",
        "tags": []
      },
      "outputs": [
        {
          "output_type": "execute_result",
          "data": {
            "text/plain": [
              "{'text': 'in the late 1990s', 'answer_start': 269, 'answer_end': 286}"
            ]
          },
          "metadata": {},
          "execution_count": 19
        }
      ],
      "source": [
        "def add_start_end(answers, texts):\n",
        "    \"\"\" This method add the start and end index for the answer in the context data \"\"\"\n",
        "    for answer, text in zip(answers, texts):\n",
        "        real_answer = answer['text']\n",
        "        start_idx = answer['answer_start']\n",
        "        end_idx = start_idx + len(real_answer)\n",
        "\n",
        "        if text[start_idx:end_idx] == real_answer:\n",
        "            answer['answer_end'] = end_idx\n",
        "        elif text[start_idx-1:end_idx-1] == real_answer:\n",
        "            answer['answer_start'] = start_idx - 1\n",
        "            answer['answer_end'] = end_idx - 1\n",
        "        elif text[start_idx-2:end_idx-2] == real_answer:\n",
        "            answer['answer_start'] = start_idx - 2\n",
        "            answer['answer_end'] = end_idx - 2\n",
        "    return answers, texts\n",
        "\n",
        "\n",
        "train_answers, train_texts = add_start_end(train_answers, train_texts)\n",
        "test_answers, test_texts = add_start_end(test_answers, test_texts)\n",
        "\n",
        "train_answers[0]"
      ]
    },
    {
      "cell_type": "code",
      "execution_count": null,
      "id": "_5Ktz6pUgWfl",
      "metadata": {
        "id": "_5Ktz6pUgWfl",
        "tags": []
      },
      "outputs": [],
      "source": [
        "from transformers import AutoTokenizer,AdamW,BertForQuestionAnswering\n",
        "\n",
        "tokenizer = AutoTokenizer.from_pretrained(\"bert-base-uncased\")\n",
        "train_encodings = tokenizer(train_texts, train_queries, truncation=True, padding=True)\n",
        "test_encodings  = tokenizer(test_texts, test_queries, truncation=True, padding=True)\n"
      ]
    },
    {
      "cell_type": "code",
      "execution_count": null,
      "id": "cb793af9-d92f-4a02-a630-07c56012a853",
      "metadata": {
        "tags": [],
        "id": "cb793af9-d92f-4a02-a630-07c56012a853",
        "outputId": "9f0dd849-5341-4692-8339-02e876860479",
        "colab": {
          "base_uri": "https://localhost:8080/"
        }
      },
      "outputs": [
        {
          "output_type": "stream",
          "name": "stdout",
          "text": [
            "0\n",
            "0\n"
          ]
        }
      ],
      "source": [
        "def add_token_positions(encodings, answers):\n",
        "    start_positions, end_positions = [], []\n",
        "    count = 0\n",
        "\n",
        "    for i in range(len(answers)):\n",
        "        start_positions.append(encodings.char_to_token(i, answers[i]['answer_start']))\n",
        "        end_positions.append(encodings.char_to_token(i, answers[i]['answer_end']))\n",
        "\n",
        "        if start_positions[-1] is None: # if start position is None, then discard data\n",
        "            start_positions[-1] = tokenizer.model_max_length\n",
        "\n",
        "        if end_positions[-1] is None:   # if end position is None, the 'char_to_token' function points to the space after the correct token, so add - 1\n",
        "            end_positions[-1] = encodings.char_to_token(i, answers[i]['answer_end'] - 1)\n",
        "\n",
        "        if end_positions[-1] is None:  # if end position is  None, then discard data\n",
        "            count += 1\n",
        "            end_positions[-1] = tokenizer.model_max_length\n",
        "\n",
        "    print(count)\n",
        "\n",
        "    encodings.update({'start_positions': start_positions, 'end_positions': end_positions})\n",
        "\n",
        "add_token_positions(train_encodings, train_answers)\n",
        "add_token_positions(test_encodings, test_answers)"
      ]
    },
    {
      "cell_type": "code",
      "execution_count": null,
      "id": "3488560a-b3cc-470d-b747-5a9eb2efcf1c",
      "metadata": {
        "tags": [],
        "id": "3488560a-b3cc-470d-b747-5a9eb2efcf1c"
      },
      "outputs": [],
      "source": [
        "import torch\n",
        "\n",
        "class SquadDataset(torch.utils.data.Dataset):\n",
        "    def __init__(self, encodings):\n",
        "        self.encodings = encodings\n",
        "\n",
        "    def __getitem__(self, idx):\n",
        "        return {key: torch.tensor(val[idx]) for key, val in self.encodings.items()}\n",
        "\n",
        "    def __len__(self):\n",
        "        return len(self.encodings.input_ids)"
      ]
    },
    {
      "cell_type": "code",
      "execution_count": null,
      "id": "1adba67f-613c-4064-8323-5a9386bb595f",
      "metadata": {
        "tags": [],
        "id": "1adba67f-613c-4064-8323-5a9386bb595f"
      },
      "outputs": [],
      "source": [
        "train_dataset = SquadDataset(train_encodings)\n",
        "test_dataset  = SquadDataset(test_encodings)"
      ]
    },
    {
      "cell_type": "code",
      "execution_count": null,
      "id": "20a31208-06f6-4f5d-b917-a26093233d5a",
      "metadata": {
        "tags": [],
        "id": "20a31208-06f6-4f5d-b917-a26093233d5a"
      },
      "outputs": [],
      "source": [
        "from torch.utils.data import DataLoader\n",
        "\n",
        "train_loader = DataLoader(train_dataset, batch_size=16, shuffle=True)\n",
        "test_loader = DataLoader(test_dataset, batch_size=8, shuffle=True)"
      ]
    },
    {
      "cell_type": "markdown",
      "id": "o-Y1U-9XWPN7",
      "metadata": {
        "id": "o-Y1U-9XWPN7"
      },
      "source": [
        "\n",
        "# 4. Train the BERT QnA model. Evaluate the model.\n"
      ]
    },
    {
      "cell_type": "code",
      "execution_count": null,
      "id": "028550f4-c7b5-4d04-9b6a-f88d328b5c75",
      "metadata": {
        "tags": [],
        "id": "028550f4-c7b5-4d04-9b6a-f88d328b5c75"
      },
      "outputs": [],
      "source": [
        "device = torch.device('cuda:0' if torch.cuda.is_available() else 'cpu')"
      ]
    },
    {
      "cell_type": "code",
      "execution_count": null,
      "id": "25111d5e-bd02-4689-a6e4-c556b9348c14",
      "metadata": {
        "tags": [],
        "id": "25111d5e-bd02-4689-a6e4-c556b9348c14",
        "outputId": "bb02cb05-97d1-480b-a92b-f91980149368",
        "colab": {
          "base_uri": "https://localhost:8080/"
        }
      },
      "outputs": [
        {
          "output_type": "stream",
          "name": "stderr",
          "text": [
            "Some weights of BertForQuestionAnswering were not initialized from the model checkpoint at bert-base-uncased and are newly initialized: ['qa_outputs.bias', 'qa_outputs.weight']\n",
            "You should probably TRAIN this model on a down-stream task to be able to use it for predictions and inference.\n",
            "/usr/local/lib/python3.10/dist-packages/transformers/optimization.py:521: FutureWarning: This implementation of AdamW is deprecated and will be removed in a future version. Use the PyTorch implementation torch.optim.AdamW instead, or set `no_deprecation_warning=True` to disable this warning\n",
            "  warnings.warn(\n"
          ]
        }
      ],
      "source": [
        "model = BertForQuestionAnswering.from_pretrained('bert-base-uncased').to(device)\n",
        "optim = AdamW(model.parameters(), lr=5e-5)"
      ]
    },
    {
      "cell_type": "code",
      "execution_count": null,
      "id": "47b752f6-936e-4da6-934d-67f3949f85fb",
      "metadata": {
        "tags": [],
        "id": "47b752f6-936e-4da6-934d-67f3949f85fb",
        "outputId": "e4573a44-cf21-4726-acab-783d4a4fe6b3",
        "colab": {
          "base_uri": "https://localhost:8080/"
        }
      },
      "outputs": [
        {
          "output_type": "stream",
          "name": "stdout",
          "text": [
            "Training Started ..... \n",
            "\n",
            "Epoch = 0, training loss = 4.5494220, test loss = 3.9954635680667936\n",
            "Epoch = 1, training loss = 3.3779226, test loss = 3.6967673036787243\n",
            "Epoch = 2, training loss = 2.8105820, test loss = 3.5914867378416515\n",
            "Epoch = 3, training loss = 2.2116908, test loss = 3.3226727758135115\n",
            "Epoch = 4, training loss = 1.5189209, test loss = 3.1685539578634594\n",
            "Epoch = 5, training loss = 1.0978627, test loss = 3.067789904654972\n",
            "Epoch = 6, training loss = 0.8292233, test loss = 2.8540192577573986\n",
            "Epoch = 7, training loss = 0.6776644, test loss = 2.8058945054099675\n",
            "Epoch = 8, training loss = 0.4109644, test loss = 2.8598757774110823\n",
            "Epoch = 9, training loss = 0.2829685, test loss = 2.8447201800724815\n",
            "\n",
            "Total training and evaluation time:  572.1129274368286\n"
          ]
        }
      ],
      "source": [
        "start_time = time.time()\n",
        "\n",
        "train_losses, test_losses = [], []\n",
        "epochs = 10\n",
        "\n",
        "print(\"Training Started ..... \\n\")\n",
        "\n",
        "for epoch in range(epochs):\n",
        "    epoch_time = time.time()\n",
        "    model.train()\n",
        "    loss_of_epoch = 0\n",
        "\n",
        "    for idx, batch in enumerate(train_loader):\n",
        "\n",
        "        optim.zero_grad()\n",
        "        input_ids = batch['input_ids'].to(device)\n",
        "        attention_mask = batch['attention_mask'].to(device)\n",
        "        start_positions = batch['start_positions'].to(device)\n",
        "        end_positions = batch['end_positions'].to(device)\n",
        "        outputs = model(input_ids, attention_mask=attention_mask, start_positions=start_positions, end_positions=end_positions)\n",
        "        loss = outputs[0]\n",
        "        loss.backward()              # back propogation\n",
        "        optim.step()                 # weights update\n",
        "        loss_of_epoch += loss.item() # adding losses\n",
        "\n",
        "    loss_of_epoch /= len(train_loader)\n",
        "    train_losses.append(loss_of_epoch)\n",
        "\n",
        "    model.eval()\n",
        "    loss_of_epoch = 0\n",
        "\n",
        "    for idx, batch in enumerate(test_loader):\n",
        "\n",
        "        with torch.no_grad():\n",
        "\n",
        "            input_ids = batch['input_ids'].to(device)\n",
        "            attention_mask = batch['attention_mask'].to(device)\n",
        "            start_positions = batch['start_positions'].to(device)\n",
        "            end_positions = batch['end_positions'].to(device)\n",
        "\n",
        "            outputs = model(input_ids, attention_mask=attention_mask, start_positions=start_positions, end_positions=end_positions)\n",
        "            loss = outputs[0]\n",
        "            loss_of_epoch += loss.item()\n",
        "\n",
        "    loss_of_epoch /= len(test_loader)\n",
        "    test_losses.append(loss_of_epoch)\n",
        "    print(f\"Epoch = {epoch}, training loss = {train_losses[-1]:.7f}, test loss = {test_losses[-1]}\")\n",
        "\n",
        "\n",
        "print(\"\\nTotal training and evaluation time: \", (time.time() - start_time))"
      ]
    },
    {
      "cell_type": "code",
      "execution_count": null,
      "id": "0400d02a-8d84-4753-9db5-222fd4817406",
      "metadata": {
        "tags": [],
        "id": "0400d02a-8d84-4753-9db5-222fd4817406",
        "colab": {
          "base_uri": "https://localhost:8080/",
          "height": 307
        },
        "outputId": "3f3d2e61-777f-4968-9a27-3a18e6572c3e"
      },
      "outputs": [
        {
          "output_type": "display_data",
          "data": {
            "text/plain": [
              "<Figure size 1000x300 with 2 Axes>"
            ],
            "image/png": "[encoded data removed]"
          },
          "metadata": {}
        }
      ],
      "source": [
        "import matplotlib.pyplot as plt\n",
        "\n",
        "def plot_training_metrics(losses, accuracies):\n",
        "    \"\"\"\n",
        "        Plot the traning metrics\n",
        "    \"\"\"\n",
        "\n",
        "    fig, axs = plt.subplots(1, 2, figsize=(10, 3))\n",
        "\n",
        "    axs[0].plot(list(range(1, len(losses)+1)), losses)\n",
        "    axs[0].set_title('Traing Loss vs Epochs')\n",
        "    axs[0].set_xlabel('Epochs')\n",
        "    axs[0].set_ylabel('Training Loss')\n",
        "    axs[0].set_xticks(list(range(1, len(losses)+1)))\n",
        "    axs[0].grid(True)\n",
        "\n",
        "    axs[1].plot(list(range(1, len(losses)+1)), accuracies)\n",
        "    axs[1].set_title('Testing Loss vs Epochs')\n",
        "    axs[1].set_xlabel('Epochs')\n",
        "    axs[1].set_ylabel('Testing Loss')\n",
        "    axs[1].set_xticks(list(range(1, len(losses)+1)))\n",
        "    axs[1].grid(True)\n",
        "\n",
        "    plt.tight_layout()\n",
        "    plt.show()\n",
        "\n",
        "\n",
        "plot_training_metrics(train_losses, test_losses)"
      ]
    },
    {
      "cell_type": "markdown",
      "id": "Bmbo1-p4WQpS",
      "metadata": {
        "id": "Bmbo1-p4WQpS"
      },
      "source": [
        "# 5. Perform an Inference and show the predicted vs ground truth answers."
      ]
    },
    {
      "cell_type": "code",
      "execution_count": null,
      "id": "b241d8ff-6818-4a22-91ff-d8738a45ceff",
      "metadata": {
        "tags": [],
        "id": "b241d8ff-6818-4a22-91ff-d8738a45ceff"
      },
      "outputs": [],
      "source": [
        "def give_answer(model, question, context, truth):\n",
        "    \"\"\" Given a input question and context, it will return the answers \"\"\"\n",
        "    model.eval()\n",
        "    inputs = tokenizer(question, context, truncation=\"only_second\", max_length=512,\n",
        "                       padding=\"max_length\", return_tensors=\"pt\").to(device)\n",
        "    with torch.no_grad():\n",
        "        outputs = model(**inputs)\n",
        "    start_logits = outputs.start_logits\n",
        "    end_logits = outputs.end_logits\n",
        "    start_index = torch.argmax(start_logits)\n",
        "    end_index = torch.argmax(end_logits) + 1\n",
        "    answer_tokens = inputs[\"input_ids\"][0][start_index:end_index]\n",
        "    answer = tokenizer.decode(answer_tokens)\n",
        "    print(\"\\nQuestion = \", question)\n",
        "    print(\" Truth       = \", truth)\n",
        "    print(\" Prediction  = \", answer)\n"
      ]
    },
    {
      "cell_type": "code",
      "source": [
        "context = \"\"\"India has the second-largest population in the world. India is also knowns as Bharat, Hindustan and sometimes Aryavart.\n",
        "It is surrounded by oceans from three sides which are Bay Of Bengal in the east, the Arabian Sea in the west and Indian oceans in the south.\n",
        "Tiger is the national animal of India.\"\"\"\n",
        "\n",
        "give_answer(model, \"What is the national animal of India?\" , context, '')\n",
        "give_answer(model, \"India is also know as?\" , context, 'Bharat, Hindustan and sometimes Aryavart')\n",
        "give_answer(model, \"What is the national flower of India?\" , context, 'lotus')\n"
      ],
      "metadata": {
        "id": "GbXAhi5GtRcs",
        "colab": {
          "base_uri": "https://localhost:8080/"
        },
        "outputId": "0a9a8db7-57c6-4a0d-bd8f-1c3a04e6c956"
      },
      "id": "GbXAhi5GtRcs",
      "execution_count": null,
      "outputs": [
        {
          "output_type": "stream",
          "name": "stdout",
          "text": [
            "\n",
            "Question =  What is the national animal of India?\n",
            " Truth       =  \n",
            " Prediction  =  tiger\n",
            "\n",
            "Question =  India is also know as?\n",
            " Truth       =  Bharat, Hindustan and sometimes Aryavart\n",
            " Prediction  =  hindustan and sometimes aryavart. it is surrounded by oceans\n",
            "\n",
            "Question =  What is the national flower of India?\n",
            " Truth       =  lotus\n",
            " Prediction  =  tiger\n"
          ]
        }
      ]
    },
    {
      "cell_type": "markdown",
      "source": [
        "# Observations -\n",
        "*  The model can answer very basic questions.\n",
        "*  Model misses some very visible patterns, which shows the model is undertrain and need a lot more training.\n",
        "*  Sometimes it gives also the extra information which is not required.\n",
        "*  Model can not give answers for the facts which it is not aware of like national flower as 'lotus'.\n",
        "*  The training and validation plots shows sign of learning but not way close to the full convergence.\n",
        "*  Model can also benefit from the hyper-parameter tunning."
      ],
      "metadata": {
        "id": "GrbKk2Th1-hE"
      },
      "id": "GrbKk2Th1-hE"
    },
    {
      "cell_type": "code",
      "source": [],
      "metadata": {
        "id": "bindzMfItyJx"
      },
      "id": "bindzMfItyJx",
      "execution_count": null,
      "outputs": []
    }
  ],
  "metadata": {
    "colab": {
      "provenance": [],
      "gpuType": "T4",
      "include_colab_link": true
    },
    "kernelspec": {
      "display_name": "Python 3",
      "name": "python3"
    },
    "language_info": {
      "codemirror_mode": {
        "name": "ipython",
        "version": 3
      },
      "file_extension": ".py",
      "mimetype": "text/x-python",
      "name": "python",
      "nbconvert_exporter": "python",
      "pygments_lexer": "ipython3",
      "version": "3.10.13"
    },
    "accelerator": "GPU"
  },
  "nbformat": 4,
  "nbformat_minor": 5
}