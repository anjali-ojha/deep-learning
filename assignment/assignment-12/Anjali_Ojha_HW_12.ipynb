{
 "cells": [
  {
   "cell_type": "markdown",
   "id": "28c67a3ba92fa1b",
   "metadata": {},
   "source": [
    "# Part A: Build a code understanding model. Upload your own custom code files to the model and ask questions based on the code file as context.\n"
   ]
  },
  {
   "cell_type": "code",
   "execution_count": 7,
   "id": "ed39af5b-1c30-4016-ba46-b3ce02fd7074",
   "metadata": {
    "tags": []
   },
   "outputs": [],
   "source": [
    "# !pip install -qU \\\n",
    "#     langchain==0.0.354 \\\n",
    "#     openai==1.6.1 \\\n",
    "#     datasets==2.10.1 \\\n",
    "#     pinecone-client==3.1.0 \\\n",
    "#     tiktoken==0.5.2\n",
    "# !pip install -U langchain-openai"
   ]
  },
  {
   "cell_type": "code",
   "execution_count": 2,
   "id": "e03f6c271262f5ff",
   "metadata": {
    "ExecuteTime": {
     "end_time": "2024-05-06T02:23:19.283699Z",
     "start_time": "2024-05-06T02:23:19.270937Z"
    },
    "tags": []
   },
   "outputs": [],
   "source": [
    "import os\n",
    "import openai\n",
    "\n",
    "from dotenv import load_dotenv, find_dotenv\n",
    "\n",
    "_ = load_dotenv(find_dotenv()) \n",
    "openai.api_key = os.environ[\"OPENAI_API_KEY\"] = os.getenv(\"OPENAI_API_KEY\") or \"YOUR_API_KEY\""
   ]
  },
  {
   "cell_type": "code",
   "execution_count": 3,
   "id": "40901cadee3209b9",
   "metadata": {
    "ExecuteTime": {
     "end_time": "2024-05-06T02:40:31.183233Z",
     "start_time": "2024-05-06T02:40:31.124871Z"
    },
    "tags": []
   },
   "outputs": [
    {
     "name": "stderr",
     "output_type": "stream",
     "text": [
      "/Users/hims/anaconda3/envs/python310/lib/python3.10/site-packages/langchain_core/_api/deprecation.py:117: LangChainDeprecationWarning: The class `langchain_community.chat_models.openai.ChatOpenAI` was deprecated in langchain-community 0.0.10 and will be removed in 0.2.0. An updated version of the class exists in the langchain-openai package and should be used instead. To use it run `pip install -U langchain-openai` and import as `from langchain_openai import ChatOpenAI`.\n",
      "  warn_deprecated(\n"
     ]
    },
    {
     "data": {
      "text/plain": [
       "ChatOpenAI(client=<openai.resources.chat.completions.Completions object at 0x1065eda50>, async_client=<openai.resources.chat.completions.AsyncCompletions object at 0x106679d50>, temperature=0.0, openai_api_key='sk-proj-bP1dfCMiJLoG6VfdKK8LT3BlbkFJahkBcmQgZQyiUqRYW3FZ', openai_proxy='')"
      ]
     },
     "execution_count": 3,
     "metadata": {},
     "output_type": "execute_result"
    }
   ],
   "source": [
    "from langchain.chat_models import ChatOpenAI\n",
    "\n",
    "chat = ChatOpenAI(openai_api_key=openai.api_key, model='gpt-3.5-turbo', temperature=0.0)\n",
    "chat\n",
    "\n",
    "\n"
   ]
  },
  {
   "cell_type": "code",
   "execution_count": null,
   "id": "3d0a10a03bed33eb",
   "metadata": {},
   "outputs": [],
   "source": []
  },
  {
   "cell_type": "code",
   "execution_count": null,
   "id": "f8856ea77793996f",
   "metadata": {},
   "outputs": [],
   "source": []
  },
  {
   "cell_type": "code",
   "execution_count": null,
   "id": "5ef4224ffff17ab8",
   "metadata": {},
   "outputs": [],
   "source": []
  },
  {
   "cell_type": "code",
   "execution_count": null,
   "id": "4e86e7fc7b2a3142",
   "metadata": {},
   "outputs": [],
   "source": []
  },
  {
   "cell_type": "code",
   "execution_count": null,
   "id": "ebd012a2276bc651",
   "metadata": {},
   "outputs": [],
   "source": []
  },
  {
   "cell_type": "markdown",
   "id": "1cf4b94992e8378f",
   "metadata": {},
   "source": [
    "# Part B: Write a chatbot prompt to iteratively create a sequence of chats on one particular custom data.\n",
    "1. The chatbot should be able to answer the questions based on the text data or multiple documents.\n",
    "2. The chatbot should save the conversation in the memory.\n",
    "2. Summarize the chats at the end of the conversation."
   ]
  },
  {
   "cell_type": "code",
   "execution_count": 10,
   "id": "379cc595ed1cd94c",
   "metadata": {
    "ExecuteTime": {
     "end_time": "2024-05-06T02:46:51.070725Z",
     "start_time": "2024-05-06T02:46:49.998378Z"
    },
    "tags": []
   },
   "outputs": [
    {
     "data": {
      "text/plain": [
       "OpenAI(client=<openai.resources.completions.Completions object at 0x106c66440>, async_client=<openai.resources.completions.AsyncCompletions object at 0x107851ea0>, temperature=0.0, openai_api_key='sk-proj-bP1dfCMiJLoG6VfdKK8LT3BlbkFJahkBcmQgZQyiUqRYW3FZ', openai_proxy='')"
      ]
     },
     "execution_count": 10,
     "metadata": {},
     "output_type": "execute_result"
    }
   ],
   "source": [
    "from langchain.llms import OpenAI\n",
    "# from langchain.chains.summarize import load_summarize_chain\n",
    "# from langchain.text_splitter import RecursiveCharacterTextSplitter\n",
    "\n",
    "llm = OpenAI(temperature=0, openai_api_key=openai.api_key)\n",
    "llm"
   ]
  },
  {
   "cell_type": "code",
   "execution_count": null,
   "id": "49217468082fcfff",
   "metadata": {},
   "outputs": [],
   "source": []
  }
 ],
 "metadata": {
  "kernelspec": {
   "display_name": "Python 3 (ipykernel)",
   "language": "python",
   "name": "python3"
  },
  "language_info": {
   "codemirror_mode": {
    "name": "ipython",
    "version": 3
   },
   "file_extension": ".py",
   "mimetype": "text/x-python",
   "name": "python",
   "nbconvert_exporter": "python",
   "pygments_lexer": "ipython3",
   "version": "3.10.13"
  }
 },
 "nbformat": 4,
 "nbformat_minor": 5
}
