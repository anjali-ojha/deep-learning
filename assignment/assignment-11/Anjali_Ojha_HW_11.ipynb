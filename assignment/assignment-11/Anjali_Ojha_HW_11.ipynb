{
  "cells": [
    {
      "cell_type": "markdown",
      "metadata": {
        "id": "view-in-github",
        "colab_type": "text"
      },
      "source": [
        "<a href=\"https://colab.research.google.com/github/anjali-ojha/deep-learning/blob/a11/assignment/assignment-11/Anjali_Ojha_HW_11.ipynb\" target=\"_parent\"><img src=\"https://colab.research.google.com/assets/colab-badge.svg\" alt=\"Open In Colab\"/></a>"
      ]
    },
    {
      "cell_type": "markdown",
      "id": "455cff58-a67c-4760-99fb-3583ce4611fc",
      "metadata": {
        "id": "455cff58-a67c-4760-99fb-3583ce4611fc"
      },
      "source": [
        "GitHub Link - https://github.com/anjali-ojha/deep-learning/blob/a11/assignment/assignment-11/Anjali_Ojha_HW_11.ipynb"
      ]
    },
    {
      "cell_type": "markdown",
      "source": [
        "# Write prompts using OPENAI API keys that perform the following task and display the output:\n",
        "\n",
        "1. Write a chatbot prompt to iteratively create a sequence of chats on one particular topic.\n",
        "\n",
        "    a. Ask the bot to solve one complex math problem.\n",
        "    \n",
        "    b. Give a PDF and website document; ask the bot to rewrite and answer questions on the given PDF and website.\n",
        "\n",
        "    c. At the end, ask the bot to summarize your chat"
      ],
      "metadata": {
        "id": "NeTwJF3PcHMO"
      },
      "id": "NeTwJF3PcHMO"
    },
    {
      "cell_type": "code",
      "execution_count": null,
      "id": "d5fc660b-c527-4339-91e4-c2b650f37243",
      "metadata": {
        "tags": [],
        "id": "d5fc660b-c527-4339-91e4-c2b650f37243"
      },
      "outputs": [],
      "source": [
        "# ! pip install openai==0.28\n",
        "# ! pip install python-dotenv"
      ]
    },
    {
      "cell_type": "code",
      "execution_count": null,
      "id": "461a4b02-5236-4aeb-884f-9f6069adbfe0",
      "metadata": {
        "tags": [],
        "id": "461a4b02-5236-4aeb-884f-9f6069adbfe0"
      },
      "outputs": [],
      "source": [
        "import openai\n",
        "import os\n",
        "\n",
        "from dotenv import load_dotenv, find_dotenv\n",
        "_ = load_dotenv(find_dotenv())\n",
        "\n",
        "openai.api_key  = os.getenv('OPENAI_API_KEY')"
      ]
    },
    {
      "cell_type": "code",
      "execution_count": null,
      "id": "108e901e-609b-459d-858f-f6c70be22e62",
      "metadata": {
        "tags": [],
        "id": "108e901e-609b-459d-858f-f6c70be22e62"
      },
      "outputs": [],
      "source": [
        "def ask_gpt(prompt, model=\"gpt-3.5-turbo\"):\n",
        "    \"\"\"\n",
        "    This method will make a API call to the OPEN-AI server and get the response.\n",
        "    \"\"\"\n",
        "    messages = [{\"role\": \"user\", \"content\": prompt}]\n",
        "    response = openai.ChatCompletion.create(\n",
        "        model=model,\n",
        "        messages=messages,\n",
        "        temperature=0,\n",
        "    )\n",
        "    return response.choices[0].message[\"content\"]"
      ]
    },
    {
      "cell_type": "markdown",
      "id": "4634e466-3c06-4900-99c2-3d3ebf5fcce7",
      "metadata": {
        "id": "4634e466-3c06-4900-99c2-3d3ebf5fcce7"
      },
      "source": [
        "# a. Ask the bot to solve one complex math problem."
      ]
    },
    {
      "cell_type": "markdown",
      "source": [
        "Asking GPT to solve a quadratic equation.\n",
        "\n",
        "6x² + 11x - 35 = 0"
      ],
      "metadata": {
        "id": "YwLlghTOchGQ"
      },
      "id": "YwLlghTOchGQ"
    },
    {
      "cell_type": "code",
      "execution_count": null,
      "id": "fc4e2a11-79c2-4434-895c-ae667af844a3",
      "metadata": {
        "tags": [],
        "id": "fc4e2a11-79c2-4434-895c-ae667af844a3",
        "outputId": "e7429963-5715-48d3-b9a9-6051965b366d"
      },
      "outputs": [
        {
          "name": "stdout",
          "output_type": "stream",
          "text": [
            "User :  solve the equation 6x² + 11x - 35 = 0 \n",
            "\n",
            "\n",
            "Assistant : To solve the equation 6x² + 11x - 35 = 0, we can use the quadratic formula:\n",
            "\n",
            "x = (-b ± √(b² - 4ac)) / 2a\n",
            "\n",
            "In this case, a = 6, b = 11, and c = -35. Plugging these values into the formula, we get:\n",
            "\n",
            "x = (-11 ± √(11² - 4*6*(-35))) / 2*6\n",
            "x = (-11 ± √(121 + 840)) / 12\n",
            "x = (-11 ± √961) / 12\n",
            "x = (-11 ± 31) / 12\n",
            "\n",
            "This gives us two possible solutions:\n",
            "\n",
            "x₁ = (-11 + 31) / 12 = 20 / 12 = 5/3\n",
            "x₂ = (-11 - 31) / 12 = -42 / 12 = -7/2\n",
            "\n",
            "Therefore, the solutions to the equation 6x² + 11x - 35 = 0 are x = 5/3 and x = -7/2.\n"
          ]
        }
      ],
      "source": [
        "maths_questions = f\"\"\" solve the equation 6x² + 11x - 35 = 0 \"\"\"\n",
        "\n",
        "maths_questions_response = ask_gpt(maths_questions)\n",
        "print(f\"User : {maths_questions}\")\n",
        "print(f\"\\n\\nAssistant : {maths_questions_response}\")"
      ]
    },
    {
      "cell_type": "markdown",
      "id": "dcbfdb1d-85f7-4534-944a-b6e4e3c5d4f1",
      "metadata": {
        "id": "dcbfdb1d-85f7-4534-944a-b6e4e3c5d4f1"
      },
      "source": [
        "# b. Give a PDF and website document; ask the bot to rewrite and answer questions on the given PDF and website."
      ]
    },
    {
      "cell_type": "code",
      "execution_count": null,
      "id": "cd803570-979e-4e62-a45d-bc91d6af3610",
      "metadata": {
        "tags": [],
        "id": "cd803570-979e-4e62-a45d-bc91d6af3610",
        "outputId": "fd01ad2b-b7df-4243-c445-6cedd909f35f"
      },
      "outputs": [
        {
          "name": "stdout",
          "output_type": "stream",
          "text": [
            "Requirement already satisfied: PyPDF2 in /Users/hims/anaconda3/envs/python310/lib/python3.10/site-packages (3.0.1)\n"
          ]
        }
      ],
      "source": [
        "! pip install PyPDF2"
      ]
    },
    {
      "cell_type": "code",
      "execution_count": null,
      "id": "97933865-16e6-4561-9eb4-f6a3fb6757b0",
      "metadata": {
        "tags": [],
        "id": "97933865-16e6-4561-9eb4-f6a3fb6757b0"
      },
      "outputs": [],
      "source": [
        "import requests\n",
        "from bs4 import BeautifulSoup\n",
        "\n",
        "def extract_website_text(website_url):\n",
        "    \"\"\" This method will read the webpage fromn the link and return the content of it.\"\"\"\n",
        "    response = requests.get(website_url)\n",
        "    soup = BeautifulSoup(response.text, 'html.parser')\n",
        "    website_text = '\\n'.join([p.get_text() for p in soup.find_all('p')])\n",
        "    return website_text"
      ]
    },
    {
      "cell_type": "markdown",
      "source": [
        "Asking GPT to read a Medium article and answer the question based on that. Link to the article is https://medium.com/@vdwayne/yosemite-national-park-a-natural-marvel-with-a-ton-of-wasted-space-626b1f185df6"
      ],
      "metadata": {
        "id": "RXVxnBOlcsME"
      },
      "id": "RXVxnBOlcsME"
    },
    {
      "cell_type": "code",
      "execution_count": null,
      "id": "dd7ab8f3-c6de-436e-8c18-566a053c58bb",
      "metadata": {
        "tags": [],
        "id": "dd7ab8f3-c6de-436e-8c18-566a053c58bb",
        "outputId": "d4df2e23-8f86-4043-92f2-e14cb30d62e9"
      },
      "outputs": [
        {
          "name": "stdout",
          "output_type": "stream",
          "text": [
            "User : 1 - Where is Yosemite located?, 2 - What are some iconic places in Yosemite National Park?\n",
            "\n",
            "\n",
            "Assistant : 1 - Where is Yosemite located?\n",
            "Yosemite National Park is located within the Sierra Nevada Mountains of California.\n",
            "\n",
            "2 - What are some iconic places in Yosemite National Park?\n",
            "Some iconic places in Yosemite National Park include El Capitan, Half Dome, Bridalveil Fall, Yosemite Falls, Vernal and Nevada Falls, Ribbon Fall, Glacier Point, Sentinel Dome, and the Mist Trail.\n"
          ]
        }
      ],
      "source": [
        "website_questions  = f\"\"\"1 - Where is Yosemite located?, 2 - What are some iconic places in Yosemite National Park?\"\"\"\n",
        "\n",
        "website_data = extract_website_text(\"https://medium.com/@vdwayne/yosemite-national-park-a-natural-marvel-with-a-ton-of-wasted-space-626b1f185df6\")[:5000]\n",
        "\n",
        "website_questions_prompt = f\"\"\"\n",
        "Answer following questions from the given Text:\n",
        "{website_questions}\n",
        "\n",
        "Separate your answers with line breaks. First put question then the corresponding answer.\n",
        "\n",
        "website data:\n",
        "```{website_data}```\n",
        "\"\"\"\n",
        "website_questions_response = ask_gpt(website_questions_prompt)\n",
        "print(f\"User : {website_questions}\")\n",
        "print(f\"\\n\\nAssistant : {website_questions_response}\")"
      ]
    },
    {
      "cell_type": "code",
      "execution_count": null,
      "id": "180b2480-3afe-44a7-9bdf-8ad957a1de53",
      "metadata": {
        "tags": [],
        "id": "180b2480-3afe-44a7-9bdf-8ad957a1de53"
      },
      "outputs": [],
      "source": [
        "from PyPDF2 import PdfReader\n",
        "\n",
        "\n",
        "def extract_pdf_text(pdf_url):\n",
        "    \"\"\" This method will read a pdf file fromn the link and return the content of it.\"\"\"\n",
        "    response = requests.get(pdf_url)\n",
        "    with open('temp.pdf', 'wb') as f:\n",
        "        f.write(response.content)\n",
        "\n",
        "    pdf_text = ''\n",
        "    with open('temp.pdf', 'rb') as pdf_file:\n",
        "        reader = PdfReader(pdf_file)\n",
        "        for page_num in range(len(reader.pages)):\n",
        "            page = reader.pages[page_num]\n",
        "            pdf_text += page.extract_text()\n",
        "\n",
        "    return pdf_text"
      ]
    },
    {
      "cell_type": "markdown",
      "source": [
        "Asking GPT to read a PDF file context and then asnwer question from it. Link to the article is https://www.dcs.bbk.ac.uk/~dell/teaching/cc/book/databricks/spark-intro.pdf"
      ],
      "metadata": {
        "id": "P-CUbxnMjOJB"
      },
      "id": "P-CUbxnMjOJB"
    },
    {
      "cell_type": "code",
      "execution_count": null,
      "id": "c5e24187-df75-41e2-b441-c1dbc0413754",
      "metadata": {
        "tags": [],
        "id": "c5e24187-df75-41e2-b441-c1dbc0413754",
        "outputId": "0ddf2687-a648-4fb3-f5b2-44e8213fcf13"
      },
      "outputs": [
        {
          "name": "stdout",
          "output_type": "stream",
          "text": [
            "User : 3 - What is spark ?, 4 - How spark works ? \n",
            "\n",
            "\n",
            "Assistant : 3 - What is spark ?\n",
            "Apache Spark is a unified computing engine and a set of libraries for parallel data processing on computer clusters.\n",
            "\n",
            "4 - How spark works ?\n",
            "Spark supports multiple widely used programming languages (Python, Java, Scala and R), includes libraries for diverse tasks ranging from SQL to streaming and machine learning, and runs anywhere from a laptop to a cluster of thousands of servers. This makes it an easy system to start with and scale up to big data processing or incredibly large scale.\n"
          ]
        }
      ],
      "source": [
        "document_questions  = f\"\"\"3 - What is spark ?, 4 - How spark works ? \"\"\"\n",
        "\n",
        "pdf_data = extract_pdf_text(\"https://www.dcs.bbk.ac.uk/~dell/teaching/cc/book/databricks/spark-intro.pdf\")[:5000]\n",
        "\n",
        "document_questions_prompt = f\"\"\"\n",
        "Answer following questions from the given Text:\n",
        "{document_questions}\n",
        "\n",
        "Separate your answers with line breaks. First put question then the corresponding answer.\n",
        "\n",
        "Data from PDF file:\n",
        "```{pdf_data}```\n",
        "\"\"\"\n",
        "document_questions_response = ask_gpt(document_questions_prompt)\n",
        "print(f\"User : {document_questions}\")\n",
        "print(f\"\\n\\nAssistant : {document_questions_response}\")"
      ]
    },
    {
      "cell_type": "markdown",
      "id": "9005607d-35c2-4060-86c2-601375eae29c",
      "metadata": {
        "id": "9005607d-35c2-4060-86c2-601375eae29c"
      },
      "source": [
        "# c. At the end, ask the bot to summarize your chat"
      ]
    },
    {
      "cell_type": "code",
      "execution_count": null,
      "id": "7b864c5a-57d5-41df-bfc0-59f23ae23343",
      "metadata": {
        "tags": [],
        "id": "7b864c5a-57d5-41df-bfc0-59f23ae23343",
        "outputId": "4d2edfa0-b73a-4a27-8167-1c954b484f37"
      },
      "outputs": [
        {
          "name": "stdout",
          "output_type": "stream",
          "text": [
            "User :  Summarize all the above chats I did with the openai apis. Here are all the interations in details having one line for each question and summzarize answers. Make the overall reponse 500 characters long. Give the reponse in differnet points seperated by line breaks\n",
            "\n",
            "\n",
            "Assistant : \n",
            "1. To solve the equation 6x² + 11x - 35 = 0, we use the quadratic formula to find x = 5/3 and x = -7/2.\n",
            "2. Yosemite National Park is located in the Sierra Nevada Mountains of California.\n",
            "3. Some iconic places in Yosemite National Park include El Capitan, Half Dome, Bridalveil Fall, and more.\n",
            "4. Apache Spark is a unified computing engine and set of libraries for parallel data processing on computer clusters.\n",
            "5. Spark supports multiple programming languages and diverse tasks, making it easy to start with and scale up for big data processing.\n"
          ]
        }
      ],
      "source": [
        "summary_question = f\"\"\" Summarize all the above chats I did with the openai apis. Here are all the interations in details having one line for each question and summzarize answers. Make the overall reponse 500 characters long. Give the reponse in differnet points seperated by line breaks\n",
        "\n",
        "```User - {maths_questions}```\n",
        "```Assistant - {maths_questions_response}```\n",
        "\n",
        "```User - {website_questions_prompt}```\n",
        "```Assistant - {website_questions_response}```\n",
        "\n",
        "```User - {document_questions_prompt}```\n",
        "```Assistant - {document_questions_response}```\n",
        "\n",
        "\"\"\"\n",
        "\n",
        "ques = summary_question.split('\\n')[0]\n",
        "print(f\"User : {ques}\")\n",
        "print(f\"\\n\\nAssistant : \")\n",
        "\n",
        "response = ask_gpt(summary_question)\n",
        "for line in response.split(\"\\n\"):\n",
        "    print(line)\n"
      ]
    },
    {
      "cell_type": "markdown",
      "id": "3f7e948f-50cc-4453-bf6c-28c5568a04ff",
      "metadata": {
        "id": "3f7e948f-50cc-4453-bf6c-28c5568a04ff"
      },
      "source": [
        "# Converting the above fragmented Questions and Answers in the chat app format."
      ]
    },
    {
      "cell_type": "markdown",
      "id": "1f6628ca-2291-429b-8191-8e68e9751592",
      "metadata": {
        "id": "1f6628ca-2291-429b-8191-8e68e9751592"
      },
      "source": [
        "# Chat APP"
      ]
    },
    {
      "cell_type": "code",
      "execution_count": null,
      "id": "576c9815-b8b0-4152-8313-3e8665ee26de",
      "metadata": {
        "tags": [],
        "id": "576c9815-b8b0-4152-8313-3e8665ee26de"
      },
      "outputs": [],
      "source": [
        "def ask_gpt_with_context(prompt, model=\"gpt-3.5-turbo\", context=None):\n",
        "    \"\"\"\n",
        "    This method talk to OPEN-AI server and also update the context with the\n",
        "    communication and keep all the communication and context at one place, which\n",
        "    can be later used for  queries.\n",
        "    \"\"\"\n",
        "\n",
        "    messages = []\n",
        "\n",
        "    if context:\n",
        "        messages.extend(context)\n",
        "\n",
        "    messages.append({\"role\": \"user\", \"content\": prompt})\n",
        "\n",
        "    response = openai.ChatCompletion.create(\n",
        "        model=model,\n",
        "        messages=messages,\n",
        "        temperature=0\n",
        "    )\n",
        "\n",
        "    return response.choices[0].message[\"content\"], messages\n"
      ]
    },
    {
      "cell_type": "markdown",
      "id": "f6eb5b3e-3bca-4365-b320-6f5b0c7f7bcf",
      "metadata": {
        "id": "f6eb5b3e-3bca-4365-b320-6f5b0c7f7bcf"
      },
      "source": [
        "## List of questions we are going to ask from the gpt -\n",
        "\n",
        "* solve the equation 6x² + 11x - 35 = 0\n",
        "\n",
        "* Load data from website - https://medium.com/@vdwayne/yosemite-national-park-a-natural-marvel-with-a-ton-of-wasted-space-626b1f185df6\n",
        "    \n",
        "    * where is yosemite located?\n",
        "    \n",
        "    * what are the popular attractions there?\n",
        "\n",
        "* Load data from the pdf file - https://www.dcs.bbk.ac.uk/~dell/teaching/cc/book/databricks/spark-intro.pdf\n",
        "    \n",
        "    * what is spark?\n",
        "    \n",
        "    * what are advanatages of spark?\n",
        "\n"
      ]
    },
    {
      "cell_type": "code",
      "execution_count": null,
      "id": "c109d7bb-31e6-423d-9bc8-433f8280805f",
      "metadata": {
        "tags": [],
        "id": "c109d7bb-31e6-423d-9bc8-433f8280805f"
      },
      "outputs": [],
      "source": [
        "questions = [\n",
        "    \"solve the equation 6x² + 11x - 35 = 0\",\n",
        "    \"Load data from website - https://medium.com/@vdwayne/yosemite-national-park-a-natural-marvel-with-a-ton-of-wasted-space-626b1f185df6\",\n",
        "    \"where is yosemite located?\",\n",
        "    \"what are the popular attractions there?\",\n",
        "    \"Load data from the pdf file - https://www.dcs.bbk.ac.uk/~dell/teaching/cc/book/databricks/spark-intro.pdf\",\n",
        "    \"what is spark?\",\n",
        "    \"what are advanatages of spark?\",\n",
        "    \"summarize the whole chat history including all details from the start of the conversation and make the list pointwise\"\n",
        "]"
      ]
    },
    {
      "cell_type": "code",
      "execution_count": null,
      "id": "a2c8adcf-7e35-4bca-9c71-9900e7232157",
      "metadata": {
        "tags": [],
        "id": "a2c8adcf-7e35-4bca-9c71-9900e7232157",
        "outputId": "d5016889-69a5-4c21-896b-11ffaed308eb"
      },
      "outputs": [
        {
          "name": "stdout",
          "output_type": "stream",
          "text": [
            "\n",
            "User : solve the equation 6x² + 11x - 35 = 0\n",
            "\n",
            "Assistant: To solve the equation 6x² + 11x - 35 = 0, we can use the quadratic formula:\n",
            "\n",
            "x = (-b ± √(b² - 4ac)) / 2a\n",
            "\n",
            "In this case, a = 6, b = 11, and c = -35. Plugging these values into the formula, we get:\n",
            "\n",
            "x = (-11 ± √(11² - 4*6*(-35))) / 2*6\n",
            "x = (-11 ± √(121 + 840)) / 12\n",
            "x = (-11 ± √961) / 12\n",
            "x = (-11 ± 31) / 12\n",
            "\n",
            "This gives us two possible solutions:\n",
            "\n",
            "x₁ = (-11 + 31) / 12 = 20 / 12 = 5/3\n",
            "x₂ = (-11 - 31) / 12 = -42 / 12 = -7/2\n",
            "\n",
            "Therefore, the solutions to the equation 6x² + 11x - 35 = 0 are x = 5/3 and x = -7/2.\n",
            "\n",
            "------------------------------------\n",
            "\n",
            "\n",
            "User : Load data from website - https://medium.com/@vdwayne/yosemite-national-park-a-natural-marvel-with-a-ton-of-wasted-space-626b1f185df6\n",
            "\n",
            "Assistant: I'm sorry, I'm not sure what you're asking for in relation to the provided text about Yosemite National Park. Could you please clarify your question or let me know how I can assist you further?\n",
            "\n",
            "------------------------------------\n",
            "\n",
            "\n",
            "User : where is yosemite located?\n",
            "\n",
            "Assistant: Yosemite National Park is located in the Sierra Nevada Mountains of California, United States.\n",
            "\n",
            "------------------------------------\n",
            "\n",
            "\n",
            "User : what are the popular attractions there?\n",
            "\n",
            "Assistant: Some of the popular attractions in Yosemite National Park include:\n",
            "\n",
            "1. Yosemite Valley: Known for its iconic granite cliffs, waterfalls, and lush meadows, Yosemite Valley is one of the most visited areas in the park. Visitors can enjoy stunning views of landmarks such as El Capitan, Half Dome, and Bridalveil Fall.\n",
            "\n",
            "2. Glacier Point: Offering panoramic views of Yosemite Valley, Half Dome, and the High Sierra peaks, Glacier Point is a must-visit spot for breathtaking vistas. It can be accessed by car or via hiking trails.\n",
            "\n",
            "3. Mariposa Grove of Giant Sequoias: Home to some of the largest and oldest trees on Earth, the Mariposa Grove is a popular destination for visitors looking to marvel at giant sequoias, including the famous Grizzly Giant and California Tunnel Tree.\n",
            "\n",
            "4. Half Dome: A challenging hike to the summit of Half Dome rewards visitors with sweeping views of Yosemite Valley and the surrounding wilderness. The iconic granite dome is a symbol of Yosemite National Park.\n",
            "\n",
            "5. Yosemite Falls: With a total height of 2,425 feet, Yosemite Falls is one of the tallest waterfalls in North America. Visitors can admire the falls from various viewpoints along the Yosemite Falls Trail.\n",
            "\n",
            "6. Tuolumne Meadows: Located in the high country of Yosemite, Tuolumne Meadows offers a serene alpine landscape with meadows, rivers, and granite domes. It is a popular area for hiking, camping, and birdwatching.\n",
            "\n",
            "7. Bridalveil Fall: One of the most accessible waterfalls in Yosemite, Bridalveil Fall plunges 617 feet into a picturesque valley. Visitors can enjoy views of the waterfall from a short trail near the parking area.\n",
            "\n",
            "These are just a few of the many attractions that draw visitors to Yosemite National Park each year. The park's diverse landscapes, waterfalls, wildlife, and recreational opportunities make it a beloved destination for nature lovers and outdoor enthusiasts.\n",
            "\n",
            "------------------------------------\n",
            "\n",
            "\n",
            "User : Load data from the pdf file - https://www.dcs.bbk.ac.uk/~dell/teaching/cc/book/databricks/spark-intro.pdf\n",
            "\n",
            "Assistant: Some of the popular attractions in Yosemite National Park include:\n",
            "\n",
            "1. Yosemite Valley: Known for its iconic granite cliffs, waterfalls, and lush meadows, Yosemite Valley is one of the most visited areas in the park. Visitors can enjoy stunning views of landmarks such as El Capitan, Half Dome, and Bridalveil Fall.\n",
            "\n",
            "2. Glacier Point: Offering panoramic views of Yosemite Valley, Half Dome, and the High Sierra peaks, Glacier Point is a must-visit spot for breathtaking vistas. It can be accessed by car or via hiking trails.\n",
            "\n",
            "3. Mariposa Grove of Giant Sequoias: Home to some of the largest and oldest trees on Earth, the Mariposa Grove is a popular destination for visitors looking to marvel at giant sequoias, including the famous Grizzly Giant and California Tunnel Tree.\n",
            "\n",
            "4. Half Dome: A challenging hike to the summit of Half Dome rewards visitors with sweeping views of Yosemite Valley and the surrounding wilderness. The iconic granite dome is a symbol of Yosemite National Park.\n",
            "\n",
            "5. Yosemite Falls: With a total height of 2,425 feet, Yosemite Falls is one of the tallest waterfalls in North America. Visitors can admire the falls from various viewpoints along the Yosemite Falls Trail.\n",
            "\n",
            "6. Tuolumne Meadows: Located in the high country of Yosemite, Tuolumne Meadows offers a serene alpine landscape with meadows, rivers, and granite domes. It is a popular area for hiking, camping, and birdwatching.\n",
            "\n",
            "7. Bridalveil Fall: One of the most accessible waterfalls in Yosemite, Bridalveil Fall plunges 617 feet into a picturesque valley. Visitors can enjoy views of the waterfall from a short trail near the parking area.\n",
            "\n",
            "These are just a few of the many attractions that draw visitors to Yosemite National Park each year. The park's diverse landscapes, waterfalls, wildlife, and recreational opportunities make it a beloved destination for nature lovers and outdoor enthusiasts.\n",
            "\n",
            "------------------------------------\n",
            "\n",
            "\n",
            "User : what is spark?\n",
            "\n",
            "Assistant: Apache Spark is a unified computing engine and a set of libraries for parallel data processing on computer clusters. It is one of the most actively developed open-source engines for big data processing. Spark supports multiple programming languages such as Python, Java, Scala, and R, and includes libraries for various tasks including SQL queries, streaming data processing, machine learning, and more. Spark can run on a single machine or scale up to thousands of servers in a cluster, making it suitable for processing data of different scales. Spark's unified nature allows users to perform a wide range of data analytics tasks using a consistent set of APIs and a single computing engine. Its focus on high performance and ease of use has made it a popular choice for developers and data scientists working with big data applications.\n",
            "\n",
            "------------------------------------\n",
            "\n",
            "\n",
            "User : what are advanatages of spark?\n",
            "\n",
            "Assistant: Some of the advantages of Apache Spark include:\n",
            "\n",
            "1. Speed: Spark is known for its high processing speed due to its in-memory computing capabilities. It can perform data processing tasks up to 100 times faster than traditional MapReduce processing.\n",
            "\n",
            "2. Ease of Use: Spark provides easy-to-use APIs in multiple programming languages, making it accessible to a wide range of developers and data scientists. It also offers a unified platform for various data processing tasks, simplifying the development process.\n",
            "\n",
            "3. Versatility: Spark supports a wide range of data processing tasks, including batch processing, real-time streaming, machine learning, graph processing, and interactive queries. This versatility makes it suitable for a variety of use cases.\n",
            "\n",
            "4. Fault Tolerance: Spark provides built-in fault tolerance mechanisms, ensuring that data processing tasks are resilient to failures. It can recover from failures and continue processing without data loss.\n",
            "\n",
            "5. Scalability: Spark can scale from a single machine to a cluster of thousands of servers, allowing users to process large volumes of data efficiently. It can handle both small-scale and big data processing tasks.\n",
            "\n",
            "6. Rich Ecosystem: Spark has a rich ecosystem of libraries and tools that extend its functionality for different use cases. These libraries include Spark SQL for structured data processing, MLlib for machine learning, GraphX for graph processing, and Spark Streaming for real-time data processing.\n",
            "\n",
            "7. Community Support: Spark has a large and active open-source community that contributes to its development and provides support to users. This community-driven approach ensures continuous improvement and innovation in the Spark ecosystem.\n",
            "\n",
            "Overall, Apache Spark offers a powerful and flexible platform for big data processing, with features that cater to the needs of developers, data scientists, and organizations working with large-scale data analytics.\n",
            "\n",
            "------------------------------------\n",
            "\n",
            "\n",
            "User : summarize the whole chat history including all details from the start of the conversation and make the list pointwise\n",
            "\n",
            "Assistant: Sure! Here is a summarized list of the chat history including all details discussed from the start of the conversation:\n",
            "\n",
            "1. Equation: The initial equation provided was 6x² + 11x - 35 = 0, and the solution was calculated to be x = 5/3 and x = -7/2.\n",
            "\n",
            "2. Yosemite National Park:\n",
            "   - Location: Yosemite National Park is located in the Sierra Nevada Mountains of California, United States.\n",
            "   - Popular Attractions: Various attractions in Yosemite National Park were discussed, including Yosemite Valley, Glacier Point, Mariposa Grove of Giant Sequoias, Half Dome, Yosemite Falls, Tuolumne Meadows, and Bridalveil Fall.\n",
            "\n",
            "3. Apache Spark:\n",
            "   - Definition: Apache Spark was described as a unified computing engine and a set of libraries for parallel data processing on computer clusters.\n",
            "   - Advantages: The advantages of Apache Spark were highlighted, including speed, ease of use, versatility, fault tolerance, scalability, rich ecosystem, and community support.\n",
            "\n",
            "4. Apache Spark Details:\n",
            "   - Description: Details about Apache Spark's philosophy, unified platform, computing engine, and structured APIs were provided.\n",
            "   - Components: The key components of Apache Spark, such as unified platform, computing engine, and structured APIs (DataFrames, Datasets, SQL) were explained.\n",
            "\n",
            "This summary covers the key points discussed in the conversation, including the equation solution, information about Yosemite National Park, and details about Apache Spark and its advantages.\n",
            "\n",
            "------------------------------------\n",
            "\n"
          ]
        }
      ],
      "source": [
        "# Running a sequence of the questions though the GPT server.\n",
        "import time\n",
        "\n",
        "context = None\n",
        "\n",
        "\n",
        "for question in questions:\n",
        "    print(f\"\\nUser : {question}\")\n",
        "    question = question.strip()\n",
        "\n",
        "    if question.lower().startswith(\"load\"):\n",
        "\n",
        "        extra_data = \"\"\n",
        "\n",
        "        if question.lower().endswith(\"pdf\"):\n",
        "            pdf_url = [x for x in question.split(\" \") if x.startswith(\"https://\")][0]\n",
        "            pdf_text = extract_pdf_text(pdf_url)\n",
        "            extra_data = pdf_text[:6000]\n",
        "\n",
        "        else:\n",
        "            web_url = [x for x in question.split(\" \") if x.startswith(\"https://\")][0]\n",
        "            website_data = extract_website_text(web_url)\n",
        "            extra_data = website_data[:5000]\n",
        "\n",
        "        question = f\"\"\" remember the data\n",
        "\n",
        "        ```{extra_data}```\n",
        "        \"\"\"\n",
        "\n",
        "    else:\n",
        "        question = question\n",
        "\n",
        "    response, new_context = ask_gpt_with_context(question, context=context)\n",
        "    new_context.append({\"role\": \"assistant\", \"content\" : response})\n",
        "    context = new_context\n",
        "\n",
        "    print(f\"\\nAssistant: {response}\")\n",
        "    print(\"\\n------------------------------------\\n\")\n",
        "    time.sleep(3)\n",
        ""
      ]
    },
    {
      "cell_type": "markdown",
      "source": [
        "## Observations -\n",
        "\n",
        "  * As we can see that, we first run a question at a time and get the response.\n",
        "\n",
        "  * Later we automate the entire questions through a series of inputs.\n",
        "\n",
        "  * We also keep the context with all the communications and later can reference it, so that system knows in each communication what topic we are talking about.\n",
        "\n",
        "  * And we can see that it also generated the communication summary."
      ],
      "metadata": {
        "id": "fY3lpxjhd9A4"
      },
      "id": "fY3lpxjhd9A4"
    },
    {
      "cell_type": "code",
      "execution_count": null,
      "id": "e6693a5e-863f-4d19-a970-601e5cad944d",
      "metadata": {
        "id": "e6693a5e-863f-4d19-a970-601e5cad944d"
      },
      "outputs": [],
      "source": []
    }
  ],
  "metadata": {
    "kernelspec": {
      "display_name": "Python 3 (ipykernel)",
      "language": "python",
      "name": "python3"
    },
    "language_info": {
      "codemirror_mode": {
        "name": "ipython",
        "version": 3
      },
      "file_extension": ".py",
      "mimetype": "text/x-python",
      "name": "python",
      "nbconvert_exporter": "python",
      "pygments_lexer": "ipython3",
      "version": "3.10.13"
    },
    "colab": {
      "provenance": [],
      "include_colab_link": true
    }
  },
  "nbformat": 4,
  "nbformat_minor": 5
}