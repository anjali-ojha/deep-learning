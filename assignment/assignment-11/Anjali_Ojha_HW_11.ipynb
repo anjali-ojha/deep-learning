{
 "cells": [
  {
   "cell_type": "markdown",
   "id": "455cff58-a67c-4760-99fb-3583ce4611fc",
   "metadata": {},
   "source": [
    "# Write prompts using OPENAI API keys that perform the following task and display the output:\n",
    "\n",
    "1. Write a chatbot prompt to iteratively create a sequence of chats on one particular topic.\n",
    "\n",
    "    a. Ask the bot to solve one complex math problem.\n",
    "    \n",
    "    b. Give a PDF and website document; ask the bot to rewrite and answer questions on the given PDF and website.\n",
    "\n",
    "    c. At the end, ask the bot to summarize your chat"
   ]
  },
  {
   "cell_type": "code",
   "execution_count": 1,
   "id": "d5fc660b-c527-4339-91e4-c2b650f37243",
   "metadata": {
    "tags": []
   },
   "outputs": [
    {
     "name": "stdout",
     "output_type": "stream",
     "text": [
      "Collecting openai==0.28\n",
      "  Obtaining dependency information for openai==0.28 from https://files.pythonhosted.org/packages/ae/59/911d6e5f1d7514d79c527067643376cddcf4cb8d1728e599b3b03ab51c69/openai-0.28.0-py3-none-any.whl.metadata\n",
      "  Using cached openai-0.28.0-py3-none-any.whl.metadata (13 kB)\n",
      "Requirement already satisfied: requests>=2.20 in /Users/hims/anaconda3/envs/python310/lib/python3.10/site-packages (from openai==0.28) (2.31.0)\n",
      "Requirement already satisfied: tqdm in /Users/hims/anaconda3/envs/python310/lib/python3.10/site-packages (from openai==0.28) (4.65.0)\n",
      "Requirement already satisfied: aiohttp in /Users/hims/anaconda3/envs/python310/lib/python3.10/site-packages (from openai==0.28) (3.8.5)\n",
      "Requirement already satisfied: charset-normalizer<4,>=2 in /Users/hims/anaconda3/envs/python310/lib/python3.10/site-packages (from requests>=2.20->openai==0.28) (2.0.4)\n",
      "Requirement already satisfied: idna<4,>=2.5 in /Users/hims/anaconda3/envs/python310/lib/python3.10/site-packages (from requests>=2.20->openai==0.28) (3.4)\n",
      "Requirement already satisfied: urllib3<3,>=1.21.1 in /Users/hims/anaconda3/envs/python310/lib/python3.10/site-packages (from requests>=2.20->openai==0.28) (1.26.16)\n",
      "Requirement already satisfied: certifi>=2017.4.17 in /Users/hims/anaconda3/envs/python310/lib/python3.10/site-packages (from requests>=2.20->openai==0.28) (2023.7.22)\n",
      "Requirement already satisfied: attrs>=17.3.0 in /Users/hims/anaconda3/envs/python310/lib/python3.10/site-packages (from aiohttp->openai==0.28) (22.1.0)\n",
      "Requirement already satisfied: multidict<7.0,>=4.5 in /Users/hims/anaconda3/envs/python310/lib/python3.10/site-packages (from aiohttp->openai==0.28) (6.0.2)\n",
      "Requirement already satisfied: async-timeout<5.0,>=4.0.0a3 in /Users/hims/anaconda3/envs/python310/lib/python3.10/site-packages (from aiohttp->openai==0.28) (4.0.2)\n",
      "Requirement already satisfied: yarl<2.0,>=1.0 in /Users/hims/anaconda3/envs/python310/lib/python3.10/site-packages (from aiohttp->openai==0.28) (1.8.1)\n",
      "Requirement already satisfied: frozenlist>=1.1.1 in /Users/hims/anaconda3/envs/python310/lib/python3.10/site-packages (from aiohttp->openai==0.28) (1.3.3)\n",
      "Requirement already satisfied: aiosignal>=1.1.2 in /Users/hims/anaconda3/envs/python310/lib/python3.10/site-packages (from aiohttp->openai==0.28) (1.2.0)\n",
      "Using cached openai-0.28.0-py3-none-any.whl (76 kB)\n",
      "Installing collected packages: openai\n",
      "Successfully installed openai-0.28.0\n"
     ]
    }
   ],
   "source": [
    "! pip install openai==0.28\n",
    "# ! pip install python-dotenv"
   ]
  },
  {
   "cell_type": "code",
   "execution_count": 95,
   "id": "d2fed6cb-d796-45bc-85d5-5e1b10aaf73d",
   "metadata": {
    "tags": []
   },
   "outputs": [],
   "source": [
    "! source ~/.zshrc"
   ]
  },
  {
   "cell_type": "code",
   "execution_count": 102,
   "id": "461a4b02-5236-4aeb-884f-9f6069adbfe0",
   "metadata": {
    "tags": []
   },
   "outputs": [],
   "source": [
    "import openai\n",
    "import os\n",
    "\n",
    "from dotenv import load_dotenv, find_dotenv\n",
    "_ = load_dotenv(find_dotenv())\n",
    "\n",
    "openai.api_key  = os.getenv('OPENAI_API_KEY')"
   ]
  },
  {
   "cell_type": "code",
   "execution_count": 26,
   "id": "108e901e-609b-459d-858f-f6c70be22e62",
   "metadata": {
    "tags": []
   },
   "outputs": [],
   "source": [
    "def get_completion(prompt, model=\"gpt-3.5-turbo\"):\n",
    "    messages = [{\"role\": \"user\", \"content\": prompt}]\n",
    "    response = openai.ChatCompletion.create(\n",
    "        model=model,\n",
    "        messages=messages,\n",
    "        temperature=0, # this is the degree of randomness of the model's output\n",
    "    )\n",
    "    return response.choices[0].message[\"content\"]"
   ]
  },
  {
   "cell_type": "markdown",
   "id": "4634e466-3c06-4900-99c2-3d3ebf5fcce7",
   "metadata": {},
   "source": [
    "# a. Ask the bot to solve one complex math problem."
   ]
  },
  {
   "cell_type": "code",
   "execution_count": 66,
   "id": "fc4e2a11-79c2-4434-895c-ae667af844a3",
   "metadata": {
    "tags": []
   },
   "outputs": [
    {
     "name": "stdout",
     "output_type": "stream",
     "text": [
      "To solve the quadratic equation 6x² + 11x - 35 = 0, we can use the quadratic formula:\n",
      "\n",
      "x = (-b ± √(b² - 4ac)) / 2a\n",
      "\n",
      "In this equation, a = 6, b = 11, and c = -35.\n",
      "\n",
      "Plugging these values into the formula, we get:\n",
      "\n",
      "x = (-11 ± √(11² - 4*6*(-35))) / 2*6\n",
      "x = (-11 ± √(121 + 840)) / 12\n",
      "x = (-11 ± √961) / 12\n",
      "x = (-11 ± 31) / 12\n",
      "\n",
      "Now we have two possible solutions:\n",
      "\n",
      "x₁ = (-11 + 31) / 12 = 20 / 12 = 5/3\n",
      "x₂ = (-11 - 31) / 12 = -42 / 12 = -7/2\n",
      "\n",
      "Therefore, the solutions to the equation 6x² + 11x - 35 = 0 are x = 5/3 and x = -7/2.\n"
     ]
    }
   ],
   "source": [
    "maths_questions = f\"\"\"\n",
    "solve the equation 6x² + 11x - 35 = 0\n",
    "\"\"\"\n",
    "\n",
    "maths_questions_response = get_completion(maths_questions)\n",
    "print(maths_questions_response)"
   ]
  },
  {
   "cell_type": "markdown",
   "id": "dcbfdb1d-85f7-4534-944a-b6e4e3c5d4f1",
   "metadata": {},
   "source": [
    "# b. Give a PDF and website document; ask the bot to rewrite and answer questions on the given PDF and website."
   ]
  },
  {
   "cell_type": "code",
   "execution_count": 37,
   "id": "cd803570-979e-4e62-a45d-bc91d6af3610",
   "metadata": {
    "tags": []
   },
   "outputs": [
    {
     "name": "stdout",
     "output_type": "stream",
     "text": [
      "Collecting PyPDF2\n",
      "  Obtaining dependency information for PyPDF2 from https://files.pythonhosted.org/packages/8e/5e/c86a5643653825d3c913719e788e41386bee415c2b87b4f955432f2de6b2/pypdf2-3.0.1-py3-none-any.whl.metadata\n",
      "  Downloading pypdf2-3.0.1-py3-none-any.whl.metadata (6.8 kB)\n",
      "Downloading pypdf2-3.0.1-py3-none-any.whl (232 kB)\n",
      "\u001b[2K   \u001b[38;2;114;156;31m━━━━━━━━━━━━━━━━━━━━━━━━━━━━━━━━━━━━━━━━\u001b[0m \u001b[32m232.6/232.6 kB\u001b[0m \u001b[31m3.8 MB/s\u001b[0m eta \u001b[36m0:00:00\u001b[0m[31m4.7 MB/s\u001b[0m eta \u001b[36m0:00:01\u001b[0m\n",
      "\u001b[?25hInstalling collected packages: PyPDF2\n",
      "Successfully installed PyPDF2-3.0.1\n"
     ]
    }
   ],
   "source": [
    "! pip install PyPDF2"
   ]
  },
  {
   "cell_type": "code",
   "execution_count": 44,
   "id": "97933865-16e6-4561-9eb4-f6a3fb6757b0",
   "metadata": {
    "tags": []
   },
   "outputs": [
    {
     "data": {
      "text/plain": [
       "'A Gentle Introduction to2Apache Spark has seen immense growth over the past \\nseveral years. The size'"
      ]
     },
     "execution_count": 44,
     "metadata": {},
     "output_type": "execute_result"
    }
   ],
   "source": [
    "import requests\n",
    "from PyPDF2 import PdfReader\n",
    "\n",
    "\n",
    "def extract_pdf_text(pdf_url):\n",
    "    response = requests.get(pdf_url)\n",
    "    with open('temp.pdf', 'wb') as f:\n",
    "        f.write(response.content)\n",
    "    \n",
    "    pdf_text = ''\n",
    "    with open('temp.pdf', 'rb') as pdf_file:\n",
    "        reader = PdfReader(pdf_file)\n",
    "        for page_num in range(len(reader.pages)):\n",
    "            page = reader.pages[page_num]\n",
    "            pdf_text += page.extract_text()\n",
    "    \n",
    "    return pdf_text\n",
    "\n",
    "\n",
    "extract_pdf_text(\"https://www.dcs.bbk.ac.uk/~dell/teaching/cc/book/databricks/spark-intro.pdf\")[:100]"
   ]
  },
  {
   "cell_type": "code",
   "execution_count": 45,
   "id": "180b2480-3afe-44a7-9bdf-8ad957a1de53",
   "metadata": {
    "tags": []
   },
   "outputs": [
    {
     "data": {
      "text/plain": [
       "'Sign up\\nSign in\\nSign up\\nSign in\\nvdwayne\\nFollow\\n--\\nListen\\nShare\\nNestled within the Sierra Nevada Moun'"
      ]
     },
     "execution_count": 45,
     "metadata": {},
     "output_type": "execute_result"
    }
   ],
   "source": [
    "from bs4 import BeautifulSoup\n",
    "    \n",
    "def extract_website_text(website_url):    \n",
    "    response = requests.get(website_url)\n",
    "    soup = BeautifulSoup(response.text, 'html.parser')\n",
    "    website_text = '\\n'.join([p.get_text() for p in soup.find_all('p')])\n",
    "    return website_text\n",
    "\n",
    "\n",
    "extract_website_text(\"https://medium.com/@vdwayne/yosemite-national-park-a-natural-marvel-with-a-ton-of-wasted-space-626b1f185df6\")[:100]"
   ]
  },
  {
   "cell_type": "code",
   "execution_count": 67,
   "id": "c5e24187-df75-41e2-b441-c1dbc0413754",
   "metadata": {
    "tags": []
   },
   "outputs": [],
   "source": [
    "document_questions  = f\"\"\"\n",
    "1 - Where is Yosemite located?.\n",
    "2 - What are some iconic places in Yosemite National Park?\n",
    "3 - What is spark ?\n",
    "4 - How spark works ?\n",
    "\"\"\"\n",
    "\n",
    "pdf_data = extract_pdf_text(\"https://www.dcs.bbk.ac.uk/~dell/teaching/cc/book/databricks/spark-intro.pdf\")[:10000]\n",
    "website_data = extract_website_text(\"https://medium.com/@vdwayne/yosemite-national-park-a-natural-marvel-with-a-ton-of-wasted-space-626b1f185df6\")[:5000]\n",
    "\n",
    "document_questions_prompt = f\"\"\"\n",
    "Answer following questions from the given Text: \n",
    "{questions}\n",
    "\n",
    "Separate your answers with line breaks.\n",
    "\n",
    "Text:\n",
    "```{pdf_data}```\n",
    "\n",
    "```{website_data}```\n",
    "\"\"\"\n",
    "document_questions_response = get_completion(document_questions_prompt)\n"
   ]
  },
  {
   "cell_type": "code",
   "execution_count": 85,
   "id": "42c7ceff-90ab-429f-a9a5-ca543c9f00b0",
   "metadata": {
    "tags": []
   },
   "outputs": [
    {
     "name": "stdout",
     "output_type": "stream",
     "text": [
      "\n",
      "Question: Where is Yosemite located?.\n",
      "Answer  : 1 - Where is Yosemite located?.\n",
      "\n",
      "\n",
      "Question: What are some iconic places in Yosemite National Park?\n",
      "Answer  : Yosemite National Park is located within the Sierra Nevada Mountains of California.\n",
      "\n",
      "\n",
      "Question: What is spark ?\n",
      "Answer  : 2 - What are some iconic places in Yosemite National Park?\n",
      "\n",
      "\n",
      "Question: How spark works ?\n",
      "Answer  : Some iconic places in Yosemite National Park include El Capitan, Half Dome, Bridalveil Fall, Yosemite Falls, Vernal and Nevada Falls, and Ribbon Fall.\n",
      "\n"
     ]
    }
   ],
   "source": [
    "questions = [question for question in document_questions.splitlines() if len(question.strip()) > 0]\n",
    "answers = [answer for answer in document_questions_response.split(\"\\n\") if len(answer.strip()) > 0]\n",
    "\n",
    "for q, a in zip(questions, answers):\n",
    "    print(f\"\"\"\n",
    "Question: {q.split(\" - \")[1]}\n",
    "Answer  : {a}\n",
    "\"\"\")"
   ]
  },
  {
   "cell_type": "markdown",
   "id": "9005607d-35c2-4060-86c2-601375eae29c",
   "metadata": {},
   "source": [
    "# c. At the end, ask the bot to summarize your chat"
   ]
  },
  {
   "cell_type": "code",
   "execution_count": 91,
   "id": "7b864c5a-57d5-41df-bfc0-59f23ae23343",
   "metadata": {
    "tags": []
   },
   "outputs": [
    {
     "data": {
      "text/plain": [
       "['The quadratic equation 6x² + 11x - 35 = 0 has solutions x = 5/3 and x = -7/2.',\n",
       " 'Yosemite National Park is located in the Sierra Nevada Mountains of California and features iconic landmarks like El Capitan and Half Dome.',\n",
       " 'Spark is a unified computing engine and library for parallel data processing on computer clusters.',\n",
       " 'Spark works by providing a unified platform for big data applications, supporting various tasks from SQL to machine learning, and running on computer clusters for scalable processing.']"
      ]
     },
     "execution_count": 91,
     "metadata": {},
     "output_type": "execute_result"
    }
   ],
   "source": [
    "summary_question = f\"\"\"\n",
    "\n",
    "Summarize all the above chats I did with the openai apis. Here are all the interations in details having one line for each question and summzarize answers. Make the overall reponse 500 characters long. Give the reponse in differnet points seperated by line breaks\n",
    "\n",
    "```Question - {maths_questions}```\n",
    "```Bot Answer - {maths_questions_response}```\n",
    "\n",
    "```Question - {document_questions_prompt}```\n",
    "```Bot Answer - {document_questions_response}```\n",
    "\n",
    "\"\"\"\n",
    "response = get_completion(summary_question)\n",
    "response.split(\"\\n\")\n"
   ]
  },
  {
   "cell_type": "code",
   "execution_count": null,
   "id": "f353da6e-ba2b-4155-8f33-a49bedfdd3b3",
   "metadata": {},
   "outputs": [],
   "source": []
  }
 ],
 "metadata": {
  "kernelspec": {
   "display_name": "Python 3 (ipykernel)",
   "language": "python",
   "name": "python3"
  },
  "language_info": {
   "codemirror_mode": {
    "name": "ipython",
    "version": 3
   },
   "file_extension": ".py",
   "mimetype": "text/x-python",
   "name": "python",
   "nbconvert_exporter": "python",
   "pygments_lexer": "ipython3",
   "version": "3.10.13"
  }
 },
 "nbformat": 4,
 "nbformat_minor": 5
}
