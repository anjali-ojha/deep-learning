{
 "cells": [
  {
   "cell_type": "markdown",
   "id": "4f4e64b9-2816-4fc8-a892-b00b99517199",
   "metadata": {},
   "source": [
    "# Homework 08 LSTM Stock Predictions"
   ]
  },
  {
   "cell_type": "markdown",
   "id": "0f56dce9-c165-419f-86ef-e5bb458eacca",
   "metadata": {},
   "source": [
    "# Step 1. Import the data from the given .csv file (Google_Stock_Price_Train.csv (https://sjsu.instructure.com/courses/1585768/files/75906517/download?download_frd=1) )."
   ]
  },
  {
   "cell_type": "code",
   "execution_count": 1,
   "id": "06c8a138-6171-428a-8676-a13500bdff2f",
   "metadata": {
    "tags": []
   },
   "outputs": [],
   "source": [
    "import pandas as pd\n",
    "from sklearn.metrics import mean_squared_error\n",
    "from math import sqrt\n",
    "from sklearn.preprocessing import MinMaxScaler\n",
    "import numpy as np\n",
    "\n",
    "from tensorflow.keras.models import Sequential\n",
    "from tensorflow.keras.layers import LSTM, Dense\n",
    "\n",
    "from sklearn.metrics import mean_squared_error\n",
    "from math import sqrt"
   ]
  },
  {
   "cell_type": "code",
   "execution_count": 2,
   "id": "0ed2d6f0-0aa6-446a-aefc-8ba236daa684",
   "metadata": {
    "tags": []
   },
   "outputs": [
    {
     "data": {
      "text/html": [
       "<div>\n",
       "<style scoped>\n",
       "    .dataframe tbody tr th:only-of-type {\n",
       "        vertical-align: middle;\n",
       "    }\n",
       "\n",
       "    .dataframe tbody tr th {\n",
       "        vertical-align: top;\n",
       "    }\n",
       "\n",
       "    .dataframe thead th {\n",
       "        text-align: right;\n",
       "    }\n",
       "</style>\n",
       "<table border=\"1\" class=\"dataframe\">\n",
       "  <thead>\n",
       "    <tr style=\"text-align: right;\">\n",
       "      <th></th>\n",
       "      <th>Date</th>\n",
       "      <th>Open</th>\n",
       "      <th>High</th>\n",
       "      <th>Low</th>\n",
       "      <th>Close</th>\n",
       "      <th>Volume</th>\n",
       "    </tr>\n",
       "  </thead>\n",
       "  <tbody>\n",
       "    <tr>\n",
       "      <th>0</th>\n",
       "      <td>1/3/2012</td>\n",
       "      <td>325.25</td>\n",
       "      <td>332.83</td>\n",
       "      <td>324.97</td>\n",
       "      <td>663.59</td>\n",
       "      <td>7,380,500</td>\n",
       "    </tr>\n",
       "    <tr>\n",
       "      <th>1</th>\n",
       "      <td>1/4/2012</td>\n",
       "      <td>331.27</td>\n",
       "      <td>333.87</td>\n",
       "      <td>329.08</td>\n",
       "      <td>666.45</td>\n",
       "      <td>5,749,400</td>\n",
       "    </tr>\n",
       "    <tr>\n",
       "      <th>2</th>\n",
       "      <td>1/5/2012</td>\n",
       "      <td>329.83</td>\n",
       "      <td>330.75</td>\n",
       "      <td>326.89</td>\n",
       "      <td>657.21</td>\n",
       "      <td>6,590,300</td>\n",
       "    </tr>\n",
       "    <tr>\n",
       "      <th>3</th>\n",
       "      <td>1/6/2012</td>\n",
       "      <td>328.34</td>\n",
       "      <td>328.77</td>\n",
       "      <td>323.68</td>\n",
       "      <td>648.24</td>\n",
       "      <td>5,405,900</td>\n",
       "    </tr>\n",
       "    <tr>\n",
       "      <th>4</th>\n",
       "      <td>1/9/2012</td>\n",
       "      <td>322.04</td>\n",
       "      <td>322.29</td>\n",
       "      <td>309.46</td>\n",
       "      <td>620.76</td>\n",
       "      <td>11,688,800</td>\n",
       "    </tr>\n",
       "  </tbody>\n",
       "</table>\n",
       "</div>"
      ],
      "text/plain": [
       "       Date    Open    High     Low   Close      Volume\n",
       "0  1/3/2012  325.25  332.83  324.97  663.59   7,380,500\n",
       "1  1/4/2012  331.27  333.87  329.08  666.45   5,749,400\n",
       "2  1/5/2012  329.83  330.75  326.89  657.21   6,590,300\n",
       "3  1/6/2012  328.34  328.77  323.68  648.24   5,405,900\n",
       "4  1/9/2012  322.04  322.29  309.46  620.76  11,688,800"
      ]
     },
     "execution_count": 2,
     "metadata": {},
     "output_type": "execute_result"
    }
   ],
   "source": [
    "df = pd.read_csv(\"Google_Stock_Price_Train.csv\")\n",
    "df.head()"
   ]
  },
  {
   "cell_type": "code",
   "execution_count": 3,
   "id": "da821b14",
   "metadata": {
    "tags": []
   },
   "outputs": [
    {
     "name": "stdout",
     "output_type": "stream",
     "text": [
      "<class 'pandas.core.frame.DataFrame'>\n",
      "RangeIndex: 1258 entries, 0 to 1257\n",
      "Data columns (total 6 columns):\n",
      " #   Column  Non-Null Count  Dtype  \n",
      "---  ------  --------------  -----  \n",
      " 0   Date    1258 non-null   object \n",
      " 1   Open    1258 non-null   float64\n",
      " 2   High    1258 non-null   float64\n",
      " 3   Low     1258 non-null   float64\n",
      " 4   Close   1258 non-null   object \n",
      " 5   Volume  1258 non-null   object \n",
      "dtypes: float64(3), object(3)\n",
      "memory usage: 59.1+ KB\n"
     ]
    }
   ],
   "source": [
    "df.info()"
   ]
  },
  {
   "cell_type": "markdown",
   "id": "b6d27909",
   "metadata": {},
   "source": [
    "# Step 2. Preprocess the data as you see fit"
   ]
  },
  {
   "cell_type": "code",
   "execution_count": 4,
   "id": "67aa8e21",
   "metadata": {
    "scrolled": true,
    "tags": []
   },
   "outputs": [
    {
     "name": "stdout",
     "output_type": "stream",
     "text": [
      "<class 'pandas.core.frame.DataFrame'>\n",
      "RangeIndex: 1258 entries, 0 to 1257\n",
      "Data columns (total 6 columns):\n",
      " #   Column  Non-Null Count  Dtype         \n",
      "---  ------  --------------  -----         \n",
      " 0   Date    1258 non-null   datetime64[ns]\n",
      " 1   Open    1258 non-null   float64       \n",
      " 2   High    1258 non-null   float64       \n",
      " 3   Low     1258 non-null   float64       \n",
      " 4   Close   1258 non-null   float64       \n",
      " 5   Volume  1258 non-null   int64         \n",
      "dtypes: datetime64[ns](1), float64(4), int64(1)\n",
      "memory usage: 59.1 KB\n"
     ]
    }
   ],
   "source": [
    "\n",
    "df['Date'] = pd.to_datetime(df['Date'])\n",
    "\n",
    "df['Volume'] = df['Volume'].str.replace(',', '').astype(int)\n",
    "try:\n",
    "    df['Close'] = df['Close'].str.replace(',', '').astype(float)\n",
    "except ValueError as e:\n",
    "    print(f\"Error converting 'Close': {e}\")\n",
    "\n",
    "df.info()"
   ]
  },
  {
   "cell_type": "code",
   "execution_count": 5,
   "id": "9952c8cc",
   "metadata": {
    "tags": []
   },
   "outputs": [
    {
     "data": {
      "text/html": [
       "<div>\n",
       "<style scoped>\n",
       "    .dataframe tbody tr th:only-of-type {\n",
       "        vertical-align: middle;\n",
       "    }\n",
       "\n",
       "    .dataframe tbody tr th {\n",
       "        vertical-align: top;\n",
       "    }\n",
       "\n",
       "    .dataframe thead th {\n",
       "        text-align: right;\n",
       "    }\n",
       "</style>\n",
       "<table border=\"1\" class=\"dataframe\">\n",
       "  <thead>\n",
       "    <tr style=\"text-align: right;\">\n",
       "      <th></th>\n",
       "      <th>Date</th>\n",
       "      <th>Open</th>\n",
       "      <th>High</th>\n",
       "      <th>Low</th>\n",
       "      <th>Close</th>\n",
       "      <th>Volume</th>\n",
       "    </tr>\n",
       "  </thead>\n",
       "  <tbody>\n",
       "    <tr>\n",
       "      <th>0</th>\n",
       "      <td>2012-01-03</td>\n",
       "      <td>325.25</td>\n",
       "      <td>332.83</td>\n",
       "      <td>324.97</td>\n",
       "      <td>663.59</td>\n",
       "      <td>7380500</td>\n",
       "    </tr>\n",
       "    <tr>\n",
       "      <th>1</th>\n",
       "      <td>2012-01-04</td>\n",
       "      <td>331.27</td>\n",
       "      <td>333.87</td>\n",
       "      <td>329.08</td>\n",
       "      <td>666.45</td>\n",
       "      <td>5749400</td>\n",
       "    </tr>\n",
       "    <tr>\n",
       "      <th>2</th>\n",
       "      <td>2012-01-05</td>\n",
       "      <td>329.83</td>\n",
       "      <td>330.75</td>\n",
       "      <td>326.89</td>\n",
       "      <td>657.21</td>\n",
       "      <td>6590300</td>\n",
       "    </tr>\n",
       "    <tr>\n",
       "      <th>3</th>\n",
       "      <td>2012-01-06</td>\n",
       "      <td>328.34</td>\n",
       "      <td>328.77</td>\n",
       "      <td>323.68</td>\n",
       "      <td>648.24</td>\n",
       "      <td>5405900</td>\n",
       "    </tr>\n",
       "    <tr>\n",
       "      <th>4</th>\n",
       "      <td>2012-01-09</td>\n",
       "      <td>322.04</td>\n",
       "      <td>322.29</td>\n",
       "      <td>309.46</td>\n",
       "      <td>620.76</td>\n",
       "      <td>11688800</td>\n",
       "    </tr>\n",
       "  </tbody>\n",
       "</table>\n",
       "</div>"
      ],
      "text/plain": [
       "        Date    Open    High     Low   Close    Volume\n",
       "0 2012-01-03  325.25  332.83  324.97  663.59   7380500\n",
       "1 2012-01-04  331.27  333.87  329.08  666.45   5749400\n",
       "2 2012-01-05  329.83  330.75  326.89  657.21   6590300\n",
       "3 2012-01-06  328.34  328.77  323.68  648.24   5405900\n",
       "4 2012-01-09  322.04  322.29  309.46  620.76  11688800"
      ]
     },
     "execution_count": 5,
     "metadata": {},
     "output_type": "execute_result"
    }
   ],
   "source": [
    "df.head()"
   ]
  },
  {
   "cell_type": "markdown",
   "id": "439b8fb8",
   "metadata": {},
   "source": [
    "# Step 3. Split into 80% train 20% prediction"
   ]
  },
  {
   "cell_type": "code",
   "execution_count": 6,
   "id": "622a158a",
   "metadata": {},
   "outputs": [],
   "source": [
    "# Select the 'Close' column\n",
    "data = df.filter(['Close'])\n",
    "dataset = data.values\n",
    "\n",
    "# Calculate the number of rows to use for training\n",
    "training_data_len = int(np.ceil(len(dataset) * .80))\n",
    "\n",
    "# Normalize the data\n",
    "scaler = MinMaxScaler(feature_range=(0,1))\n",
    "scaled_data = scaler.fit_transform(dataset)\n",
    "\n",
    "# Create the training data set\n",
    "train_data = scaled_data[0:training_data_len, :]\n",
    "\n",
    "# Split the data into x_train and y_train datasets\n",
    "look_back = 10\n",
    "x_train = []\n",
    "y_train = []\n",
    "\n",
    "for i in range(look_back, len(train_data)):\n",
    "    x_train.append(train_data[i-look_back:i, 0])  # The 10 previous days' closing prices\n",
    "    y_train.append(train_data[i, 0])  # The next day's closing price\n",
    "\n",
    "# Convert x_train and y_train to numpy arrays\n",
    "x_train, y_train = np.array(x_train), np.array(y_train)\n",
    "\n",
    "# Reshape the data into the shape accepted by the LSTM (samples, time steps, features)\n",
    "x_train = np.reshape(x_train, (x_train.shape[0], x_train.shape[1], 1))\n",
    "\n"
   ]
  },
  {
   "cell_type": "code",
   "execution_count": 7,
   "id": "3d29a870",
   "metadata": {},
   "outputs": [
    {
     "data": {
      "text/plain": [
       "1216.83"
      ]
     },
     "execution_count": 7,
     "metadata": {},
     "output_type": "execute_result"
    }
   ],
   "source": [
    "data['Close'].max()\n"
   ]
  },
  {
   "cell_type": "code",
   "execution_count": 8,
   "id": "5b1b168e",
   "metadata": {},
   "outputs": [
    {
     "data": {
      "text/plain": [
       "491.2"
      ]
     },
     "execution_count": 8,
     "metadata": {},
     "output_type": "execute_result"
    }
   ],
   "source": [
    "data['Close'].min()"
   ]
  },
  {
   "cell_type": "code",
   "execution_count": null,
   "id": "44b4af09",
   "metadata": {
    "tags": []
   },
   "outputs": [],
   "source": []
  },
  {
   "cell_type": "code",
   "execution_count": 9,
   "id": "c6355eea",
   "metadata": {
    "scrolled": true
   },
   "outputs": [
    {
     "name": "stdout",
     "output_type": "stream",
     "text": [
      "Epoch 1/100\n",
      "997/997 - 2s - loss: 0.0056 - 2s/epoch - 2ms/step\n",
      "Epoch 2/100\n",
      "997/997 - 1s - loss: 0.0025 - 1s/epoch - 1ms/step\n",
      "Epoch 3/100\n",
      "997/997 - 1s - loss: 0.0018 - 1s/epoch - 1ms/step\n",
      "Epoch 4/100\n",
      "997/997 - 1s - loss: 0.0017 - 1s/epoch - 1ms/step\n",
      "Epoch 5/100\n",
      "997/997 - 1s - loss: 0.0015 - 977ms/epoch - 980us/step\n",
      "Epoch 6/100\n",
      "997/997 - 1s - loss: 0.0014 - 938ms/epoch - 941us/step\n",
      "Epoch 7/100\n",
      "997/997 - 1s - loss: 0.0012 - 945ms/epoch - 948us/step\n",
      "Epoch 8/100\n",
      "997/997 - 1s - loss: 0.0012 - 938ms/epoch - 940us/step\n",
      "Epoch 9/100\n",
      "997/997 - 1s - loss: 0.0012 - 936ms/epoch - 939us/step\n",
      "Epoch 10/100\n",
      "997/997 - 1s - loss: 0.0011 - 932ms/epoch - 935us/step\n",
      "Epoch 11/100\n",
      "997/997 - 1s - loss: 0.0010 - 932ms/epoch - 935us/step\n",
      "Epoch 12/100\n",
      "997/997 - 1s - loss: 0.0011 - 930ms/epoch - 933us/step\n",
      "Epoch 13/100\n",
      "997/997 - 1s - loss: 0.0011 - 929ms/epoch - 931us/step\n",
      "Epoch 14/100\n",
      "997/997 - 1s - loss: 0.0010 - 936ms/epoch - 939us/step\n",
      "Epoch 15/100\n",
      "997/997 - 1s - loss: 0.0011 - 938ms/epoch - 941us/step\n",
      "Epoch 16/100\n",
      "997/997 - 1s - loss: 0.0011 - 949ms/epoch - 952us/step\n",
      "Epoch 17/100\n",
      "997/997 - 1s - loss: 0.0011 - 950ms/epoch - 953us/step\n",
      "Epoch 18/100\n",
      "997/997 - 1s - loss: 0.0011 - 929ms/epoch - 932us/step\n",
      "Epoch 19/100\n",
      "997/997 - 1s - loss: 0.0011 - 929ms/epoch - 932us/step\n",
      "Epoch 20/100\n",
      "997/997 - 1s - loss: 9.8117e-04 - 934ms/epoch - 937us/step\n",
      "Epoch 21/100\n",
      "997/997 - 1s - loss: 0.0010 - 921ms/epoch - 924us/step\n",
      "Epoch 22/100\n",
      "997/997 - 1s - loss: 0.0010 - 922ms/epoch - 925us/step\n",
      "Epoch 23/100\n",
      "997/997 - 1s - loss: 0.0011 - 934ms/epoch - 937us/step\n",
      "Epoch 24/100\n",
      "997/997 - 1s - loss: 0.0011 - 924ms/epoch - 926us/step\n",
      "Epoch 25/100\n",
      "997/997 - 1s - loss: 0.0010 - 923ms/epoch - 926us/step\n",
      "Epoch 26/100\n",
      "997/997 - 1s - loss: 9.9476e-04 - 922ms/epoch - 925us/step\n",
      "Epoch 27/100\n",
      "997/997 - 1s - loss: 0.0010 - 930ms/epoch - 933us/step\n",
      "Epoch 28/100\n",
      "997/997 - 1s - loss: 0.0011 - 928ms/epoch - 930us/step\n",
      "Epoch 29/100\n",
      "997/997 - 1s - loss: 0.0010 - 927ms/epoch - 929us/step\n",
      "Epoch 30/100\n",
      "997/997 - 1s - loss: 9.9677e-04 - 929ms/epoch - 932us/step\n",
      "Epoch 31/100\n",
      "997/997 - 1s - loss: 0.0011 - 947ms/epoch - 950us/step\n",
      "Epoch 32/100\n",
      "997/997 - 1s - loss: 0.0010 - 942ms/epoch - 945us/step\n",
      "Epoch 33/100\n",
      "997/997 - 1s - loss: 9.6358e-04 - 948ms/epoch - 951us/step\n",
      "Epoch 34/100\n",
      "997/997 - 1s - loss: 0.0010 - 945ms/epoch - 948us/step\n",
      "Epoch 35/100\n",
      "997/997 - 1s - loss: 9.8990e-04 - 951ms/epoch - 954us/step\n",
      "Epoch 36/100\n",
      "997/997 - 1s - loss: 9.8992e-04 - 963ms/epoch - 966us/step\n",
      "Epoch 37/100\n",
      "997/997 - 1s - loss: 0.0010 - 962ms/epoch - 965us/step\n",
      "Epoch 38/100\n",
      "997/997 - 1s - loss: 9.5781e-04 - 964ms/epoch - 967us/step\n",
      "Epoch 39/100\n",
      "997/997 - 1s - loss: 9.8011e-04 - 974ms/epoch - 977us/step\n",
      "Epoch 40/100\n",
      "997/997 - 1s - loss: 0.0010 - 1s/epoch - 1ms/step\n",
      "Epoch 41/100\n",
      "997/997 - 1s - loss: 0.0010 - 1s/epoch - 1ms/step\n",
      "Epoch 42/100\n",
      "997/997 - 1s - loss: 9.6448e-04 - 1s/epoch - 1ms/step\n",
      "Epoch 43/100\n",
      "997/997 - 1s - loss: 9.4185e-04 - 1s/epoch - 1ms/step\n",
      "Epoch 44/100\n",
      "997/997 - 1s - loss: 9.5110e-04 - 1s/epoch - 1ms/step\n",
      "Epoch 45/100\n",
      "997/997 - 1s - loss: 0.0010 - 1s/epoch - 1ms/step\n",
      "Epoch 46/100\n",
      "997/997 - 1s - loss: 9.8010e-04 - 1s/epoch - 1ms/step\n",
      "Epoch 47/100\n",
      "997/997 - 1s - loss: 0.0010 - 1s/epoch - 1ms/step\n",
      "Epoch 48/100\n",
      "997/997 - 1s - loss: 9.6280e-04 - 1s/epoch - 1ms/step\n",
      "Epoch 49/100\n",
      "997/997 - 1s - loss: 9.6371e-04 - 1s/epoch - 1ms/step\n",
      "Epoch 50/100\n",
      "997/997 - 1s - loss: 9.9062e-04 - 1s/epoch - 1ms/step\n",
      "Epoch 51/100\n",
      "997/997 - 1s - loss: 9.5133e-04 - 1s/epoch - 1ms/step\n",
      "Epoch 52/100\n",
      "997/997 - 1s - loss: 9.7826e-04 - 1s/epoch - 1ms/step\n",
      "Epoch 53/100\n",
      "997/997 - 1s - loss: 9.7970e-04 - 1s/epoch - 1ms/step\n",
      "Epoch 54/100\n",
      "997/997 - 1s - loss: 9.7641e-04 - 1s/epoch - 1ms/step\n",
      "Epoch 55/100\n",
      "997/997 - 1s - loss: 0.0010 - 1s/epoch - 1ms/step\n",
      "Epoch 56/100\n",
      "997/997 - 1s - loss: 9.7545e-04 - 1s/epoch - 1ms/step\n",
      "Epoch 57/100\n",
      "997/997 - 1s - loss: 9.7881e-04 - 1s/epoch - 1ms/step\n",
      "Epoch 58/100\n",
      "997/997 - 1s - loss: 9.9817e-04 - 1s/epoch - 1ms/step\n",
      "Epoch 59/100\n",
      "997/997 - 1s - loss: 9.6419e-04 - 1s/epoch - 1ms/step\n",
      "Epoch 60/100\n",
      "997/997 - 1s - loss: 9.9347e-04 - 1s/epoch - 1ms/step\n",
      "Epoch 61/100\n",
      "997/997 - 1s - loss: 9.5423e-04 - 1s/epoch - 1ms/step\n",
      "Epoch 62/100\n",
      "997/997 - 1s - loss: 9.3743e-04 - 1s/epoch - 1ms/step\n",
      "Epoch 63/100\n",
      "997/997 - 1s - loss: 9.8375e-04 - 1s/epoch - 1ms/step\n",
      "Epoch 64/100\n",
      "997/997 - 1s - loss: 9.4753e-04 - 1s/epoch - 1ms/step\n",
      "Epoch 65/100\n",
      "997/997 - 1s - loss: 9.3895e-04 - 1s/epoch - 1ms/step\n",
      "Epoch 66/100\n",
      "997/997 - 1s - loss: 9.4357e-04 - 1s/epoch - 1ms/step\n",
      "Epoch 67/100\n",
      "997/997 - 1s - loss: 9.4208e-04 - 1s/epoch - 1ms/step\n",
      "Epoch 68/100\n",
      "997/997 - 1s - loss: 9.5752e-04 - 1s/epoch - 1ms/step\n",
      "Epoch 69/100\n",
      "997/997 - 1s - loss: 9.5668e-04 - 1s/epoch - 1ms/step\n",
      "Epoch 70/100\n",
      "997/997 - 1s - loss: 9.2071e-04 - 1s/epoch - 1ms/step\n",
      "Epoch 71/100\n",
      "997/997 - 1s - loss: 9.7417e-04 - 1s/epoch - 1ms/step\n",
      "Epoch 72/100\n",
      "997/997 - 1s - loss: 9.3556e-04 - 1s/epoch - 1ms/step\n",
      "Epoch 73/100\n",
      "997/997 - 1s - loss: 9.5603e-04 - 1s/epoch - 1ms/step\n",
      "Epoch 74/100\n",
      "997/997 - 1s - loss: 9.6559e-04 - 1s/epoch - 1ms/step\n",
      "Epoch 75/100\n",
      "997/997 - 1s - loss: 9.6010e-04 - 1s/epoch - 1ms/step\n",
      "Epoch 76/100\n",
      "997/997 - 1s - loss: 9.4431e-04 - 1s/epoch - 1ms/step\n",
      "Epoch 77/100\n",
      "997/997 - 1s - loss: 9.4166e-04 - 1s/epoch - 1ms/step\n",
      "Epoch 78/100\n",
      "997/997 - 1s - loss: 9.3768e-04 - 1s/epoch - 1ms/step\n",
      "Epoch 79/100\n",
      "997/997 - 1s - loss: 9.5761e-04 - 1s/epoch - 1ms/step\n",
      "Epoch 80/100\n",
      "997/997 - 1s - loss: 9.4730e-04 - 1s/epoch - 1ms/step\n",
      "Epoch 81/100\n",
      "997/997 - 1s - loss: 9.6044e-04 - 1s/epoch - 1ms/step\n",
      "Epoch 82/100\n",
      "997/997 - 1s - loss: 8.6362e-04 - 1s/epoch - 1ms/step\n",
      "Epoch 83/100\n",
      "997/997 - 1s - loss: 0.0010 - 1s/epoch - 1ms/step\n",
      "Epoch 84/100\n",
      "997/997 - 1s - loss: 9.4233e-04 - 1s/epoch - 1ms/step\n",
      "Epoch 85/100\n",
      "997/997 - 1s - loss: 9.5409e-04 - 1s/epoch - 1ms/step\n",
      "Epoch 86/100\n",
      "997/997 - 1s - loss: 9.2570e-04 - 1s/epoch - 1ms/step\n",
      "Epoch 87/100\n",
      "997/997 - 1s - loss: 9.8344e-04 - 1s/epoch - 1ms/step\n",
      "Epoch 88/100\n",
      "997/997 - 1s - loss: 9.3620e-04 - 1s/epoch - 1ms/step\n",
      "Epoch 89/100\n",
      "997/997 - 1s - loss: 9.2822e-04 - 1s/epoch - 1ms/step\n",
      "Epoch 90/100\n",
      "997/997 - 1s - loss: 9.4615e-04 - 1s/epoch - 1ms/step\n",
      "Epoch 91/100\n",
      "997/997 - 1s - loss: 9.4073e-04 - 1s/epoch - 1ms/step\n",
      "Epoch 92/100\n",
      "997/997 - 1s - loss: 9.2549e-04 - 1s/epoch - 1ms/step\n",
      "Epoch 93/100\n",
      "997/997 - 1s - loss: 9.4580e-04 - 1s/epoch - 1ms/step\n",
      "Epoch 94/100\n",
      "997/997 - 1s - loss: 9.1795e-04 - 1s/epoch - 1ms/step\n",
      "Epoch 95/100\n",
      "997/997 - 1s - loss: 9.4063e-04 - 1s/epoch - 1ms/step\n",
      "Epoch 96/100\n",
      "997/997 - 1s - loss: 9.2875e-04 - 1s/epoch - 1ms/step\n",
      "Epoch 97/100\n",
      "997/997 - 1s - loss: 9.4543e-04 - 1s/epoch - 1ms/step\n",
      "Epoch 98/100\n",
      "997/997 - 1s - loss: 9.4801e-04 - 1s/epoch - 1ms/step\n",
      "Epoch 99/100\n",
      "997/997 - 1s - loss: 9.2407e-04 - 1s/epoch - 1ms/step\n",
      "Epoch 100/100\n",
      "997/997 - 1s - loss: 9.5952e-04 - 1s/epoch - 1ms/step\n"
     ]
    }
   ],
   "source": [
    "# Build the LSTM model\n",
    "model = Sequential()\n",
    "model.add(LSTM(50, return_sequences=False, input_shape=(x_train.shape[1], 1)))\n",
    "model.add(Dense(1))\n",
    "\n",
    "# Compile the model\n",
    "model.compile(optimizer='adam', loss='mean_squared_error')\n",
    "\n",
    "# Train the model\n",
    "history = model.fit(x_train, y_train, batch_size=1, epochs=100, verbose=2)\n"
   ]
  },
  {
   "cell_type": "code",
   "execution_count": 10,
   "id": "ab900465",
   "metadata": {},
   "outputs": [
    {
     "name": "stdout",
     "output_type": "stream",
     "text": [
      "32/32 [==============================] - 0s 1ms/step\n",
      "Training RMSE: 21.103645424662876\n"
     ]
    }
   ],
   "source": [
    "\n",
    "# Train predictions\n",
    "train_predict = model.predict(x_train)\n",
    "train_predict = scaler.inverse_transform(train_predict)\n",
    "\n",
    "# Inverse transform the actual training values\n",
    "y_train_actual = scaler.inverse_transform(y_train.reshape(-1, 1))\n",
    "\n",
    "# Calculate and print RMSE for the training set\n",
    "train_rmse = sqrt(mean_squared_error(y_train_actual, train_predict))\n",
    "print(\"Training RMSE:\", train_rmse)\n",
    "\n"
   ]
  },
  {
   "cell_type": "code",
   "execution_count": null,
   "id": "73183e40",
   "metadata": {},
   "outputs": [],
   "source": []
  },
  {
   "cell_type": "code",
   "execution_count": 11,
   "id": "e50d8b30",
   "metadata": {},
   "outputs": [
    {
     "name": "stdout",
     "output_type": "stream",
     "text": [
      "8/8 [==============================] - 0s 955us/step\n",
      "Testing RMSE: 9.628342090533264\n"
     ]
    }
   ],
   "source": [
    "# Prepare the test dataset\n",
    "test_data = scaled_data[training_data_len - 10:, :]\n",
    "\n",
    "x_test = []\n",
    "y_test_actual = dataset[training_data_len:, 0]  # Adjust this if dataset's shape varies\n",
    "\n",
    "for i in range(10, len(test_data)):\n",
    "    x_test.append(test_data[i-10:i, 0])\n",
    "\n",
    "# Convert x_test to a numpy array and reshape for LSTM\n",
    "x_test = np.array(x_test)\n",
    "x_test = np.reshape(x_test, (x_test.shape[0], x_test.shape[1], 1))\n",
    "\n",
    "# Predict on the test dataset\n",
    "predictions = model.predict(x_test)\n",
    "predictions = scaler.inverse_transform(predictions)\n",
    "\n",
    "# Ensure y_test_actual is properly reshaped for comparison\n",
    "y_test_actual = y_test_actual.reshape(-1, 1)\n",
    "\n",
    "# Calculate and print RMSE for the testing set\n",
    "test_rmse = sqrt(mean_squared_error(y_test_actual, predictions))\n",
    "print(\"Testing RMSE:\", test_rmse)\n"
   ]
  },
  {
   "cell_type": "markdown",
   "id": "96c8e9ca",
   "metadata": {},
   "source": [
    "Your LSTM model demonstrates promising results, with RMSE scores indicating reasonable accuracy against the backdrop of your data's price range. The lower testing RMSE compared to training suggests your model generalizes well, though it's slightly atypical and might merit a closer look to ensure the test set adequately reflects the data's complexity. Overall, considering the range of 'Close' prices, the performance seems satisfactory, with no immediate signs of overfitting. It's advisable to continue monitoring model performance, especially against unseen data, and consider adjusting the model or evaluation strategy as new data becomes available."
   ]
  },
  {
   "cell_type": "code",
   "execution_count": null,
   "id": "cb576917",
   "metadata": {},
   "outputs": [],
   "source": []
  },
  {
   "cell_type": "code",
   "execution_count": 12,
   "id": "9aafc718",
   "metadata": {},
   "outputs": [
    {
     "data": {
      "image/png": "[encoded data removed]",
      "text/plain": [
       "<Figure size 1600x800 with 1 Axes>"
      ]
     },
     "metadata": {},
     "output_type": "display_data"
    }
   ],
   "source": [
    "import matplotlib.pyplot as plt\n",
    "import matplotlib.dates as mdates\n",
    "\n",
    "# Assuming 'predictions' are already provided and scaled back to the original price range\n",
    "# Assuming 'df' has columns 'Date' and 'Close'\n",
    "\n",
    "# Setting up the 'train' DataFrame\n",
    "train = df.iloc[int(training_data_len*2/3):training_data_len].copy()\n",
    "\n",
    "# Preparing the 'valid' DataFrame\n",
    "valid = df.iloc[training_data_len:].copy()\n",
    "valid['Predictions'] = predictions.flatten()\n",
    "\n",
    "\n",
    "\n",
    "# Plotting\n",
    "plt.figure(figsize=(16,8))\n",
    "plt.title('Model Performance', fontsize=20)\n",
    "plt.xlabel('Date', fontsize=18)\n",
    "plt.ylabel('Close Price USD ($)', fontsize=18)\n",
    "\n",
    "# Actual prices for the training part\n",
    "plt.plot(train['Date'], train['Close'], label='Train Data', color='dodgerblue', linewidth=2)\n",
    "\n",
    "# Actual prices for the test part\n",
    "plt.plot(valid['Date'], valid['Close'], label='Actual Value', color='tomato', linewidth=2)\n",
    "\n",
    "# Predicted prices\n",
    "plt.plot(valid['Date'], valid['Predictions'], label='Predictions', color='mediumseagreen', linestyle='--', linewidth=2)\n",
    "\n",
    "plt.legend(loc='upper left', fontsize=14)\n",
    "plt.xticks(rotation=45)\n",
    "plt.grid(True, linestyle='--', linewidth=0.5, alpha=0.7)\n",
    "plt.show()\n"
   ]
  },
  {
   "cell_type": "code",
   "execution_count": null,
   "id": "69bd1df8-9a97-4a0c-bdc5-6fbf24df7fde",
   "metadata": {},
   "outputs": [],
   "source": []
  },
  {
   "cell_type": "code",
   "execution_count": null,
   "id": "af9b50ce-0bca-45c5-99cd-d5456f9bd8f5",
   "metadata": {},
   "outputs": [],
   "source": []
  },
  {
   "cell_type": "code",
   "execution_count": null,
   "id": "2edf6731-67c2-4017-b3bd-e56cacdf2628",
   "metadata": {},
   "outputs": [],
   "source": []
  },
  {
   "cell_type": "code",
   "execution_count": null,
   "id": "1efd54d6-3214-40e2-af51-ccdfd78208fd",
   "metadata": {},
   "outputs": [],
   "source": []
  },
  {
   "cell_type": "code",
   "execution_count": null,
   "id": "35c1cf98-b3d7-4327-9bc6-1b6305d1189f",
   "metadata": {},
   "outputs": [],
   "source": []
  },
  {
   "cell_type": "code",
   "execution_count": 13,
   "id": "834dc2c3-a266-4b5e-a0a7-28929a0c7a46",
   "metadata": {
    "tags": []
   },
   "outputs": [
    {
     "name": "stdout",
     "output_type": "stream",
     "text": [
      "SHapes = X.shape = (1243, 15, 1), y.shape = (1243, 1)\n",
      "Training Data Size = torch.Size([994, 15, 1]), torch.Size([994, 1])\n",
      "Test Data Size     = torch.Size([249, 15, 1]), torch.Size([249, 1])\n",
      "10 epoch loss 0.07092973\n",
      "20 epoch loss 0.047512937\n",
      "30 epoch loss 0.031227803\n",
      "40 epoch loss 0.010561198\n",
      "50 epoch loss 0.008773758\n",
      "60 epoch loss 0.0057863705\n",
      "70 epoch loss 0.0048444453\n",
      "80 epoch loss 0.004220106\n",
      "90 epoch loss 0.0037308095\n"
     ]
    }
   ],
   "source": [
    "import numpy as np\n",
    "import pandas as pd\n",
    "from sklearn.preprocessing import MinMaxScaler\n",
    "import matplotlib.pyplot as plt\n",
    "\n",
    "import torch\n",
    "import torch.nn as nn\n",
    "\n",
    "df = pd.read_csv(\"Google_Stock_Price_Train.csv\")\n",
    "df['Volume'] = df['Volume'].str.replace(',', '').astype(int)\n",
    "df['Close'] = df['Close'].str.replace(',', '').astype(float)\n",
    "df['Date'] = pd.to_datetime(df['Date'])\n",
    "\n",
    "closed_prices = df[\"Close\"]\n",
    "\n",
    "seq_len = 15\n",
    "\n",
    "mm = MinMaxScaler()\n",
    "scaled_price = mm.fit_transform(np.array(closed_prices)[... , None]).squeeze()\n",
    "\n",
    "X = []\n",
    "y = []\n",
    "\n",
    "for i in range(len(scaled_price) - seq_len):\n",
    "    X.append(scaled_price[i : i + seq_len])\n",
    "    y.append(scaled_price[i + seq_len])\n",
    "    \n",
    "X = np.array(X)[... , None]\n",
    "y = np.array(y)[... , None]\n",
    "    \n",
    "print(f\"SHapes = {X.shape = }, {y.shape = }\")\n",
    "\n",
    "train_x = torch.from_numpy(X[:int(0.8 * X.shape[0])]).float()\n",
    "train_y = torch.from_numpy(y[:int(0.8 * X.shape[0])]).float()\n",
    "test_x = torch.from_numpy(X[int(0.8 * X.shape[0]):]).float()\n",
    "test_y = torch.from_numpy(y[int(0.8 * X.shape[0]):]).float()\n",
    "\n",
    "print(f\"Training Data Size = {train_x.shape}, {train_y.shape}\")\n",
    "print(f\"Test Data Size     = {test_x.shape}, {test_y.shape}\")\n",
    "    \n",
    "class Model(nn.Module):\n",
    "    def __init__(self , input_size , hidden_size):\n",
    "        super().__init__()\n",
    "        self.lstm = nn.LSTM(input_size , hidden_size , batch_first = True)\n",
    "        self.fc = nn.Linear(hidden_size , 1)\n",
    "    def forward(self , x):\n",
    "        output , (hidden , cell) = self.lstm(x)\n",
    "        return self.fc(hidden[-1 , :])\n",
    "model = Model(1 , 64)\n",
    "\n",
    "optimizer = torch.optim.Adam(model.parameters() , lr = 0.001)\n",
    "loss_fn = nn.MSELoss()\n",
    "\n",
    "num_epochs = 100\n",
    "\n",
    "for epoch in range(num_epochs):\n",
    "    output = model(train_x)\n",
    "    loss = loss_fn(output , train_y)\n",
    "\n",
    "    optimizer.zero_grad()\n",
    "    loss.backward()\n",
    "    optimizer.step()\n",
    "\n",
    "    if epoch % 10 == 0 and epoch != 0:\n",
    "        print(epoch , \"epoch loss\" , loss.detach().numpy())\n",
    "\n",
    "model.eval()\n",
    "with torch.no_grad():\n",
    "    output = model(test_x)\n",
    "\n",
    "pred = mm.inverse_transform(output.numpy())\n",
    "real = mm.inverse_transform(test_y.numpy())\n",
    "\n",
    "\n",
    "\n",
    "\n",
    "\n",
    "\n",
    "\n",
    "\n"
   ]
  },
  {
   "cell_type": "code",
   "execution_count": null,
   "id": "35fabd34-7f89-4948-882f-15b7f3599368",
   "metadata": {},
   "outputs": [],
   "source": []
  }
 ],
 "metadata": {
  "kernelspec": {
   "display_name": "Python 3 (ipykernel)",
   "language": "python",
   "name": "python3"
  },
  "language_info": {
   "codemirror_mode": {
    "name": "ipython",
    "version": 3
   },
   "file_extension": ".py",
   "mimetype": "text/x-python",
   "name": "python",
   "nbconvert_exporter": "python",
   "pygments_lexer": "ipython3",
   "version": "3.10.13"
  }
 },
 "nbformat": 4,
 "nbformat_minor": 5
}
