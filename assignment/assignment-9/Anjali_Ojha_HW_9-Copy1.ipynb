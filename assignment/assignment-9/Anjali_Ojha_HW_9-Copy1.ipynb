{
 "cells": [
  {
   "cell_type": "markdown",
   "id": "9ee705c2-aa74-4c27-9cc0-0a97f81abd52",
   "metadata": {},
   "source": [
    "GitHub Link - "
   ]
  },
  {
   "cell_type": "markdown",
   "id": "668dac59-f8eb-4bca-9baa-2eef1d55c69c",
   "metadata": {},
   "source": [
    "## Follow the official Pytorch demo tutorial for Transformer Translation: Transformer model for language understanding (https://www.tensorflow.org/text/tutorials/transformer)\n",
    "\n",
    "# Step1. Run the demo and train a model on the original German-to-English training set."
   ]
  },
  {
   "cell_type": "code",
   "execution_count": 1,
   "id": "2708f917-42eb-492d-90be-23341818cb4c",
   "metadata": {
    "tags": []
   },
   "outputs": [],
   "source": [
    "%matplotlib inline"
   ]
  },
  {
   "cell_type": "code",
   "execution_count": 2,
   "id": "c1bd84bd-5b32-4c6a-9c10-371df34d668f",
   "metadata": {
    "tags": []
   },
   "outputs": [],
   "source": [
    "# !pip install torchtext\n",
    "# !pip install -U torchdata\n",
    "# !pip install portalocker >= 2.0.0\n",
    "# !pip install spacy\n",
    "# !python -m spacy download de_core_news_sm\n",
    "# !python -m spacy download en_core_web_sm"
   ]
  },
  {
   "cell_type": "code",
   "execution_count": 3,
   "id": "a1cfceae-7dd9-4a58-b939-37370f420c37",
   "metadata": {
    "tags": []
   },
   "outputs": [],
   "source": [
    "from torchtext.data.utils import get_tokenizer\n",
    "from torchtext.vocab import build_vocab_from_iterator\n",
    "from torchtext.datasets import multi30k, Multi30k\n",
    "from typing import Iterable, List"
   ]
  },
  {
   "cell_type": "code",
   "execution_count": 4,
   "id": "e2fb7727-9491-4467-905c-589938ed2783",
   "metadata": {
    "tags": []
   },
   "outputs": [],
   "source": [
    "multi30k.URL[\"train\"] = \"https://raw.githubusercontent.com/neychev/small_DL_repo/master/datasets/Multi30k/training.tar.gz\"\n",
    "multi30k.URL[\"valid\"] = \"https://raw.githubusercontent.com/neychev/small_DL_repo/master/datasets/Multi30k/validation.tar.gz\""
   ]
  },
  {
   "cell_type": "code",
   "execution_count": 5,
   "id": "f6b5a098-aff2-4475-8a7f-4948d58340d8",
   "metadata": {
    "tags": []
   },
   "outputs": [],
   "source": [
    "# Define special symbols and indices\n",
    "UNK_IDX, PAD_IDX, BOS_IDX, EOS_IDX = 0, 1, 2, 3\n",
    "# Make sure the tokens are in order of their indices to properly insert them in vocab\n",
    "special_symbols = ['<unk>', '<pad>', '<bos>', '<eos>']\n",
    "\n",
    "    \n",
    "def prepare_data(SRC_LANGUAGE, TGT_LANGUAGE):\n",
    "    # SRC_LANGUAGE = 'de'\n",
    "    # TGT_LANGUAGE = 'en'\n",
    "\n",
    "    token_transform = {}\n",
    "    vocab_transform = {}\n",
    "\n",
    "    token_transform[SRC_LANGUAGE] = get_tokenizer('spacy', language= 'de_core_news_sm' if SRC_LANGUAGE == 'de' else 'en_core_web_sm')\n",
    "    token_transform[TGT_LANGUAGE] = get_tokenizer('spacy', language= 'en_core_web_sm' if TGT_LANGUAGE == 'en' else 'de_core_news_sm')\n",
    "\n",
    "\n",
    "    # helper function to yield list of tokens\n",
    "    def yield_tokens(data_iter: Iterable, language: str) -> List[str]:\n",
    "        language_index = {SRC_LANGUAGE: 0, TGT_LANGUAGE: 1}\n",
    "\n",
    "        for data_sample in data_iter:\n",
    "            yield token_transform[language](data_sample[language_index[language]])\n",
    "\n",
    "    # # Define special symbols and indices\n",
    "    # UNK_IDX, PAD_IDX, BOS_IDX, EOS_IDX = 0, 1, 2, 3\n",
    "    # # Make sure the tokens are in order of their indices to properly insert them in vocab\n",
    "    # special_symbols = ['<unk>', '<pad>', '<bos>', '<eos>']\n",
    "\n",
    "    \"\"\"\n",
    "    Purpose: Defines special tokens used in the vocabulary for machine learning tasks with text data.\n",
    "    Special Tokens:\n",
    "    <unk>: \"Unknown\" token (represents words not in the vocabulary)\n",
    "    <pad>: Padding token (to make sequences the same length)\n",
    "    <bos>: \"Beginning of Sequence\"\n",
    "    <eos>: \"End of Sequence\"\n",
    "    \"\"\"\n",
    "\n",
    "    for ln in [SRC_LANGUAGE, TGT_LANGUAGE]:\n",
    "        # Training data Iterator\n",
    "        train_iter = Multi30k(split='train', language_pair=(SRC_LANGUAGE, TGT_LANGUAGE))\n",
    "        # Create torchtext's Vocab object\n",
    "        vocab_transform[ln] = build_vocab_from_iterator(yield_tokens(train_iter, ln),\n",
    "                                                        min_freq=1,\n",
    "                                                        specials=special_symbols,\n",
    "                                                        special_first=True)\n",
    "\n",
    "    # Set ``UNK_IDX`` as the default index. This index is returned when the token is not found.\n",
    "    # If not set, it throws ``RuntimeError`` when the queried token is not found in the Vocabulary.\n",
    "    for ln in [SRC_LANGUAGE, TGT_LANGUAGE]:\n",
    "        vocab_transform[ln].set_default_index(UNK_IDX)\n",
    "\n",
    "    # helper function to club together sequential operations\n",
    "    def sequential_transforms(*transforms):\n",
    "        def func(txt_input):\n",
    "            for transform in transforms:\n",
    "                txt_input = transform(txt_input)\n",
    "            return txt_input\n",
    "        return func\n",
    "\n",
    "    # function to add BOS/EOS and create tensor for input sequence indices\n",
    "    def tensor_transform(token_ids: List[int]):\n",
    "        return torch.cat((torch.tensor([BOS_IDX]),\n",
    "                          torch.tensor(token_ids),\n",
    "                          torch.tensor([EOS_IDX])))\n",
    "\n",
    "    # ``src`` and ``tgt`` language text transforms to convert raw strings into tensors indices\n",
    "    text_transform = {}\n",
    "    for ln in [SRC_LANGUAGE, TGT_LANGUAGE]:\n",
    "        text_transform[ln] = sequential_transforms(token_transform[ln], #Tokenization\n",
    "                                                   vocab_transform[ln], #Numericalization\n",
    "                                                   tensor_transform) # Add BOS/EOS and create tensor\n",
    "        \n",
    "    return token_transform, vocab_transform, text_transform\n",
    "    \n",
    "    \n"
   ]
  },
  {
   "cell_type": "code",
   "execution_count": 6,
   "id": "3fba2adf-d365-4393-a418-22d7252d96d8",
   "metadata": {
    "tags": []
   },
   "outputs": [],
   "source": [
    "from torch import Tensor\n",
    "import torch\n",
    "import torch.nn as nn\n",
    "from torch.nn import Transformer\n",
    "import math\n",
    "DEVICE = torch.device('cuda' if torch.cuda.is_available() else 'cpu')\n",
    "# DEVICE = torch.device('cuda' if torch.cuda.is_available() else ('mps' if torch.backends.mps.is_built() else 'cpu'))\n",
    "\n",
    "# helper Module that adds positional encoding to the token embedding to introduce a notion of word order.\n",
    "class PositionalEncoding(nn.Module):\n",
    "    def __init__(self,\n",
    "                 emb_size: int,\n",
    "                 dropout: float,\n",
    "                 maxlen: int = 5000):\n",
    "        super(PositionalEncoding, self).__init__()\n",
    "        den = torch.exp(- torch.arange(0, emb_size, 2)* math.log(10000) / emb_size)\n",
    "        pos = torch.arange(0, maxlen).reshape(maxlen, 1)\n",
    "        pos_embedding = torch.zeros((maxlen, emb_size))\n",
    "        pos_embedding[:, 0::2] = torch.sin(pos * den)\n",
    "        pos_embedding[:, 1::2] = torch.cos(pos * den)\n",
    "        pos_embedding = pos_embedding.unsqueeze(-2)\n",
    "\n",
    "        self.dropout = nn.Dropout(dropout)\n",
    "        self.register_buffer('pos_embedding', pos_embedding)\n",
    "\n",
    "    def forward(self, token_embedding: Tensor):\n",
    "        return self.dropout(token_embedding + self.pos_embedding[:token_embedding.size(0), :])\n",
    "\n",
    "# helper Module to convert tensor of input indices into corresponding tensor of token embeddings\n",
    "class TokenEmbedding(nn.Module):\n",
    "    def __init__(self, vocab_size: int, emb_size):\n",
    "        super(TokenEmbedding, self).__init__()\n",
    "        self.embedding = nn.Embedding(vocab_size, emb_size)\n",
    "        self.emb_size = emb_size\n",
    "\n",
    "    def forward(self, tokens: Tensor):\n",
    "        return self.embedding(tokens.long()) * math.sqrt(self.emb_size)\n",
    "\n",
    "# Seq2Seq Network\n",
    "class Seq2SeqTransformer(nn.Module):\n",
    "    def __init__(self,\n",
    "                 num_encoder_layers: int,\n",
    "                 num_decoder_layers: int,\n",
    "                 emb_size: int,\n",
    "                 nhead: int,\n",
    "                 src_vocab_size: int,\n",
    "                 tgt_vocab_size: int,\n",
    "                 dim_feedforward: int = 512,\n",
    "                 dropout: float = 0.1):\n",
    "        super(Seq2SeqTransformer, self).__init__()\n",
    "        self.transformer = Transformer(d_model=emb_size,\n",
    "                                       nhead=nhead,\n",
    "                                       num_encoder_layers=num_encoder_layers,\n",
    "                                       num_decoder_layers=num_decoder_layers,\n",
    "                                       dim_feedforward=dim_feedforward,\n",
    "                                       dropout=dropout)\n",
    "        self.generator = nn.Linear(emb_size, tgt_vocab_size)\n",
    "        self.src_tok_emb = TokenEmbedding(src_vocab_size, emb_size)\n",
    "        self.tgt_tok_emb = TokenEmbedding(tgt_vocab_size, emb_size)\n",
    "        self.positional_encoding = PositionalEncoding(\n",
    "            emb_size, dropout=dropout)\n",
    "\n",
    "    def forward(self,\n",
    "                src: Tensor,\n",
    "                trg: Tensor,\n",
    "                src_mask: Tensor,\n",
    "                tgt_mask: Tensor,\n",
    "                src_padding_mask: Tensor,\n",
    "                tgt_padding_mask: Tensor,\n",
    "                memory_key_padding_mask: Tensor):\n",
    "        src_emb = self.positional_encoding(self.src_tok_emb(src))\n",
    "        tgt_emb = self.positional_encoding(self.tgt_tok_emb(trg))\n",
    "        outs = self.transformer(src_emb, tgt_emb, src_mask, tgt_mask, None,\n",
    "                                src_padding_mask, tgt_padding_mask, memory_key_padding_mask)\n",
    "        return self.generator(outs)\n",
    "\n",
    "    def encode(self, src: Tensor, src_mask: Tensor):\n",
    "        return self.transformer.encoder(self.positional_encoding(\n",
    "                            self.src_tok_emb(src)), src_mask)\n",
    "\n",
    "    def decode(self, tgt: Tensor, memory: Tensor, tgt_mask: Tensor):\n",
    "        return self.transformer.decoder(self.positional_encoding(\n",
    "                          self.tgt_tok_emb(tgt)), memory,\n",
    "                          tgt_mask)"
   ]
  },
  {
   "cell_type": "code",
   "execution_count": 7,
   "id": "aa9c4133-12ee-4be8-9af1-b127a50e0066",
   "metadata": {
    "tags": []
   },
   "outputs": [],
   "source": [
    "def generate_square_subsequent_mask(sz):\n",
    "    mask = (torch.triu(torch.ones((sz, sz), device=DEVICE)) == 1).transpose(0, 1)\n",
    "    mask = mask.float().masked_fill(mask == 0, float('-inf')).masked_fill(mask == 1, float(0.0))\n",
    "    return mask\n",
    "\n",
    "\n",
    "def create_mask(src, tgt):\n",
    "    src_seq_len = src.shape[0]\n",
    "    tgt_seq_len = tgt.shape[0]\n",
    "\n",
    "    tgt_mask = generate_square_subsequent_mask(tgt_seq_len)\n",
    "    src_mask = torch.zeros((src_seq_len, src_seq_len),device=DEVICE).type(torch.bool)\n",
    "\n",
    "    src_padding_mask = (src == PAD_IDX).transpose(0, 1)\n",
    "    tgt_padding_mask = (tgt == PAD_IDX).transpose(0, 1)\n",
    "    return src_mask, tgt_mask, src_padding_mask, tgt_padding_mask"
   ]
  },
  {
   "cell_type": "code",
   "execution_count": null,
   "id": "3fc97621-4f8c-481c-89e0-3681bdfc76a9",
   "metadata": {
    "tags": []
   },
   "outputs": [],
   "source": []
  },
  {
   "cell_type": "code",
   "execution_count": 8,
   "id": "515cc34d-bd88-466c-8a7d-d9402899fee9",
   "metadata": {
    "tags": []
   },
   "outputs": [],
   "source": [
    "from torch.utils.data import DataLoader\n",
    "from tqdm import tqdm\n",
    "import time\n",
    "from torch.nn.utils.rnn import pad_sequence\n",
    "\n",
    "\n",
    "def create_data_loader(iter_data, BATCH_SIZE, SRC_LANGUAGE, TGT_LANGUAGE, text_transform):\n",
    "    def collate_fn(batch):\n",
    "        src_batch, tgt_batch = [], []\n",
    "        for src_sample, tgt_sample in batch:\n",
    "            src_batch.append(text_transform[SRC_LANGUAGE](src_sample.rstrip(\"\\n\")))\n",
    "            tgt_batch.append(text_transform[TGT_LANGUAGE](tgt_sample.rstrip(\"\\n\")))\n",
    "\n",
    "        src_batch = pad_sequence(src_batch, padding_value=PAD_IDX)\n",
    "        tgt_batch = pad_sequence(tgt_batch, padding_value=PAD_IDX)\n",
    "        return src_batch, tgt_batch\n",
    "    \n",
    "    return DataLoader(iter_data, batch_size=BATCH_SIZE, collate_fn=collate_fn)\n",
    "    \n",
    "\n",
    "def train_epoch(model, optimizer, BATCH_SIZE, SRC_LANGUAGE, TGT_LANGUAGE, text_transform):\n",
    "    model.train()\n",
    "    losses = 0\n",
    "    train_iter = Multi30k(split='train', language_pair=(SRC_LANGUAGE, TGT_LANGUAGE))\n",
    "    # train_dataloader = DataLoader(train_iter, batch_size=BATCH_SIZE, collate_fn=collate_fn)\n",
    "    train_dataloader = create_data_loader(train_iter, BATCH_SIZE, SRC_LANGUAGE, TGT_LANGUAGE, text_transform)\n",
    "    \n",
    "    for src, tgt in tqdm(train_dataloader, desc=\"Processing items\"): #train_dataloader:\n",
    "        src = src.to(DEVICE)\n",
    "        tgt = tgt.to(DEVICE)\n",
    "\n",
    "        tgt_input = tgt[:-1, :]\n",
    "\n",
    "        src_mask, tgt_mask, src_padding_mask, tgt_padding_mask = create_mask(src, tgt_input)\n",
    "\n",
    "        logits = model(src, tgt_input, src_mask, tgt_mask,src_padding_mask, tgt_padding_mask, src_padding_mask)\n",
    "\n",
    "        optimizer.zero_grad()\n",
    "\n",
    "        tgt_out = tgt[1:, :]\n",
    "        loss = loss_fn(logits.reshape(-1, logits.shape[-1]), tgt_out.reshape(-1))\n",
    "        loss.backward()\n",
    "\n",
    "        optimizer.step()\n",
    "        losses += loss.item()\n",
    "\n",
    "    return losses / len(list(train_dataloader))\n",
    "\n",
    "\n",
    "\n",
    "def evaluate(model, BATCH_SIZE, SRC_LANGUAGE, TGT_LANGUAGE, text_transform):\n",
    "    model.eval()\n",
    "    losses = 0\n",
    "\n",
    "    val_iter = Multi30k(split='valid', language_pair=(SRC_LANGUAGE, TGT_LANGUAGE))\n",
    "    # val_dataloader = DataLoader(val_iter, batch_size=BATCH_SIZE, collate_fn=collate_fn)\n",
    "    val_dataloader = create_data_loader(val_iter, BATCH_SIZE, SRC_LANGUAGE, TGT_LANGUAGE, text_transform)\n",
    "\n",
    "    for src, tgt in val_dataloader:\n",
    "        src = src.to(DEVICE)\n",
    "        tgt = tgt.to(DEVICE)\n",
    "\n",
    "        tgt_input = tgt[:-1, :]\n",
    "\n",
    "        src_mask, tgt_mask, src_padding_mask, tgt_padding_mask = create_mask(src, tgt_input)\n",
    "\n",
    "        logits = model(src, tgt_input, src_mask, tgt_mask,src_padding_mask, tgt_padding_mask, src_padding_mask)\n",
    "\n",
    "        tgt_out = tgt[1:, :]\n",
    "        loss = loss_fn(logits.reshape(-1, logits.shape[-1]), tgt_out.reshape(-1))\n",
    "        losses += loss.item()\n",
    "\n",
    "    return losses / len(list(val_dataloader))"
   ]
  },
  {
   "cell_type": "code",
   "execution_count": 9,
   "id": "3e78884e-cc9e-4690-b45f-fd12e469cbc7",
   "metadata": {
    "tags": []
   },
   "outputs": [],
   "source": [
    "# function to generate output sequence using greedy algorithm\n",
    "def greedy_decode(model, src, src_mask, max_len, start_symbol):\n",
    "    src = src.to(DEVICE)\n",
    "    src_mask = src_mask.to(DEVICE)\n",
    "\n",
    "    memory = model.encode(src, src_mask)\n",
    "    ys = torch.ones(1, 1).fill_(start_symbol).type(torch.long).to(DEVICE)\n",
    "    for i in range(max_len-1):\n",
    "        memory = memory.to(DEVICE)\n",
    "        tgt_mask = (generate_square_subsequent_mask(ys.size(0))\n",
    "                    .type(torch.bool)).to(DEVICE)\n",
    "        out = model.decode(ys, memory, tgt_mask)\n",
    "        out = out.transpose(0, 1)\n",
    "        prob = model.generator(out[:, -1])\n",
    "        _, next_word = torch.max(prob, dim=1)\n",
    "        next_word = next_word.item()\n",
    "\n",
    "        ys = torch.cat([ys,\n",
    "                        torch.ones(1, 1).type_as(src.data).fill_(next_word)], dim=0)\n",
    "        if next_word == EOS_IDX:\n",
    "            break\n",
    "    return ys\n",
    "\n",
    "\n",
    "# actual function to translate input sentence into target language\n",
    "def translate(model: torch.nn.Module, src_sentence: str, SRC_LANGUAGE: str, TGT_LANGUAGE: str, text_transform, vocab_transform):\n",
    "    model.eval()\n",
    "    src = text_transform[SRC_LANGUAGE](src_sentence).view(-1, 1)\n",
    "    num_tokens = src.shape[0]\n",
    "    src_mask = (torch.zeros(num_tokens, num_tokens)).type(torch.bool)\n",
    "    tgt_tokens = greedy_decode(\n",
    "        model,  src, src_mask, max_len=num_tokens + 5, start_symbol=BOS_IDX).flatten()\n",
    "    return \" \".join(vocab_transform[TGT_LANGUAGE].lookup_tokens(list(tgt_tokens.cpu().numpy()))).replace(\"<bos>\", \"\").replace(\"<eos>\", \"\")"
   ]
  },
  {
   "cell_type": "code",
   "execution_count": 10,
   "id": "5fd6bc66-5958-4fac-aad4-20b03cf86f2a",
   "metadata": {},
   "outputs": [
    {
     "name": "stderr",
     "output_type": "stream",
     "text": [
      "/Users/hims/anaconda3/envs/python310/lib/python3.10/site-packages/torch/nn/modules/transformer.py:286: UserWarning: enable_nested_tensor is True, but self.use_nested_tensor is False because encoder_layer.self_attn.batch_first was not True(use batch_first for better inference performance)\n",
      "  warnings.warn(f\"enable_nested_tensor is True, but self.use_nested_tensor is False because {why_not_sparsity_fast_path}\")\n",
      "Processing items: 0it [00:00, ?it/s]/Users/hims/anaconda3/envs/python310/lib/python3.10/site-packages/torch/nn/functional.py:5109: UserWarning: Support for mismatched key_padding_mask and attn_mask is deprecated. Use same type for both instead.\n",
      "  warnings.warn(\n",
      "Processing items: 227it [04:03,  1.07s/it]\n",
      "/Users/hims/anaconda3/envs/python310/lib/python3.10/site-packages/torch/utils/data/datapipes/iter/combining.py:337: UserWarning: Some child DataPipes are not exhausted when __iter__ is called. We are resetting the buffer and each child DataPipe will read from the start again.\n",
      "  warnings.warn(\"Some child DataPipes are not exhausted when __iter__ is called. We are resetting \"\n"
     ]
    },
    {
     "name": "stdout",
     "output_type": "stream",
     "text": [
      "Epoch: 1, Train loss: 5.342, Val loss: 4.110, Epoch time = 244.624s\n"
     ]
    },
    {
     "name": "stderr",
     "output_type": "stream",
     "text": [
      "Processing items: 227it [04:10,  1.10s/it]\n"
     ]
    },
    {
     "name": "stdout",
     "output_type": "stream",
     "text": [
      "Epoch: 2, Train loss: 3.761, Val loss: 3.309, Epoch time = 251.839s\n"
     ]
    },
    {
     "name": "stderr",
     "output_type": "stream",
     "text": [
      "Processing items: 227it [04:20,  1.15s/it]\n"
     ]
    },
    {
     "name": "stdout",
     "output_type": "stream",
     "text": [
      "Epoch: 3, Train loss: 3.156, Val loss: 2.891, Epoch time = 261.869s\n"
     ]
    },
    {
     "name": "stderr",
     "output_type": "stream",
     "text": [
      "Processing items: 227it [04:19,  1.14s/it]\n"
     ]
    },
    {
     "name": "stdout",
     "output_type": "stream",
     "text": [
      "Epoch: 4, Train loss: 2.765, Val loss: 2.634, Epoch time = 260.934s\n"
     ]
    },
    {
     "name": "stderr",
     "output_type": "stream",
     "text": [
      "Processing items: 227it [04:28,  1.18s/it]\n"
     ]
    },
    {
     "name": "stdout",
     "output_type": "stream",
     "text": [
      "Epoch: 5, Train loss: 2.478, Val loss: 2.437, Epoch time = 270.521s\n"
     ]
    },
    {
     "name": "stderr",
     "output_type": "stream",
     "text": [
      "Processing items: 227it [04:27,  1.18s/it]\n"
     ]
    },
    {
     "name": "stdout",
     "output_type": "stream",
     "text": [
      "Epoch: 6, Train loss: 2.249, Val loss: 2.301, Epoch time = 269.297s\n"
     ]
    },
    {
     "name": "stderr",
     "output_type": "stream",
     "text": [
      "Processing items: 227it [04:27,  1.18s/it]\n"
     ]
    },
    {
     "name": "stdout",
     "output_type": "stream",
     "text": [
      "Epoch: 7, Train loss: 2.056, Val loss: 2.188, Epoch time = 268.787s\n"
     ]
    },
    {
     "name": "stderr",
     "output_type": "stream",
     "text": [
      "Processing items: 227it [04:27,  1.18s/it]\n"
     ]
    },
    {
     "name": "stdout",
     "output_type": "stream",
     "text": [
      "Epoch: 8, Train loss: 1.892, Val loss: 2.123, Epoch time = 268.883s\n"
     ]
    },
    {
     "name": "stderr",
     "output_type": "stream",
     "text": [
      "Processing items: 227it [04:27,  1.18s/it]\n"
     ]
    },
    {
     "name": "stdout",
     "output_type": "stream",
     "text": [
      "Epoch: 9, Train loss: 1.754, Val loss: 2.054, Epoch time = 269.043s\n"
     ]
    },
    {
     "name": "stderr",
     "output_type": "stream",
     "text": [
      "Processing items: 227it [04:26,  1.18s/it]\n"
     ]
    },
    {
     "name": "stdout",
     "output_type": "stream",
     "text": [
      "Epoch: 10, Train loss: 1.626, Val loss: 2.004, Epoch time = 268.470s\n"
     ]
    },
    {
     "name": "stderr",
     "output_type": "stream",
     "text": [
      "Processing items: 227it [04:26,  1.17s/it]\n"
     ]
    },
    {
     "name": "stdout",
     "output_type": "stream",
     "text": [
      "Epoch: 11, Train loss: 1.517, Val loss: 1.976, Epoch time = 267.810s\n"
     ]
    },
    {
     "name": "stderr",
     "output_type": "stream",
     "text": [
      "Processing items: 227it [04:27,  1.18s/it]\n"
     ]
    },
    {
     "name": "stdout",
     "output_type": "stream",
     "text": [
      "Epoch: 12, Train loss: 1.416, Val loss: 1.954, Epoch time = 269.137s\n"
     ]
    },
    {
     "name": "stderr",
     "output_type": "stream",
     "text": [
      "Processing items: 227it [04:26,  1.18s/it]\n"
     ]
    },
    {
     "name": "stdout",
     "output_type": "stream",
     "text": [
      "Epoch: 13, Train loss: 1.331, Val loss: 1.962, Epoch time = 268.561s\n"
     ]
    },
    {
     "name": "stderr",
     "output_type": "stream",
     "text": [
      "Processing items: 227it [04:26,  1.18s/it]\n"
     ]
    },
    {
     "name": "stdout",
     "output_type": "stream",
     "text": [
      "Epoch: 14, Train loss: 1.250, Val loss: 1.964, Epoch time = 268.720s\n"
     ]
    },
    {
     "name": "stderr",
     "output_type": "stream",
     "text": [
      "Processing items: 227it [04:27,  1.18s/it]\n"
     ]
    },
    {
     "name": "stdout",
     "output_type": "stream",
     "text": [
      "Epoch: 15, Train loss: 1.172, Val loss: 1.919, Epoch time = 268.991s\n"
     ]
    }
   ],
   "source": [
    "SRC_LANGUAGE_de_to_en = 'de'\n",
    "TGT_LANGUAGE_de_to_en = 'en'\n",
    "\n",
    "token_transform_de_to_en, vocab_transform_de_to_en, text_transform_de_to_en = prepare_data(SRC_LANGUAGE_de_to_en, TGT_LANGUAGE_de_to_en)\n",
    "\n",
    "torch.manual_seed(0)\n",
    "\n",
    "SRC_VOCAB_SIZE_de_to_en = len(vocab_transform_de_to_en[SRC_LANGUAGE_de_to_en])\n",
    "TGT_VOCAB_SIZE_de_to_en = len(vocab_transform_de_to_en[TGT_LANGUAGE_de_to_en])\n",
    "\n",
    "EMB_SIZE = 512\n",
    "NHEAD = 8\n",
    "FFN_HID_DIM = 512\n",
    "BATCH_SIZE = 128\n",
    "NUM_ENCODER_LAYERS = 3\n",
    "NUM_DECODER_LAYERS = 3\n",
    "\n",
    "transformer_de_to_en = Seq2SeqTransformer(NUM_ENCODER_LAYERS, NUM_DECODER_LAYERS, EMB_SIZE,\n",
    "                                          NHEAD, SRC_VOCAB_SIZE_de_to_en, TGT_VOCAB_SIZE_de_to_en,\n",
    "                                          FFN_HID_DIM)\n",
    "\n",
    "for p in transformer_de_to_en.parameters():\n",
    "    if p.dim() > 1:\n",
    "        nn.init.xavier_uniform_(p)\n",
    "\n",
    "transformer_de_to_en = transformer_de_to_en.to(DEVICE)\n",
    "\n",
    "loss_fn = torch.nn.CrossEntropyLoss(ignore_index=PAD_IDX)\n",
    "\n",
    "optimizer_de_to_en = torch.optim.Adam(transformer_de_to_en.parameters(), lr=0.0001, betas=(0.9, 0.98), eps=1e-9)\n",
    "\n",
    "\n",
    "from timeit import default_timer as timer\n",
    "NUM_EPOCHS = 15\n",
    "\n",
    "training_losses_de_to_en, val_losses_de_to_en = [], []\n",
    "for epoch in range(1, NUM_EPOCHS+1):\n",
    "    start_time = timer()\n",
    "    train_loss = train_epoch(transformer_de_to_en, optimizer_de_to_en, BATCH_SIZE, \n",
    "                             SRC_LANGUAGE_de_to_en, TGT_LANGUAGE_de_to_en, text_transform_de_to_en)\n",
    "    end_time = timer()\n",
    "    val_loss = evaluate(transformer_de_to_en,  BATCH_SIZE, SRC_LANGUAGE_de_to_en, TGT_LANGUAGE_de_to_en, text_transform_de_to_en)\n",
    "    print((f\"Epoch: {epoch}, Train loss: {train_loss:.3f}, Val loss: {val_loss:.3f}, \"f\"Epoch time = {(end_time - start_time):.3f}s\"))\n",
    "    \n",
    "    training_losses_de_to_en.append(train_loss)\n",
    "    val_losses_de_to_en.append(val_loss)"
   ]
  },
  {
   "cell_type": "code",
   "execution_count": 20,
   "id": "c35611e4-8e34-4ca5-afa6-c26a09def95c",
   "metadata": {
    "tags": []
   },
   "outputs": [
    {
     "data": {
      "image/png": "[encoded data removed]",
      "text/plain": [
       "<Figure size 1200x600 with 2 Axes>"
      ]
     },
     "metadata": {},
     "output_type": "display_data"
    }
   ],
   "source": [
    "import matplotlib.pyplot as plt\n",
    "import numpy as np\n",
    "\n",
    "\n",
    "def plot_training_stats(train_losses, val_losses):\n",
    "    epochs = np.arange(1, len(train_losses) + 1)  \n",
    "\n",
    "    fig, axs = plt.subplots(1, 2, figsize=(12, 6))\n",
    "\n",
    "    # Plot training losses\n",
    "    axs[0].plot(epochs, train_losses, label='Training Loss')\n",
    "    axs[0].set_title('Training Loss')\n",
    "    axs[0].set_xlabel('Epoch')\n",
    "    axs[0].set_ylabel('Loss')\n",
    "    axs[0].legend()\n",
    "    axs[0].grid(True)  \n",
    "\n",
    "    # Plot validation losses\n",
    "    axs[1].plot(epochs, val_losses, label='Validation Loss')\n",
    "    axs[1].set_title('Validation Loss')\n",
    "    axs[1].set_xlabel('Epoch')\n",
    "    axs[1].set_ylabel('Loss')\n",
    "    axs[1].legend()\n",
    "    axs[1].grid(True)  \n",
    "\n",
    "    plt.tight_layout()\n",
    "    plt.show()\n",
    "\n",
    "\n",
    "plot_training_stats(training_losses_de_to_en, val_losses_de_to_en)\n"
   ]
  },
  {
   "cell_type": "code",
   "execution_count": 26,
   "id": "d345d8c3-321c-4277-80ab-4de11cb82180",
   "metadata": {
    "tags": []
   },
   "outputs": [
    {
     "name": "stdout",
     "output_type": "stream",
     "text": [
      " A group of people stand in front of a crowd . \n"
     ]
    }
   ],
   "source": [
    "def to_english(sentence):\n",
    "    return translate(transformer_de_to_en, \n",
    "                sentence,  \n",
    "                SRC_LANGUAGE_de_to_en, TGT_LANGUAGE_de_to_en, \n",
    "                text_transform_de_to_en, vocab_transform_de_to_en)\n",
    "\n",
    "\n",
    "print(to_english(\"Eine Gruppe von Personen steht vor einer Menschenmenge .\"))"
   ]
  },
  {
   "cell_type": "markdown",
   "id": "4dc39d37-9a78-4ca4-a103-e4435958a3b5",
   "metadata": {},
   "source": [
    "# Step2. Train a New model of the same architecture on the opposite training set (English-to-German)"
   ]
  },
  {
   "cell_type": "code",
   "execution_count": 13,
   "id": "7516b8ce-d34a-425b-a7d7-2bca1c3a0985",
   "metadata": {
    "tags": []
   },
   "outputs": [
    {
     "name": "stderr",
     "output_type": "stream",
     "text": [
      "/Users/hims/anaconda3/envs/python310/lib/python3.10/site-packages/torch/nn/modules/transformer.py:286: UserWarning: enable_nested_tensor is True, but self.use_nested_tensor is False because encoder_layer.self_attn.batch_first was not True(use batch_first for better inference performance)\n",
      "  warnings.warn(f\"enable_nested_tensor is True, but self.use_nested_tensor is False because {why_not_sparsity_fast_path}\")\n",
      "Processing items: 227it [04:56,  1.31s/it]\n"
     ]
    },
    {
     "name": "stdout",
     "output_type": "stream",
     "text": [
      "Epoch: 1, Train loss: 5.899, Val loss: 4.641, Epoch time = 298.697s\n"
     ]
    },
    {
     "name": "stderr",
     "output_type": "stream",
     "text": [
      "Processing items: 227it [04:54,  1.30s/it]\n"
     ]
    },
    {
     "name": "stdout",
     "output_type": "stream",
     "text": [
      "Epoch: 2, Train loss: 4.126, Val loss: 3.768, Epoch time = 296.532s\n"
     ]
    },
    {
     "name": "stderr",
     "output_type": "stream",
     "text": [
      "Processing items: 227it [04:52,  1.29s/it]\n"
     ]
    },
    {
     "name": "stdout",
     "output_type": "stream",
     "text": [
      "Epoch: 3, Train loss: 3.460, Val loss: 3.313, Epoch time = 294.430s\n"
     ]
    },
    {
     "name": "stderr",
     "output_type": "stream",
     "text": [
      "Processing items: 227it [04:52,  1.29s/it]\n"
     ]
    },
    {
     "name": "stdout",
     "output_type": "stream",
     "text": [
      "Epoch: 4, Train loss: 3.023, Val loss: 3.007, Epoch time = 294.016s\n"
     ]
    },
    {
     "name": "stderr",
     "output_type": "stream",
     "text": [
      "Processing items: 227it [04:51,  1.28s/it]\n"
     ]
    },
    {
     "name": "stdout",
     "output_type": "stream",
     "text": [
      "Epoch: 5, Train loss: 2.700, Val loss: 2.808, Epoch time = 293.193s\n"
     ]
    },
    {
     "name": "stderr",
     "output_type": "stream",
     "text": [
      "Processing items: 227it [04:53,  1.29s/it]\n"
     ]
    },
    {
     "name": "stdout",
     "output_type": "stream",
     "text": [
      "Epoch: 6, Train loss: 2.442, Val loss: 2.649, Epoch time = 295.185s\n"
     ]
    },
    {
     "name": "stderr",
     "output_type": "stream",
     "text": [
      "Processing items: 227it [04:51,  1.28s/it]\n"
     ]
    },
    {
     "name": "stdout",
     "output_type": "stream",
     "text": [
      "Epoch: 7, Train loss: 2.228, Val loss: 2.497, Epoch time = 293.426s\n"
     ]
    },
    {
     "name": "stderr",
     "output_type": "stream",
     "text": [
      "Processing items: 227it [04:51,  1.29s/it]\n"
     ]
    },
    {
     "name": "stdout",
     "output_type": "stream",
     "text": [
      "Epoch: 8, Train loss: 2.057, Val loss: 2.375, Epoch time = 293.648s\n"
     ]
    },
    {
     "name": "stderr",
     "output_type": "stream",
     "text": [
      "Processing items: 227it [04:51,  1.28s/it]\n"
     ]
    },
    {
     "name": "stdout",
     "output_type": "stream",
     "text": [
      "Epoch: 9, Train loss: 1.906, Val loss: 2.291, Epoch time = 293.108s\n"
     ]
    },
    {
     "name": "stderr",
     "output_type": "stream",
     "text": [
      "Processing items: 227it [04:52,  1.29s/it]\n"
     ]
    },
    {
     "name": "stdout",
     "output_type": "stream",
     "text": [
      "Epoch: 10, Train loss: 1.772, Val loss: 2.233, Epoch time = 294.609s\n"
     ]
    },
    {
     "name": "stderr",
     "output_type": "stream",
     "text": [
      "Processing items: 227it [04:52,  1.29s/it]\n"
     ]
    },
    {
     "name": "stdout",
     "output_type": "stream",
     "text": [
      "Epoch: 11, Train loss: 1.653, Val loss: 2.196, Epoch time = 293.929s\n"
     ]
    },
    {
     "name": "stderr",
     "output_type": "stream",
     "text": [
      "Processing items: 227it [04:51,  1.29s/it]\n"
     ]
    },
    {
     "name": "stdout",
     "output_type": "stream",
     "text": [
      "Epoch: 12, Train loss: 1.546, Val loss: 2.167, Epoch time = 293.673s\n"
     ]
    },
    {
     "name": "stderr",
     "output_type": "stream",
     "text": [
      "Processing items: 227it [04:53,  1.29s/it]\n"
     ]
    },
    {
     "name": "stdout",
     "output_type": "stream",
     "text": [
      "Epoch: 13, Train loss: 1.450, Val loss: 2.152, Epoch time = 295.273s\n"
     ]
    },
    {
     "name": "stderr",
     "output_type": "stream",
     "text": [
      "Processing items: 227it [04:51,  1.28s/it]\n"
     ]
    },
    {
     "name": "stdout",
     "output_type": "stream",
     "text": [
      "Epoch: 14, Train loss: 1.364, Val loss: 2.110, Epoch time = 292.734s\n"
     ]
    },
    {
     "name": "stderr",
     "output_type": "stream",
     "text": [
      "Processing items: 227it [04:52,  1.29s/it]\n"
     ]
    },
    {
     "name": "stdout",
     "output_type": "stream",
     "text": [
      "Epoch: 15, Train loss: 1.285, Val loss: 2.078, Epoch time = 293.911s\n"
     ]
    }
   ],
   "source": [
    "SRC_LANGUAGE_en_to_de = 'en' \n",
    "TGT_LANGUAGE_en_to_de = 'de' \n",
    "\n",
    "token_transform_en_to_de, vocab_transform_en_to_de, text_transform_en_to_de = prepare_data(SRC_LANGUAGE_en_to_de, TGT_LANGUAGE_en_to_de)\n",
    "\n",
    "torch.manual_seed(0)\n",
    "\n",
    "SRC_VOCAB_SIZE_en_to_de = len(vocab_transform_en_to_de[SRC_LANGUAGE_en_to_de])\n",
    "TGT_VOCAB_SIZE_en_to_de = len(vocab_transform_en_to_de[TGT_LANGUAGE_en_to_de])\n",
    "EMB_SIZE = 512\n",
    "NHEAD = 8\n",
    "FFN_HID_DIM = 512\n",
    "BATCH_SIZE = 128\n",
    "NUM_ENCODER_LAYERS = 3\n",
    "NUM_DECODER_LAYERS = 3\n",
    "\n",
    "transformer_en_to_de = Seq2SeqTransformer(NUM_ENCODER_LAYERS, NUM_DECODER_LAYERS, EMB_SIZE,\n",
    "                                          NHEAD, SRC_VOCAB_SIZE_en_to_de, TGT_VOCAB_SIZE_en_to_de, \n",
    "                                          FFN_HID_DIM)\n",
    "\n",
    "for p in transformer_en_to_de.parameters():\n",
    "    if p.dim() > 1:\n",
    "        nn.init.xavier_uniform_(p)\n",
    "\n",
    "transformer_en_to_de = transformer_en_to_de.to(DEVICE)\n",
    "\n",
    "loss_fn = torch.nn.CrossEntropyLoss(ignore_index=PAD_IDX)\n",
    "\n",
    "optimizer_en_to_de = torch.optim.Adam(transformer_en_to_de.parameters(), lr=0.0001, betas=(0.9, 0.98), eps=1e-9)\n",
    "\n",
    "\n",
    "NUM_EPOCHS = 15\n",
    "\n",
    "training_losses_en_to_de, val_losses_en_to_de = [], []\n",
    "\n",
    "for epoch in range(1, NUM_EPOCHS+1):\n",
    "    start_time = timer()\n",
    "    train_loss = train_epoch(transformer_en_to_de, optimizer_en_to_de, BATCH_SIZE, \n",
    "                             SRC_LANGUAGE_en_to_de, TGT_LANGUAGE_en_to_de, text_transform_en_to_de)\n",
    "    end_time = timer()\n",
    "    val_loss = evaluate(transformer_en_to_de,  BATCH_SIZE, SRC_LANGUAGE_en_to_de, TGT_LANGUAGE_en_to_de, text_transform_de_to_en)\n",
    "    print((f\"Epoch: {epoch}, Train loss: {train_loss:.3f}, Val loss: {val_loss:.3f}, \"f\"Epoch time = {(end_time - start_time):.3f}s\"))\n",
    "    \n",
    "    training_losses_en_to_de.append(train_loss)\n",
    "    val_losses_en_to_de.append(val_loss)"
   ]
  },
  {
   "cell_type": "code",
   "execution_count": 21,
   "id": "698e8aa9-a1e1-458e-86f2-e4f8b794a367",
   "metadata": {},
   "outputs": [
    {
     "data": {
      "image/png": "[encoded data removed]",
      "text/plain": [
       "<Figure size 1200x600 with 2 Axes>"
      ]
     },
     "metadata": {},
     "output_type": "display_data"
    }
   ],
   "source": [
    "plot_training_stats(training_losses_en_to_de, val_losses_en_to_de)"
   ]
  },
  {
   "cell_type": "code",
   "execution_count": 25,
   "id": "d9cf2d84-199d-4142-8f04-2d883cfbe387",
   "metadata": {},
   "outputs": [
    {
     "name": "stdout",
     "output_type": "stream",
     "text": [
      " Eine Gruppe von Personen steht vor einer Menschenmenge . \n"
     ]
    }
   ],
   "source": [
    "def to_german(sentence):\n",
    "    return translate(transformer_en_to_de, \n",
    "                sentence,  \n",
    "                SRC_LANGUAGE_en_to_de, TGT_LANGUAGE_en_to_de, \n",
    "                text_transform_en_to_de, vocab_transform_en_to_de)\n",
    "\n",
    "\n",
    "print(to_german(\"A group of people are standing in front of a crowd .\"))"
   ]
  },
  {
   "cell_type": "markdown",
   "id": "55d3ac9d-2c27-4dfd-9eeb-2a208c06489a",
   "metadata": {},
   "source": [
    "# Step3. Insert novel sentences into your English-to-German model. Take the output and feed it to the original German-to-English model. Observe and report qualitatively on the results"
   ]
  },
  {
   "cell_type": "code",
   "execution_count": 34,
   "id": "fd6e62b9-99ee-4cc1-aa89-8d0c0a9e929b",
   "metadata": {},
   "outputs": [
    {
     "name": "stdout",
     "output_type": "stream",
     "text": [
      "Orginal sentence = 'I am going to school in a green car.'\n",
      "\t Translated to  german = ' Ich Ich darauf in einem grünen Auto . ' \n",
      "\t Translated to english = ' I I I I be on a green car . ' \n",
      "\n",
      "Orginal sentence = 'This runner is competing to each other in the house .'\n",
      "\t Translated to  german = ' Ein Läufer schlägt sich im Haus gegeneinander an . ' \n",
      "\t Translated to english = ' A runner hits a match in the house . ' \n",
      "\n",
      "Orginal sentence = 'The tall boy with blue shirt is smiling.'\n",
      "\t Translated to  german = ' Ein großer Junge in einem blauen Oberteil lächelt . ' \n",
      "\t Translated to english = ' A large boy in a blue shirt smiles . ' \n",
      "\n"
     ]
    }
   ],
   "source": [
    "sentences = [\"I am going to school in a green car.\",\n",
    "             \"This runner is competing to each other in the house .\",\n",
    "             \"The tall boy with blue shirt is smiling.\"]    \n",
    "\n",
    "for sentence in sentences:\n",
    "    print(f\"Orginal {sentence = }\")\n",
    "    german = to_german(sentence)\n",
    "    english = to_english(german)\n",
    "    \n",
    "    print(f\"\\t Translated to  {german = } \")\n",
    "    print(f\"\\t Translated to {english = } \\n\")"
   ]
  },
  {
   "cell_type": "code",
   "execution_count": null,
   "id": "59fab027-0c27-410a-8cca-1736096f6532",
   "metadata": {},
   "outputs": [],
   "source": []
  }
 ],
 "metadata": {
  "kernelspec": {
   "display_name": "Python 3 (ipykernel)",
   "language": "python",
   "name": "python3"
  },
  "language_info": {
   "codemirror_mode": {
    "name": "ipython",
    "version": 3
   },
   "file_extension": ".py",
   "mimetype": "text/x-python",
   "name": "python",
   "nbconvert_exporter": "python",
   "pygments_lexer": "ipython3",
   "version": "3.10.13"
  }
 },
 "nbformat": 4,
 "nbformat_minor": 5
}
