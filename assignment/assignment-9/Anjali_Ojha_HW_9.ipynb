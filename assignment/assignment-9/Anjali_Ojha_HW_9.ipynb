{
 "cells": [
  {
   "cell_type": "markdown",
   "id": "9ee705c2-aa74-4c27-9cc0-0a97f81abd52",
   "metadata": {},
   "source": [
    "GitHub Link - "
   ]
  },
  {
   "cell_type": "markdown",
   "id": "668dac59-f8eb-4bca-9baa-2eef1d55c69c",
   "metadata": {},
   "source": [
    "## Follow the official Pytorch demo tutorial for Transformer Translation: Transformer model for language understanding (https://www.tensorflow.org/text/tutorials/transformer)\n",
    "\n",
    "# Step1. Run the demo and train a model on the original German-to-English training set.\n",
    "# Step2. Train a New model of the same architecture on the opposite training set (English-to-German)\n",
    "# Step3. Insert novel sentences into your English-to-German model. Take the output and feed it to the original German-to-English model. Observe and report qualitatively on the results"
   ]
  },
  {
   "cell_type": "code",
   "execution_count": null,
   "id": "2708f917-42eb-492d-90be-23341818cb4c",
   "metadata": {},
   "outputs": [],
   "source": []
  }
 ],
 "metadata": {
  "kernelspec": {
   "display_name": "Python 3 (ipykernel)",
   "language": "python",
   "name": "python3"
  },
  "language_info": {
   "codemirror_mode": {
    "name": "ipython",
    "version": 3
   },
   "file_extension": ".py",
   "mimetype": "text/x-python",
   "name": "python",
   "nbconvert_exporter": "python",
   "pygments_lexer": "ipython3",
   "version": "3.10.13"
  }
 },
 "nbformat": 4,
 "nbformat_minor": 5
}
