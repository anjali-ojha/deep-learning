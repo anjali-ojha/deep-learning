{
 "cells": [
  {
   "cell_type": "markdown",
   "id": "c5e5e388",
   "metadata": {},
   "source": [
    "# 1) Load the Monet_to_Photo Dataset using Pytorch. monet_to_photo (https://drive.google.com/drive/folders/1KkSYKqdmO1GE6gSP38UCsOrYZ7QUGj-x?usp=drive_link)\n",
    "\n",
    "# 2) Create and train Cycle GAN on this dataset.\n",
    "# 3) Show your results( Few converted images).\n",
    "# 4) load your favorite image (or your picture) apply Cyclegan and upload it with the report."
   ]
  },
  {
   "cell_type": "code",
   "execution_count": 2,
   "id": "b1caad47",
   "metadata": {},
   "outputs": [],
   "source": [
    "!pip install torch_snippets torch_summary --quiet"
   ]
  },
  {
   "cell_type": "code",
   "execution_count": 3,
   "id": "aba43381",
   "metadata": {},
   "outputs": [],
   "source": [
    "import itertools\n",
    "from PIL import Image\n",
    "from torch_snippets import *\n",
    "from torchvision import transforms\n",
    "from torchvision.utils import make_grid\n",
    "from torchsummary import summary"
   ]
  },
  {
   "cell_type": "code",
   "execution_count": null,
   "id": "d3d15f20",
   "metadata": {},
   "outputs": [],
   "source": [
    "img = Image.open('testA/n02381460_1000.jpg')\n",
    "img.size"
   ]
  }
 ],
 "metadata": {
  "kernelspec": {
   "display_name": "Python 3 (ipykernel)",
   "language": "python",
   "name": "python3"
  },
  "language_info": {
   "codemirror_mode": {
    "name": "ipython",
    "version": 3
   },
   "file_extension": ".py",
   "mimetype": "text/x-python",
   "name": "python",
   "nbconvert_exporter": "python",
   "pygments_lexer": "ipython3",
   "version": "3.10.13"
  },
  "varInspector": {
   "cols": {
    "lenName": 16,
    "lenType": 16,
    "lenVar": 40
   },
   "kernels_config": {
    "python": {
     "delete_cmd_postfix": "",
     "delete_cmd_prefix": "del ",
     "library": "var_list.py",
     "varRefreshCmd": "print(var_dic_list())"
    },
    "r": {
     "delete_cmd_postfix": ") ",
     "delete_cmd_prefix": "rm(",
     "library": "var_list.r",
     "varRefreshCmd": "cat(var_dic_list()) "
    }
   },
   "types_to_exclude": [
    "module",
    "function",
    "builtin_function_or_method",
    "instance",
    "_Feature"
   ],
   "window_display": false
  }
 },
 "nbformat": 4,
 "nbformat_minor": 5
}
