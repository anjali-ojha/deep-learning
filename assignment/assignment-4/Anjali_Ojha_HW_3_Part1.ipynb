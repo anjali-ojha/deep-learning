{
 "cells": [
  {
   "cell_type": "markdown",
   "id": "b0fc7cca",
   "metadata": {},
   "source": [
    "# Assignment 04 - Transfer Learning and Bounding Boxes and YOLOV8"
   ]
  },
  {
   "cell_type": "markdown",
   "id": "b11ae28a",
   "metadata": {},
   "source": [
    "# Part1: Using available pre-trained models for object detection, conduct inference on a short video (5-10 seconds) of a street scene drawing bounding boxes around detected vehicles.\n",
    "\n",
    "## Step 1. Collect a source video. It may be necessary to divide the video into discrete image frames.\n",
    "## Step 2. Conduct inference on each frame of the video, drawing bounding boxes around detected vehicles.\n",
    "## Step 3. Format the results back into a video.\n",
    "Use either Pytorch or Tensorflow.\n",
    "Upload a .zip file containing your .ipynb notebook containing the code utilized and two video files: before\n",
    "inference (without bounding boxes) and after inference (with bounding boxes"
   ]
  },
  {
   "cell_type": "code",
   "execution_count": null,
   "id": "264a6c01",
   "metadata": {},
   "outputs": [],
   "source": []
  }
 ],
 "metadata": {
  "kernelspec": {
   "display_name": "Python 3 (ipykernel)",
   "language": "python",
   "name": "python3"
  },
  "language_info": {
   "codemirror_mode": {
    "name": "ipython",
    "version": 3
   },
   "file_extension": ".py",
   "mimetype": "text/x-python",
   "name": "python",
   "nbconvert_exporter": "python",
   "pygments_lexer": "ipython3",
   "version": "3.10.13"
  },
  "varInspector": {
   "cols": {
    "lenName": 16,
    "lenType": 16,
    "lenVar": 40
   },
   "kernels_config": {
    "python": {
     "delete_cmd_postfix": "",
     "delete_cmd_prefix": "del ",
     "library": "var_list.py",
     "varRefreshCmd": "print(var_dic_list())"
    },
    "r": {
     "delete_cmd_postfix": ") ",
     "delete_cmd_prefix": "rm(",
     "library": "var_list.r",
     "varRefreshCmd": "cat(var_dic_list()) "
    }
   },
   "types_to_exclude": [
    "module",
    "function",
    "builtin_function_or_method",
    "instance",
    "_Feature"
   ],
   "window_display": false
  }
 },
 "nbformat": 4,
 "nbformat_minor": 5
}
