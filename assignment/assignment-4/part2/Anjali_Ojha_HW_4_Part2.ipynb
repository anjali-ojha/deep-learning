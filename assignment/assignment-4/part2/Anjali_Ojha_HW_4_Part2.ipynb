{
 "cells": [
  {
   "cell_type": "markdown",
   "id": "1d60074d",
   "metadata": {},
   "source": [
    "# Assignment 04 - Transfer Learning and Bounding Boxes and YOLOV8\n",
    "\n",
    "# Part 2: Follow the steps in YOLOV8 and attach a screenshot of object detection\n",
    "\n",
    "## Mac: https://pysource.com/2023/03/28/object-detection-with-yolo-v8-on-mac-m1/ buttery fly dataset: use ~10 images from https://universe.roboflow.com/yolo-a6y21/squid-bat-butterfly\n",
    "\n",
    "## You can also try butterfly video and detect objects. (do not submit it)"
   ]
  },
  {
   "cell_type": "code",
   "execution_count": null,
   "id": "f99964f5",
   "metadata": {},
   "outputs": [],
   "source": []
  }
 ],
 "metadata": {
  "kernelspec": {
   "display_name": "Python 3 (ipykernel)",
   "language": "python",
   "name": "python3"
  },
  "language_info": {
   "codemirror_mode": {
    "name": "ipython",
    "version": 3
   },
   "file_extension": ".py",
   "mimetype": "text/x-python",
   "name": "python",
   "nbconvert_exporter": "python",
   "pygments_lexer": "ipython3",
   "version": "3.10.13"
  },
  "varInspector": {
   "cols": {
    "lenName": 16,
    "lenType": 16,
    "lenVar": 40
   },
   "kernels_config": {
    "python": {
     "delete_cmd_postfix": "",
     "delete_cmd_prefix": "del ",
     "library": "var_list.py",
     "varRefreshCmd": "print(var_dic_list())"
    },
    "r": {
     "delete_cmd_postfix": ") ",
     "delete_cmd_prefix": "rm(",
     "library": "var_list.r",
     "varRefreshCmd": "cat(var_dic_list()) "
    }
   },
   "types_to_exclude": [
    "module",
    "function",
    "builtin_function_or_method",
    "instance",
    "_Feature"
   ],
   "window_display": false
  }
 },
 "nbformat": 4,
 "nbformat_minor": 5
}
