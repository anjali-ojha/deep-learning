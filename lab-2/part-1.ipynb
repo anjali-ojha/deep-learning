{
 "cells": [
  {
   "cell_type": "markdown",
   "id": "365292ad-0601-4fd6-8bb3-9c230f59ccb5",
   "metadata": {},
   "source": [
    "# Part 1: How to Explore the GAN Latent Space When Generating Faces (25 pts)\n",
    "\n",
    "1. Implement SR-GAN on your own using PyTorch. (Ref: https://arxiv.org/abs/1609.04802)\n",
    "2. Use the ImageNet dataset to run a few epochs to train the model. You may use the script provided here to generate training data: Dataset (https://github.com/eriklindernoren/PyTorch-GAN/blob/master/implementations/srgan/datasets.py). However, there is some issue with this code, hence the drive link for the generated images is shared below. Please use this link to access the dataset for training SRGAN. (https://drive.google.com/drive/folders/13txSH8LU64amnvY0hkxMxMI6F6ssbErG?usp=sharing ) .\n",
    "\n",
    "Note: you should only use this repo for dataset code and reference. Model and results\n",
    "(20 pts) + report (5 pts)"
   ]
  },
  {
   "cell_type": "code",
   "execution_count": null,
   "id": "9409ffbe-bc39-47d1-8662-ec58f85de549",
   "metadata": {},
   "outputs": [],
   "source": []
  }
 ],
 "metadata": {
  "kernelspec": {
   "display_name": "Python 3 (ipykernel)",
   "language": "python",
   "name": "python3"
  },
  "language_info": {
   "codemirror_mode": {
    "name": "ipython",
    "version": 3
   },
   "file_extension": ".py",
   "mimetype": "text/x-python",
   "name": "python",
   "nbconvert_exporter": "python",
   "pygments_lexer": "ipython3",
   "version": "3.10.13"
  }
 },
 "nbformat": 4,
 "nbformat_minor": 5
}
