{
  "nbformat": 4,
  "nbformat_minor": 0,
  "metadata": {
    "colab": {
      "provenance": [],
      "authorship_tag": "ABX9TyM4FcKfaPCGG/veYrI5n9da",
      "include_colab_link": true
    },
    "kernelspec": {
      "name": "python3",
      "display_name": "Python 3"
    },
    "language_info": {
      "name": "python"
    }
  },
  "cells": [
    {
      "cell_type": "markdown",
      "metadata": {
        "id": "view-in-github",
        "colab_type": "text"
      },
      "source": [
        "<a href=\"https://colab.research.google.com/github/anjali-ojha/deep-learning/blob/main/Anjali_Ojha_HW_2.ipynb\" target=\"_parent\"><img src=\"https://colab.research.google.com/assets/colab-badge.svg\" alt=\"Open In Colab\"/></a>"
      ]
    },
    {
      "cell_type": "markdown",
      "source": [
        "# Homwwork-2\n",
        "\n",
        "## Use the code provided in demo 02 to complete this assignment.\n",
        "\n",
        "## Step 1. Follow along with the tutorial to gain an understanding of the process."
      ],
      "metadata": {
        "id": "i37RBRNDqi59"
      }
    },
    {
      "cell_type": "code",
      "execution_count": 3,
      "metadata": {
        "id": "MvVVdrrgVMRJ"
      },
      "outputs": [],
      "source": [
        "%matplotlib inline"
      ]
    },
    {
      "cell_type": "code",
      "source": [
        "import torch\n",
        "import torch.nn as nn\n",
        "import torch.optim as optim\n",
        "import torchvision\n",
        "import torchvision.transforms as transforms\n",
        "from torch.utils.data import DataLoader\n",
        "import matplotlib.pyplot as plt"
      ],
      "metadata": {
        "id": "tUeu4AhCVYI7"
      },
      "execution_count": 4,
      "outputs": []
    },
    {
      "cell_type": "markdown",
      "source": [
        "## Step 2. In a new .ipynb notebook, reproduce the results utilizing the \"QMNIST\" dataset"
      ],
      "metadata": {
        "id": "oWEU8TvyqtvN"
      }
    },
    {
      "cell_type": "code",
      "source": [
        "# Load Fashion MNIST dataset and preprocess\n",
        "transform = transforms.Compose([transforms.ToTensor(), transforms.Normalize((0.5,), (0.5,))])\n",
        "train_dataset = torchvision.datasets.QMNIST(root='./data', train=True, download=True, transform=transform)\n",
        "test_dataset = torchvision.datasets.QMNIST(root='./data', train=False, download=True, transform=transform)\n",
        "\n",
        "# Create data loaders\n",
        "train_loader = DataLoader(train_dataset, batch_size=64, shuffle=True)\n",
        "test_loader = DataLoader(test_dataset, batch_size=64, shuffle=False)"
      ],
      "metadata": {
        "colab": {
          "base_uri": "https://localhost:8080/"
        },
        "id": "zTHOCrqVtGYN",
        "outputId": "c53e70ce-6aae-449a-c9eb-691a183b3897"
      },
      "execution_count": 5,
      "outputs": [
        {
          "output_type": "stream",
          "name": "stdout",
          "text": [
            "Downloading https://raw.githubusercontent.com/facebookresearch/qmnist/master/qmnist-train-images-idx3-ubyte.gz to ./data/QMNIST/raw/qmnist-train-images-idx3-ubyte.gz\n"
          ]
        },
        {
          "output_type": "stream",
          "name": "stderr",
          "text": [
            "100%|██████████| 9704059/9704059 [00:00<00:00, 187502699.46it/s]"
          ]
        },
        {
          "output_type": "stream",
          "name": "stdout",
          "text": [
            "Extracting ./data/QMNIST/raw/qmnist-train-images-idx3-ubyte.gz to ./data/QMNIST/raw\n"
          ]
        },
        {
          "output_type": "stream",
          "name": "stderr",
          "text": [
            "\n"
          ]
        },
        {
          "output_type": "stream",
          "name": "stdout",
          "text": [
            "Downloading https://raw.githubusercontent.com/facebookresearch/qmnist/master/qmnist-train-labels-idx2-int.gz to ./data/QMNIST/raw/qmnist-train-labels-idx2-int.gz\n"
          ]
        },
        {
          "output_type": "stream",
          "name": "stderr",
          "text": [
            "100%|██████████| 463024/463024 [00:00<00:00, 27392744.62it/s]"
          ]
        },
        {
          "output_type": "stream",
          "name": "stdout",
          "text": [
            "Extracting ./data/QMNIST/raw/qmnist-train-labels-idx2-int.gz to ./data/QMNIST/raw\n"
          ]
        },
        {
          "output_type": "stream",
          "name": "stderr",
          "text": [
            "\n"
          ]
        },
        {
          "output_type": "stream",
          "name": "stdout",
          "text": [
            "Downloading https://raw.githubusercontent.com/facebookresearch/qmnist/master/qmnist-test-images-idx3-ubyte.gz to ./data/QMNIST/raw/qmnist-test-images-idx3-ubyte.gz\n"
          ]
        },
        {
          "output_type": "stream",
          "name": "stderr",
          "text": [
            "100%|██████████| 9742279/9742279 [00:00<00:00, 199685678.58it/s]"
          ]
        },
        {
          "output_type": "stream",
          "name": "stdout",
          "text": [
            "Extracting ./data/QMNIST/raw/qmnist-test-images-idx3-ubyte.gz to ./data/QMNIST/raw\n"
          ]
        },
        {
          "output_type": "stream",
          "name": "stderr",
          "text": [
            "\n"
          ]
        },
        {
          "output_type": "stream",
          "name": "stdout",
          "text": [
            "Downloading https://raw.githubusercontent.com/facebookresearch/qmnist/master/qmnist-test-labels-idx2-int.gz to ./data/QMNIST/raw/qmnist-test-labels-idx2-int.gz\n"
          ]
        },
        {
          "output_type": "stream",
          "name": "stderr",
          "text": [
            "100%|██████████| 526800/526800 [00:00<00:00, 29979232.15it/s]"
          ]
        },
        {
          "output_type": "stream",
          "name": "stdout",
          "text": [
            "Extracting ./data/QMNIST/raw/qmnist-test-labels-idx2-int.gz to ./data/QMNIST/raw\n"
          ]
        },
        {
          "output_type": "stream",
          "name": "stderr",
          "text": [
            "\n"
          ]
        }
      ]
    },
    {
      "cell_type": "code",
      "source": [
        "def show_data(data):\n",
        "    labels_map = {\n",
        "        0: \"Zero\",\n",
        "        1: \"One\",\n",
        "        2: \"Two\",\n",
        "        3: \"Three\",\n",
        "        4: \"Four\",\n",
        "        5: \"Five\",\n",
        "        6: \"Six\",\n",
        "        7: \"Seven\",\n",
        "        8: \"Eight\",\n",
        "        9: \"Nine\",\n",
        "    }\n",
        "    figure = plt.figure(figsize=(8, 8))\n",
        "    cols, rows = 3, 3\n",
        "    for i in range(1, cols * rows + 1):\n",
        "        sample_idx = torch.randint(len(data), size=(1,)).item()\n",
        "        img, label = data[sample_idx]\n",
        "        figure.add_subplot(rows, cols, i)\n",
        "        plt.title(labels_map[label])\n",
        "        plt.axis(\"off\")\n",
        "        plt.imshow(img.squeeze(), cmap=\"gray\")\n",
        "    plt.show()"
      ],
      "metadata": {
        "id": "Ds8M7vMTtJBP"
      },
      "execution_count": 9,
      "outputs": []
    },
    {
      "cell_type": "code",
      "source": [
        "show_data(train_dataset)"
      ],
      "metadata": {
        "colab": {
          "base_uri": "https://localhost:8080/",
          "height": 675
        },
        "id": "1FeroBKDtTBU",
        "outputId": "97c4f3c1-3329-4b9e-ce00-2001f92b0399"
      },
      "execution_count": 12,
      "outputs": [
        {
          "output_type": "display_data",
          "data": {
            "text/plain": [
              "<Figure size 800x800 with 9 Axes>"
            ],
            "image/png": "[encoded data removed]"
          },
          "metadata": {}
        }
      ]
    },
    {
      "cell_type": "code",
      "source": [
        "def training(num_epochs, model, criterion, optimizer):\n",
        "\n",
        "    # Train the neural network\n",
        "    for epoch in range(num_epochs):\n",
        "        model.train()\n",
        "        running_loss = 0.0\n",
        "        for i, data in enumerate(train_loader, 0):\n",
        "            inputs, labels = data\n",
        "            optimizer.zero_grad()\n",
        "            outputs = model(inputs)\n",
        "            loss = criterion(outputs, labels)\n",
        "            loss.backward()\n",
        "            optimizer.step()\n",
        "            running_loss += loss.item()\n",
        "            if i % 100 == 99:  # print every 100 mini-batches\n",
        "                print(f'Epoch {epoch + 1}, Batch {i + 1}, Loss: {running_loss / 100}')\n",
        "                running_loss = 0.0\n",
        "\n",
        "    print('Finished Training')\n",
        "    return model"
      ],
      "metadata": {
        "id": "GvCT50But9il"
      },
      "execution_count": 15,
      "outputs": []
    },
    {
      "cell_type": "code",
      "source": [
        "def evaluation(model, test_data):\n",
        "    # Evaluate the model\n",
        "    model.eval()\n",
        "    predictions = []\n",
        "    correct = 0\n",
        "    total = 0\n",
        "    with torch.no_grad():\n",
        "        for data in test_data:\n",
        "            images, labels = data\n",
        "            outputs = model(images)\n",
        "            _, predicted = torch.max(outputs.data, 1)\n",
        "            predictions.extend(predicted.numpy())  # Store predictions\n",
        "            total += labels.size(0)\n",
        "            correct += (predicted == labels).sum().item()\n",
        "\n",
        "    print(f'Accuracy on test set: {correct / total * 100}%')\n",
        "    return correct, total, predictions\n"
      ],
      "metadata": {
        "id": "Yobw5mlrt_s6"
      },
      "execution_count": 21,
      "outputs": []
    },
    {
      "cell_type": "code",
      "source": [
        "def show_sample_result(model, images, labels):\n",
        "    # Get one test image and its label\n",
        "    image, label = images[1], labels[1]\n",
        "\n",
        "    # Reshape the image tensor to a 28x28 shape\n",
        "    image = image.view(28, 28)\n",
        "\n",
        "    # Convert the image tensor to a numpy array for visualization\n",
        "    image_numpy = image.numpy()\n",
        "\n",
        "    # Show the image\n",
        "    plt.imshow(image_numpy, cmap='gray')\n",
        "    plt.title(f'Predicted Label: {predictions[1]}, Actual Label: {label.item()}')\n",
        "    plt.axis('off')\n",
        "    plt.show()\n"
      ],
      "metadata": {
        "id": "6Yu3RLjFue9L"
      },
      "execution_count": 17,
      "outputs": []
    },
    {
      "cell_type": "markdown",
      "source": [
        "## Step 3. Report on the results in terms of prediction accuracy on the train and test datasets"
      ],
      "metadata": {
        "id": "xotJ97xYq3RB"
      }
    },
    {
      "cell_type": "code",
      "source": [
        "# Initialize the neural network\n",
        "#Define the neural network architecture\n",
        "class MLP(nn.Module):\n",
        "    def __init__(self):\n",
        "        super(MLP, self).__init__()\n",
        "        self.fc1 = nn.Linear(28 * 28, 128)\n",
        "        self.fc2 = nn.Linear(128, 64)\n",
        "        self.fc3 = nn.Linear(64, 10)\n",
        "\n",
        "    def forward(self, x):\n",
        "        x = x.view(-1, 28 * 28)\n",
        "        x = torch.relu(self.fc1(x))\n",
        "        x = torch.relu(self.fc2(x))\n",
        "        x = self.fc3(x)\n",
        "        return x\n",
        "\n",
        "\n",
        "model = MLP()\n",
        "model = training(num_epochs=5,\n",
        "                 model=model,\n",
        "                 criterion = nn.CrossEntropyLoss(),\n",
        "                 optimizer = optim.Adam(model.parameters(), lr=0.001))\n",
        "correct, total, predictions = evaluation(model=model, test_data=test_loader)\n",
        "# show_sample_result(model=model, )"
      ],
      "metadata": {
        "colab": {
          "base_uri": "https://localhost:8080/"
        },
        "id": "P8-05hC2oRjF",
        "outputId": "7fc8a19f-96c5-423a-9639-2c3fc1866f2f"
      },
      "execution_count": 18,
      "outputs": [
        {
          "output_type": "stream",
          "name": "stdout",
          "text": [
            "Epoch 1, Batch 100, Loss: 1.0293946778774261\n",
            "Epoch 1, Batch 200, Loss: 0.422243584394455\n",
            "Epoch 1, Batch 300, Loss: 0.4053815460205078\n",
            "Epoch 1, Batch 400, Loss: 0.363138472288847\n",
            "Epoch 1, Batch 500, Loss: 0.31186510786414146\n",
            "Epoch 1, Batch 600, Loss: 0.30651481963694094\n",
            "Epoch 1, Batch 700, Loss: 0.2847393447160721\n",
            "Epoch 1, Batch 800, Loss: 0.2686259937286377\n",
            "Epoch 1, Batch 900, Loss: 0.2520951060205698\n",
            "Epoch 2, Batch 100, Loss: 0.2265528367459774\n",
            "Epoch 2, Batch 200, Loss: 0.21426969900727272\n",
            "Epoch 2, Batch 300, Loss: 0.2098431581258774\n",
            "Epoch 2, Batch 400, Loss: 0.20498727183789014\n",
            "Epoch 2, Batch 500, Loss: 0.18428351260721684\n",
            "Epoch 2, Batch 600, Loss: 0.19214443039149046\n",
            "Epoch 2, Batch 700, Loss: 0.18045929789543153\n",
            "Epoch 2, Batch 800, Loss: 0.18327367920428514\n",
            "Epoch 2, Batch 900, Loss: 0.16162763223052024\n",
            "Epoch 3, Batch 100, Loss: 0.16062510687857867\n",
            "Epoch 3, Batch 200, Loss: 0.1537906283326447\n",
            "Epoch 3, Batch 300, Loss: 0.14838563747704028\n",
            "Epoch 3, Batch 400, Loss: 0.1510808441787958\n",
            "Epoch 3, Batch 500, Loss: 0.14919266115874052\n",
            "Epoch 3, Batch 600, Loss: 0.14026588566601275\n",
            "Epoch 3, Batch 700, Loss: 0.13173562839627265\n",
            "Epoch 3, Batch 800, Loss: 0.13598011143505573\n",
            "Epoch 3, Batch 900, Loss: 0.13247537046670912\n",
            "Epoch 4, Batch 100, Loss: 0.10573656710796059\n",
            "Epoch 4, Batch 200, Loss: 0.11814876627177\n",
            "Epoch 4, Batch 300, Loss: 0.12897427869960665\n",
            "Epoch 4, Batch 400, Loss: 0.1077561785466969\n",
            "Epoch 4, Batch 500, Loss: 0.10627235375344753\n",
            "Epoch 4, Batch 600, Loss: 0.1008954034280032\n",
            "Epoch 4, Batch 700, Loss: 0.121810248256661\n",
            "Epoch 4, Batch 800, Loss: 0.12307122193276882\n",
            "Epoch 4, Batch 900, Loss: 0.11252762999385596\n",
            "Epoch 5, Batch 100, Loss: 0.10546055325306952\n",
            "Epoch 5, Batch 200, Loss: 0.09317308465018868\n",
            "Epoch 5, Batch 300, Loss: 0.0927005299832672\n",
            "Epoch 5, Batch 400, Loss: 0.09729098860174418\n",
            "Epoch 5, Batch 500, Loss: 0.09367927203886212\n",
            "Epoch 5, Batch 600, Loss: 0.10702901969663799\n",
            "Epoch 5, Batch 700, Loss: 0.09725202629342675\n",
            "Epoch 5, Batch 800, Loss: 0.10699747840408236\n",
            "Epoch 5, Batch 900, Loss: 0.09312535447068512\n",
            "Finished Training\n",
            "Accuracy on test set: 0.9648166666666667%\n"
          ]
        }
      ]
    },
    {
      "cell_type": "markdown",
      "source": [
        "## Step 4. Choose one of the proposed modifications below:\n",
        "\n",
        "### 1 - Add another Dense layer of 128 nodes"
      ],
      "metadata": {
        "id": "qGhsZdYAxh5j"
      }
    },
    {
      "cell_type": "code",
      "source": [
        "#Define the neural network architecture\n",
        "class MLP_New_Layer(nn.Module):\n",
        "    def __init__(self):\n",
        "        super(MLP_New_Layer, self).__init__()\n",
        "        self.fc1 = nn.Linear(28 * 28, 128)\n",
        "        self.fc2 = nn.Linear(128, 128)\n",
        "        self.fc3 = nn.Linear(128, 64)\n",
        "        self.fc4 = nn.Linear(64, 10)\n",
        "\n",
        "    def forward(self, x):\n",
        "        x = x.view(-1, 28 * 28)\n",
        "        x = torch.relu(self.fc1(x))\n",
        "        x = torch.relu(self.fc2(x))\n",
        "        x = torch.relu(self.fc3(x))\n",
        "        x = self.fc4(x)\n",
        "        return x\n",
        "\n",
        "# Initialize the neural network\n",
        "model_new_layer = MLP_New_Layer()\n",
        "\n",
        "model_new_layer = training(num_epochs=5,\n",
        "                          model=model_new_layer,\n",
        "                          criterion = nn.CrossEntropyLoss(),\n",
        "                          optimizer = optim.Adam(model_new_layer.parameters(), lr=0.001))\n",
        "\n",
        "correct_new_layer, total_new_layer, predictions_new_layer = evaluation(model=model_new_layer, test_data=test_loader)"
      ],
      "metadata": {
        "colab": {
          "base_uri": "https://localhost:8080/"
        },
        "id": "TJA6RrUpuhdL",
        "outputId": "702eb997-7bb0-4846-a3a8-ccca8f43a808"
      },
      "execution_count": 22,
      "outputs": [
        {
          "output_type": "stream",
          "name": "stdout",
          "text": [
            "Epoch 1, Batch 100, Loss: 1.0557862734794616\n",
            "Epoch 1, Batch 200, Loss: 0.4555537451803684\n",
            "Epoch 1, Batch 300, Loss: 0.3639594384282827\n",
            "Epoch 1, Batch 400, Loss: 0.34342685133218764\n",
            "Epoch 1, Batch 500, Loss: 0.2965361098200083\n",
            "Epoch 1, Batch 600, Loss: 0.2831004522740841\n",
            "Epoch 1, Batch 700, Loss: 0.2767154245823622\n",
            "Epoch 1, Batch 800, Loss: 0.2469369687885046\n",
            "Epoch 1, Batch 900, Loss: 0.23450019970536232\n",
            "Epoch 2, Batch 100, Loss: 0.22320871111005544\n",
            "Epoch 2, Batch 200, Loss: 0.19778829269111156\n",
            "Epoch 2, Batch 300, Loss: 0.15882108859717847\n",
            "Epoch 2, Batch 400, Loss: 0.17817970786243678\n",
            "Epoch 2, Batch 500, Loss: 0.17152989614754915\n",
            "Epoch 2, Batch 600, Loss: 0.17838418278843166\n",
            "Epoch 2, Batch 700, Loss: 0.15391884109005333\n",
            "Epoch 2, Batch 800, Loss: 0.16462317006662489\n",
            "Epoch 2, Batch 900, Loss: 0.1556646316871047\n",
            "Epoch 3, Batch 100, Loss: 0.1391058664396405\n",
            "Epoch 3, Batch 200, Loss: 0.12227777240797877\n",
            "Epoch 3, Batch 300, Loss: 0.12258778370916844\n",
            "Epoch 3, Batch 400, Loss: 0.1356216211616993\n",
            "Epoch 3, Batch 500, Loss: 0.13183974098414183\n",
            "Epoch 3, Batch 600, Loss: 0.13901817021891474\n",
            "Epoch 3, Batch 700, Loss: 0.1255362063460052\n",
            "Epoch 3, Batch 800, Loss: 0.14053039610851556\n",
            "Epoch 3, Batch 900, Loss: 0.12306881731376051\n",
            "Epoch 4, Batch 100, Loss: 0.10639618524350226\n",
            "Epoch 4, Batch 200, Loss: 0.11109949524514377\n",
            "Epoch 4, Batch 300, Loss: 0.11521636919118464\n",
            "Epoch 4, Batch 400, Loss: 0.10595121776685118\n",
            "Epoch 4, Batch 500, Loss: 0.09523887537419796\n",
            "Epoch 4, Batch 600, Loss: 0.11809441628865898\n",
            "Epoch 4, Batch 700, Loss: 0.11533570351079106\n",
            "Epoch 4, Batch 800, Loss: 0.10295456171967089\n",
            "Epoch 4, Batch 900, Loss: 0.09028436730615795\n",
            "Epoch 5, Batch 100, Loss: 0.08268232707865536\n",
            "Epoch 5, Batch 200, Loss: 0.08933229163754731\n",
            "Epoch 5, Batch 300, Loss: 0.09414162020199\n",
            "Epoch 5, Batch 400, Loss: 0.10705332208657638\n",
            "Epoch 5, Batch 500, Loss: 0.09614856272935868\n",
            "Epoch 5, Batch 600, Loss: 0.10046655049547554\n",
            "Epoch 5, Batch 700, Loss: 0.08901001639198512\n",
            "Epoch 5, Batch 800, Loss: 0.08446224665269256\n",
            "Epoch 5, Batch 900, Loss: 0.08231172659201548\n",
            "Finished Training\n",
            "Accuracy on test set: 96.41666666666666%\n"
          ]
        }
      ]
    },
    {
      "cell_type": "markdown",
      "source": [
        "### Increase the current number of nodes in the layer to 256"
      ],
      "metadata": {
        "id": "HSUuTyzlxwZu"
      }
    },
    {
      "cell_type": "code",
      "source": [
        "#Define the neural network architecture\n",
        "class MLP_Wide_Layer(nn.Module):\n",
        "    def __init__(self):\n",
        "        super(MLP_Wide_Layer, self).__init__()\n",
        "        self.fc1 = nn.Linear(28 * 28, 256)\n",
        "        self.fc2 = nn.Linear(256, 64)\n",
        "        self.fc3 = nn.Linear(64, 10)\n",
        "\n",
        "    def forward(self, x):\n",
        "        x = x.view(-1, 28 * 28)\n",
        "        x = torch.relu(self.fc1(x))\n",
        "        x = torch.relu(self.fc2(x))\n",
        "        x = self.fc3(x)\n",
        "        return x\n",
        "\n",
        "# Initialize the neural network\n",
        "model_wide_layer = MLP_Wide_Layer()\n",
        "model_wide_layer = training(num_epochs = 5,\n",
        "                           model = model_wide_layer,\n",
        "                           criterion = nn.CrossEntropyLoss(),\n",
        "                           optimizer = optim.Adam(model_wide_layer.parameters(), lr=0.001))\n",
        "\n",
        "\n",
        "correct_wide_layer, total_wide_layer, predictions_wide_layer = evaluation(model=model_wide_layer, test_data=test_loader)"
      ],
      "metadata": {
        "colab": {
          "base_uri": "https://localhost:8080/"
        },
        "id": "alHwpwPny3dt",
        "outputId": "70201754-7c16-4ca3-f099-651964332dce"
      },
      "execution_count": 23,
      "outputs": [
        {
          "output_type": "stream",
          "name": "stdout",
          "text": [
            "Epoch 1, Batch 100, Loss: 0.9424272522330284\n",
            "Epoch 1, Batch 200, Loss: 0.4240418589115143\n",
            "Epoch 1, Batch 300, Loss: 0.36668951243162157\n",
            "Epoch 1, Batch 400, Loss: 0.3067842849344015\n",
            "Epoch 1, Batch 500, Loss: 0.3175462307780981\n",
            "Epoch 1, Batch 600, Loss: 0.2699220734089613\n",
            "Epoch 1, Batch 700, Loss: 0.26662443809211256\n",
            "Epoch 1, Batch 800, Loss: 0.2528781507909298\n",
            "Epoch 1, Batch 900, Loss: 0.2271076226606965\n",
            "Epoch 2, Batch 100, Loss: 0.20904256656765938\n",
            "Epoch 2, Batch 200, Loss: 0.17788081422448157\n",
            "Epoch 2, Batch 300, Loss: 0.1904704776033759\n",
            "Epoch 2, Batch 400, Loss: 0.17190067730844022\n",
            "Epoch 2, Batch 500, Loss: 0.1460217322781682\n",
            "Epoch 2, Batch 600, Loss: 0.16180873159319162\n",
            "Epoch 2, Batch 700, Loss: 0.14768457766622306\n",
            "Epoch 2, Batch 800, Loss: 0.14939487632364035\n",
            "Epoch 2, Batch 900, Loss: 0.14207249365746974\n",
            "Epoch 3, Batch 100, Loss: 0.11458298670127988\n",
            "Epoch 3, Batch 200, Loss: 0.12878924099728464\n",
            "Epoch 3, Batch 300, Loss: 0.13697102658450602\n",
            "Epoch 3, Batch 400, Loss: 0.12561709174886346\n",
            "Epoch 3, Batch 500, Loss: 0.12859826384112238\n",
            "Epoch 3, Batch 600, Loss: 0.1310253505501896\n",
            "Epoch 3, Batch 700, Loss: 0.10833946196362376\n",
            "Epoch 3, Batch 800, Loss: 0.11504771414212883\n",
            "Epoch 3, Batch 900, Loss: 0.11229539109393954\n",
            "Epoch 4, Batch 100, Loss: 0.10185295391827821\n",
            "Epoch 4, Batch 200, Loss: 0.1039639542810619\n",
            "Epoch 4, Batch 300, Loss: 0.09045078536495567\n",
            "Epoch 4, Batch 400, Loss: 0.09598055860027671\n",
            "Epoch 4, Batch 500, Loss: 0.1154294223152101\n",
            "Epoch 4, Batch 600, Loss: 0.0963771050889045\n",
            "Epoch 4, Batch 700, Loss: 0.09920105800032615\n",
            "Epoch 4, Batch 800, Loss: 0.093562989118509\n",
            "Epoch 4, Batch 900, Loss: 0.09153388909995556\n",
            "Epoch 5, Batch 100, Loss: 0.0753250454319641\n",
            "Epoch 5, Batch 200, Loss: 0.08354493607766926\n",
            "Epoch 5, Batch 300, Loss: 0.07618815173394979\n",
            "Epoch 5, Batch 400, Loss: 0.08031868506688625\n",
            "Epoch 5, Batch 500, Loss: 0.08092811627313495\n",
            "Epoch 5, Batch 600, Loss: 0.08919875588733703\n",
            "Epoch 5, Batch 700, Loss: 0.08115796295925976\n",
            "Epoch 5, Batch 800, Loss: 0.08218034640885889\n",
            "Epoch 5, Batch 900, Loss: 0.09723641481250525\n",
            "Finished Training\n",
            "Accuracy on test set: 96.94666666666667%\n"
          ]
        }
      ]
    },
    {
      "cell_type": "markdown",
      "source": [
        "## Step 6. Report on the results of the modified model and if it matches your hypothesis"
      ],
      "metadata": {
        "id": "yQ_O--zmyquL"
      }
    },
    {
      "cell_type": "code",
      "source": [
        "import matplotlib.pyplot as plt\n",
        "\n",
        "# Define the percentages\n",
        "base_accuracy = correct / total * 100\n",
        "new_layer_accuracy = correct_new_layer / total * 100\n",
        "wide_accuracy = correct_wide_layer / total * 100\n",
        "\n",
        "# Define the labels for the bars\n",
        "labels = ['Base Network', 'Extra Layer Network', 'Wide Network']\n",
        "\n",
        "# Define the values for the bars\n",
        "values = [base_accuracy, new_layer_accuracy, wide_accuracy]\n",
        "\n",
        "# Create the bar chart\n",
        "plt.figure(figsize=(5, 3))\n",
        "bars = plt.bar(labels, values, color=['blue', 'green', 'red'])\n",
        "\n",
        "# Add percentage values on top of the bars\n",
        "for bar, value in zip(bars, values):\n",
        "    plt.text(bar.get_x() + bar.get_width() / 2, bar.get_height() + 1, f'{value:.3f}%', ha='center', va='bottom')\n",
        "\n",
        "plt.ylim(0, 110)\n",
        "# Add title and labels\n",
        "plt.title('Comparison of Percentages')\n",
        "plt.xlabel('Percentages')\n",
        "plt.ylabel('Percentage Value')\n",
        "\n",
        "# Show the plot\n",
        "plt.show()"
      ],
      "metadata": {
        "colab": {
          "base_uri": "https://localhost:8080/",
          "height": 333
        },
        "id": "XBF53IEAyvZB",
        "outputId": "ef87672d-e5b3-471c-9916-847cec27e9c8"
      },
      "execution_count": 38,
      "outputs": [
        {
          "output_type": "display_data",
          "data": {
            "text/plain": [
              "<Figure size 500x300 with 1 Axes>"
            ],
            "image/png": "[encoded data removed]"
          },
          "metadata": {}
        }
      ]
    },
    {
      "cell_type": "markdown",
      "source": [
        "## Step 7. Experiment with different optimizers, loss functions, dropout, and activation functions, and observe the change in performance as you tune these hyperparameters."
      ],
      "metadata": {
        "id": "9hMgygYPywMX"
      }
    },
    {
      "cell_type": "code",
      "source": [
        "#Define the neural network architecture\n",
        "class MLP_Flex(nn.Module):\n",
        "    def __init__(self, activation_function, dropout):\n",
        "        super(MLP_Flex, self).__init__()\n",
        "        self.activation_function = activation_function\n",
        "        self.dropout = dropout\n",
        "        self.fc1 = nn.Linear(28 * 28, 128)\n",
        "        self.fc2 = nn.Linear(128, 64)\n",
        "        self.fc3 = nn.Linear(64, 10)\n",
        "        self.dropout_fuction = nn.Dropout(p=dropout)\n",
        "\n",
        "    def forward(self, x):\n",
        "        x = x.view(-1, 28 * 28)\n",
        "        x = self.activation_function(self.fc1(x))\n",
        "        x = self.dropout_fuction(x)\n",
        "        x = self.activation_function(self.fc2(x))\n",
        "        x = self.dropout_fuction(x)\n",
        "        x = self.fc3(x)\n",
        "        return x\n"
      ],
      "metadata": {
        "id": "30ATDMXySdV_"
      },
      "execution_count": 6,
      "outputs": []
    },
    {
      "cell_type": "code",
      "source": [
        "optimizers = [optim.SGD, optim.Adam, optim.RMSprop]\n",
        "loss_functions = [nn.CrossEntropyLoss(), nn.MSELoss()]\n",
        "dropouts = [0.0, 0.2, 0.5]\n",
        "activation_functions = [nn.ReLU(), nn.Sigmoid()]\n",
        "\n",
        "for optimizer in optimizers:\n",
        "    for loss_function in loss_functions:\n",
        "        for dropout in dropouts:\n",
        "            for activation_function in activation_functions:\n",
        "                print(f'''\n",
        "                          Optimizer: {optimizer.__name__},\n",
        "                          Loss Function: {loss_function.__class__.__name__},\n",
        "                          Dropout Rate: {dropout},\n",
        "                          Activation: {activation_function.__class__.__name__}\n",
        "                      ''')\n",
        "\n",
        "                model = MLP_Flex(activation_function=activation_function, dropout=dropout)\n",
        "                training(num_epochs = 1,\n",
        "                         model = model,\n",
        "                         criterion = loss_function,\n",
        "                         optimizer = optimizer(model.parameters(), lr=0.001))\n",
        "                correct, total, predictions = evaluation(model=model, test_data=test_loader)\n",
        "                break\n",
        "                print('\\n')"
      ],
      "metadata": {
        "colab": {
          "base_uri": "https://localhost:8080/",
          "height": 971
        },
        "id": "73Lz9LoC1cP8",
        "outputId": "4fdb0ade-b1e9-414d-f103-5a1bc762825e"
      },
      "execution_count": 22,
      "outputs": [
        {
          "output_type": "stream",
          "name": "stdout",
          "text": [
            "\n",
            "                          Optimizer: SGD, \n",
            "                          Loss Function: CrossEntropyLoss, \n",
            "                          Dropout Rate: 0.0, \n",
            "                          Activation: ReLU\n",
            "                      \n",
            "Epoch 1, Batch 100, Loss: 2.2931670117378236\n",
            "Epoch 1, Batch 200, Loss: 2.277816734313965\n",
            "Epoch 1, Batch 300, Loss: 2.2642165088653563\n",
            "Epoch 1, Batch 400, Loss: 2.2431892800331115\n",
            "Epoch 1, Batch 500, Loss: 2.226974937915802\n",
            "Epoch 1, Batch 600, Loss: 2.2097926235198972\n",
            "Epoch 1, Batch 700, Loss: 2.190349287986755\n",
            "Epoch 1, Batch 800, Loss: 2.1708854246139526\n",
            "Epoch 1, Batch 900, Loss: 2.1399853587150575\n",
            "Finished Training\n",
            "Accuracy on test set: 0.4533333333333333%\n",
            "\n",
            "                          Optimizer: SGD, \n",
            "                          Loss Function: CrossEntropyLoss, \n",
            "                          Dropout Rate: 0.2, \n",
            "                          Activation: ReLU\n",
            "                      \n",
            "Epoch 1, Batch 100, Loss: 2.290478377342224\n",
            "Epoch 1, Batch 200, Loss: 2.2789035081863402\n",
            "Epoch 1, Batch 300, Loss: 2.2592530179023744\n",
            "Epoch 1, Batch 400, Loss: 2.2397340369224548\n",
            "Epoch 1, Batch 500, Loss: 2.2249032831192017\n",
            "Epoch 1, Batch 600, Loss: 2.205290822982788\n",
            "Epoch 1, Batch 700, Loss: 2.1773490953445434\n"
          ]
        },
        {
          "output_type": "error",
          "ename": "KeyboardInterrupt",
          "evalue": "",
          "traceback": [
            "\u001b[0;31m---------------------------------------------------------------------------\u001b[0m",
            "\u001b[0;31mKeyboardInterrupt\u001b[0m                         Traceback (most recent call last)",
            "\u001b[0;32m<ipython-input-22-e1e9cc426994>\u001b[0m in \u001b[0;36m<cell line: 6>\u001b[0;34m()\u001b[0m\n\u001b[1;32m     16\u001b[0m \u001b[0;34m\u001b[0m\u001b[0m\n\u001b[1;32m     17\u001b[0m                 \u001b[0mmodel\u001b[0m \u001b[0;34m=\u001b[0m \u001b[0mMLP_Flex\u001b[0m\u001b[0;34m(\u001b[0m\u001b[0mactivation_function\u001b[0m\u001b[0;34m=\u001b[0m\u001b[0mactivation_function\u001b[0m\u001b[0;34m,\u001b[0m \u001b[0mdropout\u001b[0m\u001b[0;34m=\u001b[0m\u001b[0mdropout\u001b[0m\u001b[0;34m)\u001b[0m\u001b[0;34m\u001b[0m\u001b[0;34m\u001b[0m\u001b[0m\n\u001b[0;32m---> 18\u001b[0;31m                 training(num_epochs = 1,\n\u001b[0m\u001b[1;32m     19\u001b[0m                          \u001b[0mmodel\u001b[0m \u001b[0;34m=\u001b[0m \u001b[0mmodel\u001b[0m\u001b[0;34m,\u001b[0m\u001b[0;34m\u001b[0m\u001b[0;34m\u001b[0m\u001b[0m\n\u001b[1;32m     20\u001b[0m                          \u001b[0mcriterion\u001b[0m \u001b[0;34m=\u001b[0m \u001b[0mloss_function\u001b[0m\u001b[0;34m,\u001b[0m\u001b[0;34m\u001b[0m\u001b[0;34m\u001b[0m\u001b[0m\n",
            "\u001b[0;32m<ipython-input-17-be7bd77aa9cd>\u001b[0m in \u001b[0;36mtraining\u001b[0;34m(num_epochs, model, criterion, optimizer)\u001b[0m\n\u001b[1;32m      5\u001b[0m         \u001b[0mmodel\u001b[0m\u001b[0;34m.\u001b[0m\u001b[0mtrain\u001b[0m\u001b[0;34m(\u001b[0m\u001b[0;34m)\u001b[0m\u001b[0;34m\u001b[0m\u001b[0;34m\u001b[0m\u001b[0m\n\u001b[1;32m      6\u001b[0m         \u001b[0mrunning_loss\u001b[0m \u001b[0;34m=\u001b[0m \u001b[0;36m0.0\u001b[0m\u001b[0;34m\u001b[0m\u001b[0;34m\u001b[0m\u001b[0m\n\u001b[0;32m----> 7\u001b[0;31m         \u001b[0;32mfor\u001b[0m \u001b[0mi\u001b[0m\u001b[0;34m,\u001b[0m \u001b[0mdata\u001b[0m \u001b[0;32min\u001b[0m \u001b[0menumerate\u001b[0m\u001b[0;34m(\u001b[0m\u001b[0mtrain_loader\u001b[0m\u001b[0;34m,\u001b[0m \u001b[0;36m0\u001b[0m\u001b[0;34m)\u001b[0m\u001b[0;34m:\u001b[0m\u001b[0;34m\u001b[0m\u001b[0;34m\u001b[0m\u001b[0m\n\u001b[0m\u001b[1;32m      8\u001b[0m             \u001b[0minputs\u001b[0m\u001b[0;34m,\u001b[0m \u001b[0mlabels\u001b[0m \u001b[0;34m=\u001b[0m \u001b[0mdata\u001b[0m\u001b[0;34m\u001b[0m\u001b[0;34m\u001b[0m\u001b[0m\n\u001b[1;32m      9\u001b[0m             \u001b[0moptimizer\u001b[0m\u001b[0;34m.\u001b[0m\u001b[0mzero_grad\u001b[0m\u001b[0;34m(\u001b[0m\u001b[0;34m)\u001b[0m\u001b[0;34m\u001b[0m\u001b[0;34m\u001b[0m\u001b[0m\n",
            "\u001b[0;32m/usr/local/lib/python3.10/dist-packages/torch/utils/data/dataloader.py\u001b[0m in \u001b[0;36m__next__\u001b[0;34m(self)\u001b[0m\n\u001b[1;32m    628\u001b[0m                 \u001b[0;31m# TODO(https://github.com/pytorch/pytorch/issues/76750)\u001b[0m\u001b[0;34m\u001b[0m\u001b[0;34m\u001b[0m\u001b[0m\n\u001b[1;32m    629\u001b[0m                 \u001b[0mself\u001b[0m\u001b[0;34m.\u001b[0m\u001b[0m_reset\u001b[0m\u001b[0;34m(\u001b[0m\u001b[0;34m)\u001b[0m  \u001b[0;31m# type: ignore[call-arg]\u001b[0m\u001b[0;34m\u001b[0m\u001b[0;34m\u001b[0m\u001b[0m\n\u001b[0;32m--> 630\u001b[0;31m             \u001b[0mdata\u001b[0m \u001b[0;34m=\u001b[0m \u001b[0mself\u001b[0m\u001b[0;34m.\u001b[0m\u001b[0m_next_data\u001b[0m\u001b[0;34m(\u001b[0m\u001b[0;34m)\u001b[0m\u001b[0;34m\u001b[0m\u001b[0;34m\u001b[0m\u001b[0m\n\u001b[0m\u001b[1;32m    631\u001b[0m             \u001b[0mself\u001b[0m\u001b[0;34m.\u001b[0m\u001b[0m_num_yielded\u001b[0m \u001b[0;34m+=\u001b[0m \u001b[0;36m1\u001b[0m\u001b[0;34m\u001b[0m\u001b[0;34m\u001b[0m\u001b[0m\n\u001b[1;32m    632\u001b[0m             \u001b[0;32mif\u001b[0m \u001b[0mself\u001b[0m\u001b[0;34m.\u001b[0m\u001b[0m_dataset_kind\u001b[0m \u001b[0;34m==\u001b[0m \u001b[0m_DatasetKind\u001b[0m\u001b[0;34m.\u001b[0m\u001b[0mIterable\u001b[0m \u001b[0;32mand\u001b[0m\u001b[0;31m \u001b[0m\u001b[0;31m\\\u001b[0m\u001b[0;34m\u001b[0m\u001b[0;34m\u001b[0m\u001b[0m\n",
            "\u001b[0;32m/usr/local/lib/python3.10/dist-packages/torch/utils/data/dataloader.py\u001b[0m in \u001b[0;36m_next_data\u001b[0;34m(self)\u001b[0m\n\u001b[1;32m    672\u001b[0m     \u001b[0;32mdef\u001b[0m \u001b[0m_next_data\u001b[0m\u001b[0;34m(\u001b[0m\u001b[0mself\u001b[0m\u001b[0;34m)\u001b[0m\u001b[0;34m:\u001b[0m\u001b[0;34m\u001b[0m\u001b[0;34m\u001b[0m\u001b[0m\n\u001b[1;32m    673\u001b[0m         \u001b[0mindex\u001b[0m \u001b[0;34m=\u001b[0m \u001b[0mself\u001b[0m\u001b[0;34m.\u001b[0m\u001b[0m_next_index\u001b[0m\u001b[0;34m(\u001b[0m\u001b[0;34m)\u001b[0m  \u001b[0;31m# may raise StopIteration\u001b[0m\u001b[0;34m\u001b[0m\u001b[0;34m\u001b[0m\u001b[0m\n\u001b[0;32m--> 674\u001b[0;31m         \u001b[0mdata\u001b[0m \u001b[0;34m=\u001b[0m \u001b[0mself\u001b[0m\u001b[0;34m.\u001b[0m\u001b[0m_dataset_fetcher\u001b[0m\u001b[0;34m.\u001b[0m\u001b[0mfetch\u001b[0m\u001b[0;34m(\u001b[0m\u001b[0mindex\u001b[0m\u001b[0;34m)\u001b[0m  \u001b[0;31m# may raise StopIteration\u001b[0m\u001b[0;34m\u001b[0m\u001b[0;34m\u001b[0m\u001b[0m\n\u001b[0m\u001b[1;32m    675\u001b[0m         \u001b[0;32mif\u001b[0m \u001b[0mself\u001b[0m\u001b[0;34m.\u001b[0m\u001b[0m_pin_memory\u001b[0m\u001b[0;34m:\u001b[0m\u001b[0;34m\u001b[0m\u001b[0;34m\u001b[0m\u001b[0m\n\u001b[1;32m    676\u001b[0m             \u001b[0mdata\u001b[0m \u001b[0;34m=\u001b[0m \u001b[0m_utils\u001b[0m\u001b[0;34m.\u001b[0m\u001b[0mpin_memory\u001b[0m\u001b[0;34m.\u001b[0m\u001b[0mpin_memory\u001b[0m\u001b[0;34m(\u001b[0m\u001b[0mdata\u001b[0m\u001b[0;34m,\u001b[0m \u001b[0mself\u001b[0m\u001b[0;34m.\u001b[0m\u001b[0m_pin_memory_device\u001b[0m\u001b[0;34m)\u001b[0m\u001b[0;34m\u001b[0m\u001b[0;34m\u001b[0m\u001b[0m\n",
            "\u001b[0;32m/usr/local/lib/python3.10/dist-packages/torch/utils/data/_utils/fetch.py\u001b[0m in \u001b[0;36mfetch\u001b[0;34m(self, possibly_batched_index)\u001b[0m\n\u001b[1;32m     49\u001b[0m                 \u001b[0mdata\u001b[0m \u001b[0;34m=\u001b[0m \u001b[0mself\u001b[0m\u001b[0;34m.\u001b[0m\u001b[0mdataset\u001b[0m\u001b[0;34m.\u001b[0m\u001b[0m__getitems__\u001b[0m\u001b[0;34m(\u001b[0m\u001b[0mpossibly_batched_index\u001b[0m\u001b[0;34m)\u001b[0m\u001b[0;34m\u001b[0m\u001b[0;34m\u001b[0m\u001b[0m\n\u001b[1;32m     50\u001b[0m             \u001b[0;32melse\u001b[0m\u001b[0;34m:\u001b[0m\u001b[0;34m\u001b[0m\u001b[0;34m\u001b[0m\u001b[0m\n\u001b[0;32m---> 51\u001b[0;31m                 \u001b[0mdata\u001b[0m \u001b[0;34m=\u001b[0m \u001b[0;34m[\u001b[0m\u001b[0mself\u001b[0m\u001b[0;34m.\u001b[0m\u001b[0mdataset\u001b[0m\u001b[0;34m[\u001b[0m\u001b[0midx\u001b[0m\u001b[0;34m]\u001b[0m \u001b[0;32mfor\u001b[0m \u001b[0midx\u001b[0m \u001b[0;32min\u001b[0m \u001b[0mpossibly_batched_index\u001b[0m\u001b[0;34m]\u001b[0m\u001b[0;34m\u001b[0m\u001b[0;34m\u001b[0m\u001b[0m\n\u001b[0m\u001b[1;32m     52\u001b[0m         \u001b[0;32melse\u001b[0m\u001b[0;34m:\u001b[0m\u001b[0;34m\u001b[0m\u001b[0;34m\u001b[0m\u001b[0m\n\u001b[1;32m     53\u001b[0m             \u001b[0mdata\u001b[0m \u001b[0;34m=\u001b[0m \u001b[0mself\u001b[0m\u001b[0;34m.\u001b[0m\u001b[0mdataset\u001b[0m\u001b[0;34m[\u001b[0m\u001b[0mpossibly_batched_index\u001b[0m\u001b[0;34m]\u001b[0m\u001b[0;34m\u001b[0m\u001b[0;34m\u001b[0m\u001b[0m\n",
            "\u001b[0;32m/usr/local/lib/python3.10/dist-packages/torch/utils/data/_utils/fetch.py\u001b[0m in \u001b[0;36m<listcomp>\u001b[0;34m(.0)\u001b[0m\n\u001b[1;32m     49\u001b[0m                 \u001b[0mdata\u001b[0m \u001b[0;34m=\u001b[0m \u001b[0mself\u001b[0m\u001b[0;34m.\u001b[0m\u001b[0mdataset\u001b[0m\u001b[0;34m.\u001b[0m\u001b[0m__getitems__\u001b[0m\u001b[0;34m(\u001b[0m\u001b[0mpossibly_batched_index\u001b[0m\u001b[0;34m)\u001b[0m\u001b[0;34m\u001b[0m\u001b[0;34m\u001b[0m\u001b[0m\n\u001b[1;32m     50\u001b[0m             \u001b[0;32melse\u001b[0m\u001b[0;34m:\u001b[0m\u001b[0;34m\u001b[0m\u001b[0;34m\u001b[0m\u001b[0m\n\u001b[0;32m---> 51\u001b[0;31m                 \u001b[0mdata\u001b[0m \u001b[0;34m=\u001b[0m \u001b[0;34m[\u001b[0m\u001b[0mself\u001b[0m\u001b[0;34m.\u001b[0m\u001b[0mdataset\u001b[0m\u001b[0;34m[\u001b[0m\u001b[0midx\u001b[0m\u001b[0;34m]\u001b[0m \u001b[0;32mfor\u001b[0m \u001b[0midx\u001b[0m \u001b[0;32min\u001b[0m \u001b[0mpossibly_batched_index\u001b[0m\u001b[0;34m]\u001b[0m\u001b[0;34m\u001b[0m\u001b[0;34m\u001b[0m\u001b[0m\n\u001b[0m\u001b[1;32m     52\u001b[0m         \u001b[0;32melse\u001b[0m\u001b[0;34m:\u001b[0m\u001b[0;34m\u001b[0m\u001b[0;34m\u001b[0m\u001b[0m\n\u001b[1;32m     53\u001b[0m             \u001b[0mdata\u001b[0m \u001b[0;34m=\u001b[0m \u001b[0mself\u001b[0m\u001b[0;34m.\u001b[0m\u001b[0mdataset\u001b[0m\u001b[0;34m[\u001b[0m\u001b[0mpossibly_batched_index\u001b[0m\u001b[0;34m]\u001b[0m\u001b[0;34m\u001b[0m\u001b[0;34m\u001b[0m\u001b[0m\n",
            "\u001b[0;32m/usr/local/lib/python3.10/dist-packages/torchvision/datasets/mnist.py\u001b[0m in \u001b[0;36m__getitem__\u001b[0;34m(self, index)\u001b[0m\n\u001b[1;32m    479\u001b[0m         \u001b[0mimg\u001b[0m \u001b[0;34m=\u001b[0m \u001b[0mImage\u001b[0m\u001b[0;34m.\u001b[0m\u001b[0mfromarray\u001b[0m\u001b[0;34m(\u001b[0m\u001b[0mimg\u001b[0m\u001b[0;34m.\u001b[0m\u001b[0mnumpy\u001b[0m\u001b[0;34m(\u001b[0m\u001b[0;34m)\u001b[0m\u001b[0;34m,\u001b[0m \u001b[0mmode\u001b[0m\u001b[0;34m=\u001b[0m\u001b[0;34m\"L\"\u001b[0m\u001b[0;34m)\u001b[0m\u001b[0;34m\u001b[0m\u001b[0;34m\u001b[0m\u001b[0m\n\u001b[1;32m    480\u001b[0m         \u001b[0;32mif\u001b[0m \u001b[0mself\u001b[0m\u001b[0;34m.\u001b[0m\u001b[0mtransform\u001b[0m \u001b[0;32mis\u001b[0m \u001b[0;32mnot\u001b[0m \u001b[0;32mNone\u001b[0m\u001b[0;34m:\u001b[0m\u001b[0;34m\u001b[0m\u001b[0;34m\u001b[0m\u001b[0m\n\u001b[0;32m--> 481\u001b[0;31m             \u001b[0mimg\u001b[0m \u001b[0;34m=\u001b[0m \u001b[0mself\u001b[0m\u001b[0;34m.\u001b[0m\u001b[0mtransform\u001b[0m\u001b[0;34m(\u001b[0m\u001b[0mimg\u001b[0m\u001b[0;34m)\u001b[0m\u001b[0;34m\u001b[0m\u001b[0;34m\u001b[0m\u001b[0m\n\u001b[0m\u001b[1;32m    482\u001b[0m         \u001b[0;32mif\u001b[0m \u001b[0mself\u001b[0m\u001b[0;34m.\u001b[0m\u001b[0mcompat\u001b[0m\u001b[0;34m:\u001b[0m\u001b[0;34m\u001b[0m\u001b[0;34m\u001b[0m\u001b[0m\n\u001b[1;32m    483\u001b[0m             \u001b[0mtarget\u001b[0m \u001b[0;34m=\u001b[0m \u001b[0mint\u001b[0m\u001b[0;34m(\u001b[0m\u001b[0mtarget\u001b[0m\u001b[0;34m[\u001b[0m\u001b[0;36m0\u001b[0m\u001b[0;34m]\u001b[0m\u001b[0;34m)\u001b[0m\u001b[0;34m\u001b[0m\u001b[0;34m\u001b[0m\u001b[0m\n",
            "\u001b[0;32m/usr/local/lib/python3.10/dist-packages/torchvision/transforms/transforms.py\u001b[0m in \u001b[0;36m__call__\u001b[0;34m(self, img)\u001b[0m\n\u001b[1;32m     93\u001b[0m     \u001b[0;32mdef\u001b[0m \u001b[0m__call__\u001b[0m\u001b[0;34m(\u001b[0m\u001b[0mself\u001b[0m\u001b[0;34m,\u001b[0m \u001b[0mimg\u001b[0m\u001b[0;34m)\u001b[0m\u001b[0;34m:\u001b[0m\u001b[0;34m\u001b[0m\u001b[0;34m\u001b[0m\u001b[0m\n\u001b[1;32m     94\u001b[0m         \u001b[0;32mfor\u001b[0m \u001b[0mt\u001b[0m \u001b[0;32min\u001b[0m \u001b[0mself\u001b[0m\u001b[0;34m.\u001b[0m\u001b[0mtransforms\u001b[0m\u001b[0;34m:\u001b[0m\u001b[0;34m\u001b[0m\u001b[0;34m\u001b[0m\u001b[0m\n\u001b[0;32m---> 95\u001b[0;31m             \u001b[0mimg\u001b[0m \u001b[0;34m=\u001b[0m \u001b[0mt\u001b[0m\u001b[0;34m(\u001b[0m\u001b[0mimg\u001b[0m\u001b[0;34m)\u001b[0m\u001b[0;34m\u001b[0m\u001b[0;34m\u001b[0m\u001b[0m\n\u001b[0m\u001b[1;32m     96\u001b[0m         \u001b[0;32mreturn\u001b[0m \u001b[0mimg\u001b[0m\u001b[0;34m\u001b[0m\u001b[0;34m\u001b[0m\u001b[0m\n\u001b[1;32m     97\u001b[0m \u001b[0;34m\u001b[0m\u001b[0m\n",
            "\u001b[0;32m/usr/local/lib/python3.10/dist-packages/torch/nn/modules/module.py\u001b[0m in \u001b[0;36m_wrapped_call_impl\u001b[0;34m(self, *args, **kwargs)\u001b[0m\n\u001b[1;32m   1516\u001b[0m             \u001b[0;32mreturn\u001b[0m \u001b[0mself\u001b[0m\u001b[0;34m.\u001b[0m\u001b[0m_compiled_call_impl\u001b[0m\u001b[0;34m(\u001b[0m\u001b[0;34m*\u001b[0m\u001b[0margs\u001b[0m\u001b[0;34m,\u001b[0m \u001b[0;34m**\u001b[0m\u001b[0mkwargs\u001b[0m\u001b[0;34m)\u001b[0m  \u001b[0;31m# type: ignore[misc]\u001b[0m\u001b[0;34m\u001b[0m\u001b[0;34m\u001b[0m\u001b[0m\n\u001b[1;32m   1517\u001b[0m         \u001b[0;32melse\u001b[0m\u001b[0;34m:\u001b[0m\u001b[0;34m\u001b[0m\u001b[0;34m\u001b[0m\u001b[0m\n\u001b[0;32m-> 1518\u001b[0;31m             \u001b[0;32mreturn\u001b[0m \u001b[0mself\u001b[0m\u001b[0;34m.\u001b[0m\u001b[0m_call_impl\u001b[0m\u001b[0;34m(\u001b[0m\u001b[0;34m*\u001b[0m\u001b[0margs\u001b[0m\u001b[0;34m,\u001b[0m \u001b[0;34m**\u001b[0m\u001b[0mkwargs\u001b[0m\u001b[0;34m)\u001b[0m\u001b[0;34m\u001b[0m\u001b[0;34m\u001b[0m\u001b[0m\n\u001b[0m\u001b[1;32m   1519\u001b[0m \u001b[0;34m\u001b[0m\u001b[0m\n\u001b[1;32m   1520\u001b[0m     \u001b[0;32mdef\u001b[0m \u001b[0m_call_impl\u001b[0m\u001b[0;34m(\u001b[0m\u001b[0mself\u001b[0m\u001b[0;34m,\u001b[0m \u001b[0;34m*\u001b[0m\u001b[0margs\u001b[0m\u001b[0;34m,\u001b[0m \u001b[0;34m**\u001b[0m\u001b[0mkwargs\u001b[0m\u001b[0;34m)\u001b[0m\u001b[0;34m:\u001b[0m\u001b[0;34m\u001b[0m\u001b[0;34m\u001b[0m\u001b[0m\n",
            "\u001b[0;32m/usr/local/lib/python3.10/dist-packages/torch/nn/modules/module.py\u001b[0m in \u001b[0;36m_call_impl\u001b[0;34m(self, *args, **kwargs)\u001b[0m\n\u001b[1;32m   1525\u001b[0m                 \u001b[0;32mor\u001b[0m \u001b[0m_global_backward_pre_hooks\u001b[0m \u001b[0;32mor\u001b[0m \u001b[0m_global_backward_hooks\u001b[0m\u001b[0;34m\u001b[0m\u001b[0;34m\u001b[0m\u001b[0m\n\u001b[1;32m   1526\u001b[0m                 or _global_forward_hooks or _global_forward_pre_hooks):\n\u001b[0;32m-> 1527\u001b[0;31m             \u001b[0;32mreturn\u001b[0m \u001b[0mforward_call\u001b[0m\u001b[0;34m(\u001b[0m\u001b[0;34m*\u001b[0m\u001b[0margs\u001b[0m\u001b[0;34m,\u001b[0m \u001b[0;34m**\u001b[0m\u001b[0mkwargs\u001b[0m\u001b[0;34m)\u001b[0m\u001b[0;34m\u001b[0m\u001b[0;34m\u001b[0m\u001b[0m\n\u001b[0m\u001b[1;32m   1528\u001b[0m \u001b[0;34m\u001b[0m\u001b[0m\n\u001b[1;32m   1529\u001b[0m         \u001b[0;32mtry\u001b[0m\u001b[0;34m:\u001b[0m\u001b[0;34m\u001b[0m\u001b[0;34m\u001b[0m\u001b[0m\n",
            "\u001b[0;32m/usr/local/lib/python3.10/dist-packages/torchvision/transforms/transforms.py\u001b[0m in \u001b[0;36mforward\u001b[0;34m(self, tensor)\u001b[0m\n\u001b[1;32m    275\u001b[0m             \u001b[0mTensor\u001b[0m\u001b[0;34m:\u001b[0m \u001b[0mNormalized\u001b[0m \u001b[0mTensor\u001b[0m \u001b[0mimage\u001b[0m\u001b[0;34m.\u001b[0m\u001b[0;34m\u001b[0m\u001b[0;34m\u001b[0m\u001b[0m\n\u001b[1;32m    276\u001b[0m         \"\"\"\n\u001b[0;32m--> 277\u001b[0;31m         \u001b[0;32mreturn\u001b[0m \u001b[0mF\u001b[0m\u001b[0;34m.\u001b[0m\u001b[0mnormalize\u001b[0m\u001b[0;34m(\u001b[0m\u001b[0mtensor\u001b[0m\u001b[0;34m,\u001b[0m \u001b[0mself\u001b[0m\u001b[0;34m.\u001b[0m\u001b[0mmean\u001b[0m\u001b[0;34m,\u001b[0m \u001b[0mself\u001b[0m\u001b[0;34m.\u001b[0m\u001b[0mstd\u001b[0m\u001b[0;34m,\u001b[0m \u001b[0mself\u001b[0m\u001b[0;34m.\u001b[0m\u001b[0minplace\u001b[0m\u001b[0;34m)\u001b[0m\u001b[0;34m\u001b[0m\u001b[0;34m\u001b[0m\u001b[0m\n\u001b[0m\u001b[1;32m    278\u001b[0m \u001b[0;34m\u001b[0m\u001b[0m\n\u001b[1;32m    279\u001b[0m     \u001b[0;32mdef\u001b[0m \u001b[0m__repr__\u001b[0m\u001b[0;34m(\u001b[0m\u001b[0mself\u001b[0m\u001b[0;34m)\u001b[0m \u001b[0;34m->\u001b[0m \u001b[0mstr\u001b[0m\u001b[0;34m:\u001b[0m\u001b[0;34m\u001b[0m\u001b[0;34m\u001b[0m\u001b[0m\n",
            "\u001b[0;32m/usr/local/lib/python3.10/dist-packages/torchvision/transforms/functional.py\u001b[0m in \u001b[0;36mnormalize\u001b[0;34m(tensor, mean, std, inplace)\u001b[0m\n\u001b[1;32m    361\u001b[0m         \u001b[0;32mraise\u001b[0m \u001b[0mTypeError\u001b[0m\u001b[0;34m(\u001b[0m\u001b[0;34mf\"img should be Tensor Image. Got {type(tensor)}\"\u001b[0m\u001b[0;34m)\u001b[0m\u001b[0;34m\u001b[0m\u001b[0;34m\u001b[0m\u001b[0m\n\u001b[1;32m    362\u001b[0m \u001b[0;34m\u001b[0m\u001b[0m\n\u001b[0;32m--> 363\u001b[0;31m     \u001b[0;32mreturn\u001b[0m \u001b[0mF_t\u001b[0m\u001b[0;34m.\u001b[0m\u001b[0mnormalize\u001b[0m\u001b[0;34m(\u001b[0m\u001b[0mtensor\u001b[0m\u001b[0;34m,\u001b[0m \u001b[0mmean\u001b[0m\u001b[0;34m=\u001b[0m\u001b[0mmean\u001b[0m\u001b[0;34m,\u001b[0m \u001b[0mstd\u001b[0m\u001b[0;34m=\u001b[0m\u001b[0mstd\u001b[0m\u001b[0;34m,\u001b[0m \u001b[0minplace\u001b[0m\u001b[0;34m=\u001b[0m\u001b[0minplace\u001b[0m\u001b[0;34m)\u001b[0m\u001b[0;34m\u001b[0m\u001b[0;34m\u001b[0m\u001b[0m\n\u001b[0m\u001b[1;32m    364\u001b[0m \u001b[0;34m\u001b[0m\u001b[0m\n\u001b[1;32m    365\u001b[0m \u001b[0;34m\u001b[0m\u001b[0m\n",
            "\u001b[0;32m/usr/local/lib/python3.10/dist-packages/torchvision/transforms/_functional_tensor.py\u001b[0m in \u001b[0;36mnormalize\u001b[0;34m(tensor, mean, std, inplace)\u001b[0m\n\u001b[1;32m    926\u001b[0m     \u001b[0;32mif\u001b[0m \u001b[0mstd\u001b[0m\u001b[0;34m.\u001b[0m\u001b[0mndim\u001b[0m \u001b[0;34m==\u001b[0m \u001b[0;36m1\u001b[0m\u001b[0;34m:\u001b[0m\u001b[0;34m\u001b[0m\u001b[0;34m\u001b[0m\u001b[0m\n\u001b[1;32m    927\u001b[0m         \u001b[0mstd\u001b[0m \u001b[0;34m=\u001b[0m \u001b[0mstd\u001b[0m\u001b[0;34m.\u001b[0m\u001b[0mview\u001b[0m\u001b[0;34m(\u001b[0m\u001b[0;34m-\u001b[0m\u001b[0;36m1\u001b[0m\u001b[0;34m,\u001b[0m \u001b[0;36m1\u001b[0m\u001b[0;34m,\u001b[0m \u001b[0;36m1\u001b[0m\u001b[0;34m)\u001b[0m\u001b[0;34m\u001b[0m\u001b[0;34m\u001b[0m\u001b[0m\n\u001b[0;32m--> 928\u001b[0;31m     \u001b[0;32mreturn\u001b[0m \u001b[0mtensor\u001b[0m\u001b[0;34m.\u001b[0m\u001b[0msub_\u001b[0m\u001b[0;34m(\u001b[0m\u001b[0mmean\u001b[0m\u001b[0;34m)\u001b[0m\u001b[0;34m.\u001b[0m\u001b[0mdiv_\u001b[0m\u001b[0;34m(\u001b[0m\u001b[0mstd\u001b[0m\u001b[0;34m)\u001b[0m\u001b[0;34m\u001b[0m\u001b[0;34m\u001b[0m\u001b[0m\n\u001b[0m\u001b[1;32m    929\u001b[0m \u001b[0;34m\u001b[0m\u001b[0m\n\u001b[1;32m    930\u001b[0m \u001b[0;34m\u001b[0m\u001b[0m\n",
            "\u001b[0;31mKeyboardInterrupt\u001b[0m: "
          ]
        }
      ]
    },
    {
      "cell_type": "code",
      "source": [],
      "metadata": {
        "id": "2iDMDRf7WQGm"
      },
      "execution_count": null,
      "outputs": []
    }
  ]
}